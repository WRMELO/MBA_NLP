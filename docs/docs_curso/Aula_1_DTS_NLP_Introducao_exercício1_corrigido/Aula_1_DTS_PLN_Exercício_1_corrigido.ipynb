{
  "cells": [
    {
      "cell_type": "markdown",
      "metadata": {
        "id": "1FdxZAH6TWPH"
      },
      "source": [
        "#**Exercícios - Aula 1**"
      ]
    },
    {
      "cell_type": "markdown",
      "metadata": {
        "id": "fXEgdkBma6Qq"
      },
      "source": [
        "## 1) Dado o dataset de produtos [1]:\n",
        "\n",
        "[1] - https://dados-ml-pln.s3-sa-east-1.amazonaws.com/produtos.csv"
      ]
    },
    {
      "cell_type": "code",
      "execution_count": 1,
      "metadata": {
        "id": "b3xBLIOPIyCj"
      },
      "outputs": [],
      "source": [
        "import pandas as pd\n",
        "\n",
        "df = pd.read_csv(\n",
        "    \"https://dados-ml-pln.s3-sa-east-1.amazonaws.com/produtos.csv\",\n",
        "    delimiter=\";\",\n",
        "    encoding='utf-8' )"
      ]
    },
    {
      "cell_type": "code",
      "execution_count": 2,
      "metadata": {
        "colab": {
          "base_uri": "https://localhost:8080/",
          "height": 206
        },
        "id": "f_N7j_SsJyfb",
        "outputId": "75a4cfc4-c31d-4506-e793-84d120634e62"
      },
      "outputs": [
        {
          "data": {
            "application/vnd.google.colaboratory.intrinsic+json": {
              "summary": "{\n  \"name\": \"df\",\n  \"rows\": 4080,\n  \"fields\": [\n    {\n      \"column\": \"nome\",\n      \"properties\": {\n        \"dtype\": \"string\",\n        \"num_unique_values\": 3696,\n        \"samples\": [\n          \" Varinha Hermione + Colar Harry Potter Rel\\u00edquias Da Morte \",\n          \" Homem Que Calculava, O (edi\\u00e7ao Especial) \",\n          \" Nas Montanhas Do Marrocos \"\n        ],\n        \"semantic_type\": \"\",\n        \"description\": \"\"\n      }\n    },\n    {\n      \"column\": \"descricao\",\n      \"properties\": {\n        \"dtype\": \"string\",\n        \"num_unique_values\": 2460,\n        \"samples\": [\n          \"DESCRI\\u00c7\\u00c3O DO KIT MAQUIAGEM V255:- 1 Base L\\u00edquida Matte Luxo Ruby  - 1 Primer Facial PRE BASE AVON  - 1 P\\u00f3 F\\u00e1cial Compacto Mattte Ruby - 1 Demaquilante AVON  - 1 Corretivo em Bast\\u00e3o e Corretivo L\\u00edquido 2 em 1 Ruby Rose  - 1 Creme Hidratante prote\\u00e7\\u00e3o 24 horas AVON   - 1 Kit Cuidados com a Pele Mary Kay  - 24 Cores de Sombra Matte Fosca paleta profissional Bella Angel  - 1 Lip Gloss Labial  - 1 Batons Matte Fosco Queen  - 1 Batom Ultra color Matte AVON - 1 Lip Gloss Labial AVON - 1 Batom e Batom Matte Liquido 2 em 1 Ruby Rose  - 1 P\\u00f3 Bronzeador Bella Angel ou Vult  - 1 Esmalte secagem r\\u00e1pida AVON  - 1 M\\u00e1scara para os C\\u00edlios Black Extra Volume AVON  - 1 apontador Duplo profissional Macrilan  - 1 Pin\\u00e7a profissional Macrilan  - 25 len\\u00e7os demaquilantes Macrilan  - 2 Esponjas para aplicar maquiagem Macrilan - 12 pinceis profissionais Cabo de Madeira Duo Fiber Macrilan  Descri\\u00e7\\u00e3o do Kit Profissional de Pinceis:- 1 Carteira para pinceis Luxo original Macrilan  - 1 pincel para P\\u00f3 facial, cabo de Madeira cerdas Macias 19cm  - 1 pincel para blush chanfrado , cabo de Madeira cerdas Macias 19cm  - 1 pincel para base, cabo de Madeira cerdas Macias 19cm  - 1 pincel duo fiber , cabo de Madeira cerdas Macias 19cm  - 1 pincel para esfumar c\\u00f4ncavo , cabo de Madeira cerdas Macias 19cm  - 5 pinceis para olhos , cabo de Madeira cerdas Macias 19cm  - 1 pincel para boca , cabo de Madeira cerdas Macias 19cm  - 1 Pincel pente para sobrancelhas , cabo de Madeira cerdas Macias 19cm  Descri\\u00e7\\u00e3o da Maleta :- Maleta especial para Maquiador , pr\\u00f3pria para transportar maquiagem e produtos de cuidado com a pele , Maleta com divis\\u00f3rias . Ajuste as divis\\u00f3rias da melhor forma para acomodar separadamente seu material de trabalho. Resistente e pr\\u00e1tica.- 1 Maleta Grande Profissional  -Cantoneiras em a\\u00e7o inox polido - 4 p\\u00e9s de apoio - Al\\u00e7a de M\\u00e3o em alum\\u00ednio  - fechaduras com chave - Divis\\u00f3rias ajust\\u00e1veis - 6 Bandejas deslizantes  - Medidas : 36cm x 26cm x 26cmTemos a Maleta dispon\\u00edvel na cor : Prata, Preta\",\n          \"C\\u00edlios Posti\\u00e7os para aplica\\u00e7\\u00e3o Fio a Fio NavinaOp\\u00e7\\u00f5es dispon\\u00edveis - 8mm, 10mm, 12mm e 14mmPre\\u00e7o referente a 1 caixa.Este kit n\\u00e3o cont\\u00e9m cola.Ap\\u00f3s o pagamento escolha entre os tamanhos e envie mensagem no campo de perguntas do Mercado Livre.SE OS TAMANHOS N\\u00c3O FOREM INFORMADOS, O ENVIO SER\\u00c1 ALEAT\\u00d3RIO!!!!\",\n          \"Descri\\u00e7\\u00e3o do Kit Ninja (Foto):Duas Kunais de Borracha de 25cmDuas Shurikens de Borracha com 10cm\\u00a0\"\n        ],\n        \"semantic_type\": \"\",\n        \"description\": \"\"\n      }\n    },\n    {\n      \"column\": \"categoria\",\n      \"properties\": {\n        \"dtype\": \"category\",\n        \"num_unique_values\": 4,\n        \"samples\": [\n          \"brinquedo\",\n          \"game\",\n          \"livro\"\n        ],\n        \"semantic_type\": \"\",\n        \"description\": \"\"\n      }\n    }\n  ]\n}",
              "type": "dataframe",
              "variable_name": "df"
            },
            "text/html": [
              "\n",
              "  <div id=\"df-927faac5-7fc6-4761-ae5f-170a0e9a0179\" class=\"colab-df-container\">\n",
              "    <div>\n",
              "<style scoped>\n",
              "    .dataframe tbody tr th:only-of-type {\n",
              "        vertical-align: middle;\n",
              "    }\n",
              "\n",
              "    .dataframe tbody tr th {\n",
              "        vertical-align: top;\n",
              "    }\n",
              "\n",
              "    .dataframe thead th {\n",
              "        text-align: right;\n",
              "    }\n",
              "</style>\n",
              "<table border=\"1\" class=\"dataframe\">\n",
              "  <thead>\n",
              "    <tr style=\"text-align: right;\">\n",
              "      <th></th>\n",
              "      <th>nome</th>\n",
              "      <th>descricao</th>\n",
              "      <th>categoria</th>\n",
              "    </tr>\n",
              "  </thead>\n",
              "  <tbody>\n",
              "    <tr>\n",
              "      <th>0</th>\n",
              "      <td>O Hobbit - 7ª Ed. 2013</td>\n",
              "      <td>Produto NovoBilbo Bolseiro é um hobbit que lev...</td>\n",
              "      <td>livro</td>\n",
              "    </tr>\n",
              "    <tr>\n",
              "      <th>1</th>\n",
              "      <td>Livro - It A Coisa - Stephen King</td>\n",
              "      <td>Produto NovoDurante as férias escolares de 195...</td>\n",
              "      <td>livro</td>\n",
              "    </tr>\n",
              "    <tr>\n",
              "      <th>2</th>\n",
              "      <td>Box  As Crônicas De Gelo E Fogo  Pocket  5 Li...</td>\n",
              "      <td>Produto NovoTodo o reino de Westeros ao alcanc...</td>\n",
              "      <td>livro</td>\n",
              "    </tr>\n",
              "    <tr>\n",
              "      <th>3</th>\n",
              "      <td>Box Harry Potter</td>\n",
              "      <td>Produto Novo e Físico  A série Harry Potter ch...</td>\n",
              "      <td>livro</td>\n",
              "    </tr>\n",
              "    <tr>\n",
              "      <th>4</th>\n",
              "      <td>Livro Origem - Dan Brown</td>\n",
              "      <td>Produto NovoDe Onde Viemos? Para Onde Vamos? R...</td>\n",
              "      <td>livro</td>\n",
              "    </tr>\n",
              "  </tbody>\n",
              "</table>\n",
              "</div>\n",
              "    <div class=\"colab-df-buttons\">\n",
              "\n",
              "  <div class=\"colab-df-container\">\n",
              "    <button class=\"colab-df-convert\" onclick=\"convertToInteractive('df-927faac5-7fc6-4761-ae5f-170a0e9a0179')\"\n",
              "            title=\"Convert this dataframe to an interactive table.\"\n",
              "            style=\"display:none;\">\n",
              "\n",
              "  <svg xmlns=\"http://www.w3.org/2000/svg\" height=\"24px\" viewBox=\"0 -960 960 960\">\n",
              "    <path d=\"M120-120v-720h720v720H120Zm60-500h600v-160H180v160Zm220 220h160v-160H400v160Zm0 220h160v-160H400v160ZM180-400h160v-160H180v160Zm440 0h160v-160H620v160ZM180-180h160v-160H180v160Zm440 0h160v-160H620v160Z\"/>\n",
              "  </svg>\n",
              "    </button>\n",
              "\n",
              "  <style>\n",
              "    .colab-df-container {\n",
              "      display:flex;\n",
              "      gap: 12px;\n",
              "    }\n",
              "\n",
              "    .colab-df-convert {\n",
              "      background-color: #E8F0FE;\n",
              "      border: none;\n",
              "      border-radius: 50%;\n",
              "      cursor: pointer;\n",
              "      display: none;\n",
              "      fill: #1967D2;\n",
              "      height: 32px;\n",
              "      padding: 0 0 0 0;\n",
              "      width: 32px;\n",
              "    }\n",
              "\n",
              "    .colab-df-convert:hover {\n",
              "      background-color: #E2EBFA;\n",
              "      box-shadow: 0px 1px 2px rgba(60, 64, 67, 0.3), 0px 1px 3px 1px rgba(60, 64, 67, 0.15);\n",
              "      fill: #174EA6;\n",
              "    }\n",
              "\n",
              "    .colab-df-buttons div {\n",
              "      margin-bottom: 4px;\n",
              "    }\n",
              "\n",
              "    [theme=dark] .colab-df-convert {\n",
              "      background-color: #3B4455;\n",
              "      fill: #D2E3FC;\n",
              "    }\n",
              "\n",
              "    [theme=dark] .colab-df-convert:hover {\n",
              "      background-color: #434B5C;\n",
              "      box-shadow: 0px 1px 3px 1px rgba(0, 0, 0, 0.15);\n",
              "      filter: drop-shadow(0px 1px 2px rgba(0, 0, 0, 0.3));\n",
              "      fill: #FFFFFF;\n",
              "    }\n",
              "  </style>\n",
              "\n",
              "    <script>\n",
              "      const buttonEl =\n",
              "        document.querySelector('#df-927faac5-7fc6-4761-ae5f-170a0e9a0179 button.colab-df-convert');\n",
              "      buttonEl.style.display =\n",
              "        google.colab.kernel.accessAllowed ? 'block' : 'none';\n",
              "\n",
              "      async function convertToInteractive(key) {\n",
              "        const element = document.querySelector('#df-927faac5-7fc6-4761-ae5f-170a0e9a0179');\n",
              "        const dataTable =\n",
              "          await google.colab.kernel.invokeFunction('convertToInteractive',\n",
              "                                                    [key], {});\n",
              "        if (!dataTable) return;\n",
              "\n",
              "        const docLinkHtml = 'Like what you see? Visit the ' +\n",
              "          '<a target=\"_blank\" href=https://colab.research.google.com/notebooks/data_table.ipynb>data table notebook</a>'\n",
              "          + ' to learn more about interactive tables.';\n",
              "        element.innerHTML = '';\n",
              "        dataTable['output_type'] = 'display_data';\n",
              "        await google.colab.output.renderOutput(dataTable, element);\n",
              "        const docLink = document.createElement('div');\n",
              "        docLink.innerHTML = docLinkHtml;\n",
              "        element.appendChild(docLink);\n",
              "      }\n",
              "    </script>\n",
              "  </div>\n",
              "\n",
              "\n",
              "    <div id=\"df-8f5f3429-7b2a-4722-8f6e-1ab233443506\">\n",
              "      <button class=\"colab-df-quickchart\" onclick=\"quickchart('df-8f5f3429-7b2a-4722-8f6e-1ab233443506')\"\n",
              "                title=\"Suggest charts\"\n",
              "                style=\"display:none;\">\n",
              "\n",
              "<svg xmlns=\"http://www.w3.org/2000/svg\" height=\"24px\"viewBox=\"0 0 24 24\"\n",
              "     width=\"24px\">\n",
              "    <g>\n",
              "        <path d=\"M19 3H5c-1.1 0-2 .9-2 2v14c0 1.1.9 2 2 2h14c1.1 0 2-.9 2-2V5c0-1.1-.9-2-2-2zM9 17H7v-7h2v7zm4 0h-2V7h2v10zm4 0h-2v-4h2v4z\"/>\n",
              "    </g>\n",
              "</svg>\n",
              "      </button>\n",
              "\n",
              "<style>\n",
              "  .colab-df-quickchart {\n",
              "      --bg-color: #E8F0FE;\n",
              "      --fill-color: #1967D2;\n",
              "      --hover-bg-color: #E2EBFA;\n",
              "      --hover-fill-color: #174EA6;\n",
              "      --disabled-fill-color: #AAA;\n",
              "      --disabled-bg-color: #DDD;\n",
              "  }\n",
              "\n",
              "  [theme=dark] .colab-df-quickchart {\n",
              "      --bg-color: #3B4455;\n",
              "      --fill-color: #D2E3FC;\n",
              "      --hover-bg-color: #434B5C;\n",
              "      --hover-fill-color: #FFFFFF;\n",
              "      --disabled-bg-color: #3B4455;\n",
              "      --disabled-fill-color: #666;\n",
              "  }\n",
              "\n",
              "  .colab-df-quickchart {\n",
              "    background-color: var(--bg-color);\n",
              "    border: none;\n",
              "    border-radius: 50%;\n",
              "    cursor: pointer;\n",
              "    display: none;\n",
              "    fill: var(--fill-color);\n",
              "    height: 32px;\n",
              "    padding: 0;\n",
              "    width: 32px;\n",
              "  }\n",
              "\n",
              "  .colab-df-quickchart:hover {\n",
              "    background-color: var(--hover-bg-color);\n",
              "    box-shadow: 0 1px 2px rgba(60, 64, 67, 0.3), 0 1px 3px 1px rgba(60, 64, 67, 0.15);\n",
              "    fill: var(--button-hover-fill-color);\n",
              "  }\n",
              "\n",
              "  .colab-df-quickchart-complete:disabled,\n",
              "  .colab-df-quickchart-complete:disabled:hover {\n",
              "    background-color: var(--disabled-bg-color);\n",
              "    fill: var(--disabled-fill-color);\n",
              "    box-shadow: none;\n",
              "  }\n",
              "\n",
              "  .colab-df-spinner {\n",
              "    border: 2px solid var(--fill-color);\n",
              "    border-color: transparent;\n",
              "    border-bottom-color: var(--fill-color);\n",
              "    animation:\n",
              "      spin 1s steps(1) infinite;\n",
              "  }\n",
              "\n",
              "  @keyframes spin {\n",
              "    0% {\n",
              "      border-color: transparent;\n",
              "      border-bottom-color: var(--fill-color);\n",
              "      border-left-color: var(--fill-color);\n",
              "    }\n",
              "    20% {\n",
              "      border-color: transparent;\n",
              "      border-left-color: var(--fill-color);\n",
              "      border-top-color: var(--fill-color);\n",
              "    }\n",
              "    30% {\n",
              "      border-color: transparent;\n",
              "      border-left-color: var(--fill-color);\n",
              "      border-top-color: var(--fill-color);\n",
              "      border-right-color: var(--fill-color);\n",
              "    }\n",
              "    40% {\n",
              "      border-color: transparent;\n",
              "      border-right-color: var(--fill-color);\n",
              "      border-top-color: var(--fill-color);\n",
              "    }\n",
              "    60% {\n",
              "      border-color: transparent;\n",
              "      border-right-color: var(--fill-color);\n",
              "    }\n",
              "    80% {\n",
              "      border-color: transparent;\n",
              "      border-right-color: var(--fill-color);\n",
              "      border-bottom-color: var(--fill-color);\n",
              "    }\n",
              "    90% {\n",
              "      border-color: transparent;\n",
              "      border-bottom-color: var(--fill-color);\n",
              "    }\n",
              "  }\n",
              "</style>\n",
              "\n",
              "      <script>\n",
              "        async function quickchart(key) {\n",
              "          const quickchartButtonEl =\n",
              "            document.querySelector('#' + key + ' button');\n",
              "          quickchartButtonEl.disabled = true;  // To prevent multiple clicks.\n",
              "          quickchartButtonEl.classList.add('colab-df-spinner');\n",
              "          try {\n",
              "            const charts = await google.colab.kernel.invokeFunction(\n",
              "                'suggestCharts', [key], {});\n",
              "          } catch (error) {\n",
              "            console.error('Error during call to suggestCharts:', error);\n",
              "          }\n",
              "          quickchartButtonEl.classList.remove('colab-df-spinner');\n",
              "          quickchartButtonEl.classList.add('colab-df-quickchart-complete');\n",
              "        }\n",
              "        (() => {\n",
              "          let quickchartButtonEl =\n",
              "            document.querySelector('#df-8f5f3429-7b2a-4722-8f6e-1ab233443506 button');\n",
              "          quickchartButtonEl.style.display =\n",
              "            google.colab.kernel.accessAllowed ? 'block' : 'none';\n",
              "        })();\n",
              "      </script>\n",
              "    </div>\n",
              "\n",
              "    </div>\n",
              "  </div>\n"
            ],
            "text/plain": [
              "                                                nome  \\\n",
              "0                            O Hobbit - 7ª Ed. 2013    \n",
              "1                 Livro - It A Coisa - Stephen King    \n",
              "2   Box  As Crônicas De Gelo E Fogo  Pocket  5 Li...   \n",
              "3                                  Box Harry Potter    \n",
              "4                          Livro Origem - Dan Brown    \n",
              "\n",
              "                                           descricao categoria  \n",
              "0  Produto NovoBilbo Bolseiro é um hobbit que lev...     livro  \n",
              "1  Produto NovoDurante as férias escolares de 195...     livro  \n",
              "2  Produto NovoTodo o reino de Westeros ao alcanc...     livro  \n",
              "3  Produto Novo e Físico  A série Harry Potter ch...     livro  \n",
              "4  Produto NovoDe Onde Viemos? Para Onde Vamos? R...     livro  "
            ]
          },
          "execution_count": 2,
          "metadata": {},
          "output_type": "execute_result"
        }
      ],
      "source": [
        "df.head()"
      ]
    },
    {
      "cell_type": "markdown",
      "metadata": {
        "id": "EFdExcLpyvJn"
      },
      "source": [
        "#### 1.1. Analise o % de valores nulos no dataset"
      ]
    },
    {
      "cell_type": "code",
      "execution_count": 3,
      "metadata": {
        "colab": {
          "base_uri": "https://localhost:8080/",
          "height": 175
        },
        "id": "zvvOeF1wJ9Gl",
        "outputId": "6f2e433a-0979-4880-9cac-d8382c63294f"
      },
      "outputs": [
        {
          "data": {
            "application/vnd.google.colaboratory.intrinsic+json": {
              "summary": "{\n  \"name\": \"df\",\n  \"rows\": 4,\n  \"fields\": [\n    {\n      \"column\": \"nome\",\n      \"properties\": {\n        \"dtype\": \"string\",\n        \"num_unique_values\": 4,\n        \"samples\": [\n          3696,\n          \"20\",\n          \"4080\"\n        ],\n        \"semantic_type\": \"\",\n        \"description\": \"\"\n      }\n    },\n    {\n      \"column\": \"descricao\",\n      \"properties\": {\n        \"dtype\": \"string\",\n        \"num_unique_values\": 4,\n        \"samples\": [\n          2460,\n          \"39\",\n          \"2916\"\n        ],\n        \"semantic_type\": \"\",\n        \"description\": \"\"\n      }\n    },\n    {\n      \"column\": \"categoria\",\n      \"properties\": {\n        \"dtype\": \"string\",\n        \"num_unique_values\": 4,\n        \"samples\": [\n          4,\n          \"1020\",\n          \"4080\"\n        ],\n        \"semantic_type\": \"\",\n        \"description\": \"\"\n      }\n    }\n  ]\n}",
              "type": "dataframe"
            },
            "text/html": [
              "\n",
              "  <div id=\"df-740a650a-5f7e-42a5-b601-71df03c85d98\" class=\"colab-df-container\">\n",
              "    <div>\n",
              "<style scoped>\n",
              "    .dataframe tbody tr th:only-of-type {\n",
              "        vertical-align: middle;\n",
              "    }\n",
              "\n",
              "    .dataframe tbody tr th {\n",
              "        vertical-align: top;\n",
              "    }\n",
              "\n",
              "    .dataframe thead th {\n",
              "        text-align: right;\n",
              "    }\n",
              "</style>\n",
              "<table border=\"1\" class=\"dataframe\">\n",
              "  <thead>\n",
              "    <tr style=\"text-align: right;\">\n",
              "      <th></th>\n",
              "      <th>nome</th>\n",
              "      <th>descricao</th>\n",
              "      <th>categoria</th>\n",
              "    </tr>\n",
              "  </thead>\n",
              "  <tbody>\n",
              "    <tr>\n",
              "      <th>count</th>\n",
              "      <td>4080</td>\n",
              "      <td>2916</td>\n",
              "      <td>4080</td>\n",
              "    </tr>\n",
              "    <tr>\n",
              "      <th>unique</th>\n",
              "      <td>3696</td>\n",
              "      <td>2460</td>\n",
              "      <td>4</td>\n",
              "    </tr>\n",
              "    <tr>\n",
              "      <th>top</th>\n",
              "      <td>Mais Escuro - Cinquenta Tons Mais Escuros Pel...</td>\n",
              "      <td>JOGO ORIGINAL. NOVO. LACRADO. PRONTA ENTREGA. ...</td>\n",
              "      <td>livro</td>\n",
              "    </tr>\n",
              "    <tr>\n",
              "      <th>freq</th>\n",
              "      <td>20</td>\n",
              "      <td>39</td>\n",
              "      <td>1020</td>\n",
              "    </tr>\n",
              "  </tbody>\n",
              "</table>\n",
              "</div>\n",
              "    <div class=\"colab-df-buttons\">\n",
              "\n",
              "  <div class=\"colab-df-container\">\n",
              "    <button class=\"colab-df-convert\" onclick=\"convertToInteractive('df-740a650a-5f7e-42a5-b601-71df03c85d98')\"\n",
              "            title=\"Convert this dataframe to an interactive table.\"\n",
              "            style=\"display:none;\">\n",
              "\n",
              "  <svg xmlns=\"http://www.w3.org/2000/svg\" height=\"24px\" viewBox=\"0 -960 960 960\">\n",
              "    <path d=\"M120-120v-720h720v720H120Zm60-500h600v-160H180v160Zm220 220h160v-160H400v160Zm0 220h160v-160H400v160ZM180-400h160v-160H180v160Zm440 0h160v-160H620v160ZM180-180h160v-160H180v160Zm440 0h160v-160H620v160Z\"/>\n",
              "  </svg>\n",
              "    </button>\n",
              "\n",
              "  <style>\n",
              "    .colab-df-container {\n",
              "      display:flex;\n",
              "      gap: 12px;\n",
              "    }\n",
              "\n",
              "    .colab-df-convert {\n",
              "      background-color: #E8F0FE;\n",
              "      border: none;\n",
              "      border-radius: 50%;\n",
              "      cursor: pointer;\n",
              "      display: none;\n",
              "      fill: #1967D2;\n",
              "      height: 32px;\n",
              "      padding: 0 0 0 0;\n",
              "      width: 32px;\n",
              "    }\n",
              "\n",
              "    .colab-df-convert:hover {\n",
              "      background-color: #E2EBFA;\n",
              "      box-shadow: 0px 1px 2px rgba(60, 64, 67, 0.3), 0px 1px 3px 1px rgba(60, 64, 67, 0.15);\n",
              "      fill: #174EA6;\n",
              "    }\n",
              "\n",
              "    .colab-df-buttons div {\n",
              "      margin-bottom: 4px;\n",
              "    }\n",
              "\n",
              "    [theme=dark] .colab-df-convert {\n",
              "      background-color: #3B4455;\n",
              "      fill: #D2E3FC;\n",
              "    }\n",
              "\n",
              "    [theme=dark] .colab-df-convert:hover {\n",
              "      background-color: #434B5C;\n",
              "      box-shadow: 0px 1px 3px 1px rgba(0, 0, 0, 0.15);\n",
              "      filter: drop-shadow(0px 1px 2px rgba(0, 0, 0, 0.3));\n",
              "      fill: #FFFFFF;\n",
              "    }\n",
              "  </style>\n",
              "\n",
              "    <script>\n",
              "      const buttonEl =\n",
              "        document.querySelector('#df-740a650a-5f7e-42a5-b601-71df03c85d98 button.colab-df-convert');\n",
              "      buttonEl.style.display =\n",
              "        google.colab.kernel.accessAllowed ? 'block' : 'none';\n",
              "\n",
              "      async function convertToInteractive(key) {\n",
              "        const element = document.querySelector('#df-740a650a-5f7e-42a5-b601-71df03c85d98');\n",
              "        const dataTable =\n",
              "          await google.colab.kernel.invokeFunction('convertToInteractive',\n",
              "                                                    [key], {});\n",
              "        if (!dataTable) return;\n",
              "\n",
              "        const docLinkHtml = 'Like what you see? Visit the ' +\n",
              "          '<a target=\"_blank\" href=https://colab.research.google.com/notebooks/data_table.ipynb>data table notebook</a>'\n",
              "          + ' to learn more about interactive tables.';\n",
              "        element.innerHTML = '';\n",
              "        dataTable['output_type'] = 'display_data';\n",
              "        await google.colab.output.renderOutput(dataTable, element);\n",
              "        const docLink = document.createElement('div');\n",
              "        docLink.innerHTML = docLinkHtml;\n",
              "        element.appendChild(docLink);\n",
              "      }\n",
              "    </script>\n",
              "  </div>\n",
              "\n",
              "\n",
              "    <div id=\"df-6f8c54d9-0e75-49ea-9d1f-1431aa29802f\">\n",
              "      <button class=\"colab-df-quickchart\" onclick=\"quickchart('df-6f8c54d9-0e75-49ea-9d1f-1431aa29802f')\"\n",
              "                title=\"Suggest charts\"\n",
              "                style=\"display:none;\">\n",
              "\n",
              "<svg xmlns=\"http://www.w3.org/2000/svg\" height=\"24px\"viewBox=\"0 0 24 24\"\n",
              "     width=\"24px\">\n",
              "    <g>\n",
              "        <path d=\"M19 3H5c-1.1 0-2 .9-2 2v14c0 1.1.9 2 2 2h14c1.1 0 2-.9 2-2V5c0-1.1-.9-2-2-2zM9 17H7v-7h2v7zm4 0h-2V7h2v10zm4 0h-2v-4h2v4z\"/>\n",
              "    </g>\n",
              "</svg>\n",
              "      </button>\n",
              "\n",
              "<style>\n",
              "  .colab-df-quickchart {\n",
              "      --bg-color: #E8F0FE;\n",
              "      --fill-color: #1967D2;\n",
              "      --hover-bg-color: #E2EBFA;\n",
              "      --hover-fill-color: #174EA6;\n",
              "      --disabled-fill-color: #AAA;\n",
              "      --disabled-bg-color: #DDD;\n",
              "  }\n",
              "\n",
              "  [theme=dark] .colab-df-quickchart {\n",
              "      --bg-color: #3B4455;\n",
              "      --fill-color: #D2E3FC;\n",
              "      --hover-bg-color: #434B5C;\n",
              "      --hover-fill-color: #FFFFFF;\n",
              "      --disabled-bg-color: #3B4455;\n",
              "      --disabled-fill-color: #666;\n",
              "  }\n",
              "\n",
              "  .colab-df-quickchart {\n",
              "    background-color: var(--bg-color);\n",
              "    border: none;\n",
              "    border-radius: 50%;\n",
              "    cursor: pointer;\n",
              "    display: none;\n",
              "    fill: var(--fill-color);\n",
              "    height: 32px;\n",
              "    padding: 0;\n",
              "    width: 32px;\n",
              "  }\n",
              "\n",
              "  .colab-df-quickchart:hover {\n",
              "    background-color: var(--hover-bg-color);\n",
              "    box-shadow: 0 1px 2px rgba(60, 64, 67, 0.3), 0 1px 3px 1px rgba(60, 64, 67, 0.15);\n",
              "    fill: var(--button-hover-fill-color);\n",
              "  }\n",
              "\n",
              "  .colab-df-quickchart-complete:disabled,\n",
              "  .colab-df-quickchart-complete:disabled:hover {\n",
              "    background-color: var(--disabled-bg-color);\n",
              "    fill: var(--disabled-fill-color);\n",
              "    box-shadow: none;\n",
              "  }\n",
              "\n",
              "  .colab-df-spinner {\n",
              "    border: 2px solid var(--fill-color);\n",
              "    border-color: transparent;\n",
              "    border-bottom-color: var(--fill-color);\n",
              "    animation:\n",
              "      spin 1s steps(1) infinite;\n",
              "  }\n",
              "\n",
              "  @keyframes spin {\n",
              "    0% {\n",
              "      border-color: transparent;\n",
              "      border-bottom-color: var(--fill-color);\n",
              "      border-left-color: var(--fill-color);\n",
              "    }\n",
              "    20% {\n",
              "      border-color: transparent;\n",
              "      border-left-color: var(--fill-color);\n",
              "      border-top-color: var(--fill-color);\n",
              "    }\n",
              "    30% {\n",
              "      border-color: transparent;\n",
              "      border-left-color: var(--fill-color);\n",
              "      border-top-color: var(--fill-color);\n",
              "      border-right-color: var(--fill-color);\n",
              "    }\n",
              "    40% {\n",
              "      border-color: transparent;\n",
              "      border-right-color: var(--fill-color);\n",
              "      border-top-color: var(--fill-color);\n",
              "    }\n",
              "    60% {\n",
              "      border-color: transparent;\n",
              "      border-right-color: var(--fill-color);\n",
              "    }\n",
              "    80% {\n",
              "      border-color: transparent;\n",
              "      border-right-color: var(--fill-color);\n",
              "      border-bottom-color: var(--fill-color);\n",
              "    }\n",
              "    90% {\n",
              "      border-color: transparent;\n",
              "      border-bottom-color: var(--fill-color);\n",
              "    }\n",
              "  }\n",
              "</style>\n",
              "\n",
              "      <script>\n",
              "        async function quickchart(key) {\n",
              "          const quickchartButtonEl =\n",
              "            document.querySelector('#' + key + ' button');\n",
              "          quickchartButtonEl.disabled = true;  // To prevent multiple clicks.\n",
              "          quickchartButtonEl.classList.add('colab-df-spinner');\n",
              "          try {\n",
              "            const charts = await google.colab.kernel.invokeFunction(\n",
              "                'suggestCharts', [key], {});\n",
              "          } catch (error) {\n",
              "            console.error('Error during call to suggestCharts:', error);\n",
              "          }\n",
              "          quickchartButtonEl.classList.remove('colab-df-spinner');\n",
              "          quickchartButtonEl.classList.add('colab-df-quickchart-complete');\n",
              "        }\n",
              "        (() => {\n",
              "          let quickchartButtonEl =\n",
              "            document.querySelector('#df-6f8c54d9-0e75-49ea-9d1f-1431aa29802f button');\n",
              "          quickchartButtonEl.style.display =\n",
              "            google.colab.kernel.accessAllowed ? 'block' : 'none';\n",
              "        })();\n",
              "      </script>\n",
              "    </div>\n",
              "\n",
              "    </div>\n",
              "  </div>\n"
            ],
            "text/plain": [
              "                                                     nome  \\\n",
              "count                                                4080   \n",
              "unique                                               3696   \n",
              "top      Mais Escuro - Cinquenta Tons Mais Escuros Pel...   \n",
              "freq                                                   20   \n",
              "\n",
              "                                                descricao categoria  \n",
              "count                                                2916      4080  \n",
              "unique                                               2460         4  \n",
              "top     JOGO ORIGINAL. NOVO. LACRADO. PRONTA ENTREGA. ...     livro  \n",
              "freq                                                   39      1020  "
            ]
          },
          "execution_count": 3,
          "metadata": {},
          "output_type": "execute_result"
        }
      ],
      "source": [
        "df.describe()"
      ]
    },
    {
      "cell_type": "code",
      "execution_count": 4,
      "metadata": {
        "colab": {
          "base_uri": "https://localhost:8080/"
        },
        "id": "FFI4QyaKJ6c9",
        "outputId": "d1a80bb6-7ae9-46cc-b1ab-af0f6fa3dce3"
      },
      "outputs": [
        {
          "name": "stdout",
          "output_type": "stream",
          "text": [
            "<class 'pandas.core.frame.DataFrame'>\n",
            "RangeIndex: 4080 entries, 0 to 4079\n",
            "Data columns (total 3 columns):\n",
            " #   Column     Non-Null Count  Dtype \n",
            "---  ------     --------------  ----- \n",
            " 0   nome       4080 non-null   object\n",
            " 1   descricao  2916 non-null   object\n",
            " 2   categoria  4080 non-null   object\n",
            "dtypes: object(3)\n",
            "memory usage: 95.8+ KB\n"
          ]
        }
      ],
      "source": [
        "df.info()"
      ]
    },
    {
      "cell_type": "code",
      "execution_count": 5,
      "metadata": {
        "colab": {
          "base_uri": "https://localhost:8080/",
          "height": 178
        },
        "id": "P55w_HjjJ1qV",
        "outputId": "a3e756b7-9136-48a6-e151-beba01431669"
      },
      "outputs": [
        {
          "data": {
            "text/html": [
              "<div>\n",
              "<style scoped>\n",
              "    .dataframe tbody tr th:only-of-type {\n",
              "        vertical-align: middle;\n",
              "    }\n",
              "\n",
              "    .dataframe tbody tr th {\n",
              "        vertical-align: top;\n",
              "    }\n",
              "\n",
              "    .dataframe thead th {\n",
              "        text-align: right;\n",
              "    }\n",
              "</style>\n",
              "<table border=\"1\" class=\"dataframe\">\n",
              "  <thead>\n",
              "    <tr style=\"text-align: right;\">\n",
              "      <th></th>\n",
              "      <th>0</th>\n",
              "    </tr>\n",
              "  </thead>\n",
              "  <tbody>\n",
              "    <tr>\n",
              "      <th>nome</th>\n",
              "      <td>4080</td>\n",
              "    </tr>\n",
              "    <tr>\n",
              "      <th>descricao</th>\n",
              "      <td>2916</td>\n",
              "    </tr>\n",
              "    <tr>\n",
              "      <th>categoria</th>\n",
              "      <td>4080</td>\n",
              "    </tr>\n",
              "  </tbody>\n",
              "</table>\n",
              "</div><br><label><b>dtype:</b> int64</label>"
            ],
            "text/plain": [
              "nome         4080\n",
              "descricao    2916\n",
              "categoria    4080\n",
              "dtype: int64"
            ]
          },
          "execution_count": 5,
          "metadata": {},
          "output_type": "execute_result"
        }
      ],
      "source": [
        "df.count()"
      ]
    },
    {
      "cell_type": "code",
      "execution_count": 6,
      "metadata": {
        "colab": {
          "base_uri": "https://localhost:8080/"
        },
        "id": "clrV3b7g144v",
        "outputId": "956eae0c-aedd-4bce-ae12-923186397244"
      },
      "outputs": [
        {
          "data": {
            "text/plain": [
              "4080"
            ]
          },
          "execution_count": 6,
          "metadata": {},
          "output_type": "execute_result"
        }
      ],
      "source": [
        "# dimensão do dataframe\n",
        "df.shape[0]"
      ]
    },
    {
      "cell_type": "code",
      "execution_count": 7,
      "metadata": {
        "colab": {
          "base_uri": "https://localhost:8080/"
        },
        "id": "jcL-fY__LlZz",
        "outputId": "b583c6c1-7f43-4885-c71f-1654e44d9158"
      },
      "outputs": [
        {
          "name": "stdout",
          "output_type": "stream",
          "text": [
            "4080 3\n"
          ]
        }
      ],
      "source": [
        "print(df.shape[0], df.shape[1])"
      ]
    },
    {
      "cell_type": "code",
      "execution_count": 8,
      "metadata": {
        "colab": {
          "base_uri": "https://localhost:8080/",
          "height": 178
        },
        "id": "eApVJ845oDdy",
        "outputId": "a7b93d07-cc25-4927-eca3-483931975e0c"
      },
      "outputs": [
        {
          "data": {
            "text/html": [
              "<div>\n",
              "<style scoped>\n",
              "    .dataframe tbody tr th:only-of-type {\n",
              "        vertical-align: middle;\n",
              "    }\n",
              "\n",
              "    .dataframe tbody tr th {\n",
              "        vertical-align: top;\n",
              "    }\n",
              "\n",
              "    .dataframe thead th {\n",
              "        text-align: right;\n",
              "    }\n",
              "</style>\n",
              "<table border=\"1\" class=\"dataframe\">\n",
              "  <thead>\n",
              "    <tr style=\"text-align: right;\">\n",
              "      <th></th>\n",
              "      <th>0</th>\n",
              "    </tr>\n",
              "  </thead>\n",
              "  <tbody>\n",
              "    <tr>\n",
              "      <th>nome</th>\n",
              "      <td>0</td>\n",
              "    </tr>\n",
              "    <tr>\n",
              "      <th>descricao</th>\n",
              "      <td>1164</td>\n",
              "    </tr>\n",
              "    <tr>\n",
              "      <th>categoria</th>\n",
              "      <td>0</td>\n",
              "    </tr>\n",
              "  </tbody>\n",
              "</table>\n",
              "</div><br><label><b>dtype:</b> int64</label>"
            ],
            "text/plain": [
              "nome            0\n",
              "descricao    1164\n",
              "categoria       0\n",
              "dtype: int64"
            ]
          },
          "execution_count": 8,
          "metadata": {},
          "output_type": "execute_result"
        }
      ],
      "source": [
        "# conta valores faltantes/nulos/missing\n",
        "df.isnull().sum()"
      ]
    },
    {
      "cell_type": "code",
      "execution_count": 9,
      "metadata": {
        "colab": {
          "base_uri": "https://localhost:8080/",
          "height": 178
        },
        "id": "YUWD23RhbsvS",
        "outputId": "ddbddd60-26b8-421e-f86a-831802d9c882"
      },
      "outputs": [
        {
          "data": {
            "text/html": [
              "<div>\n",
              "<style scoped>\n",
              "    .dataframe tbody tr th:only-of-type {\n",
              "        vertical-align: middle;\n",
              "    }\n",
              "\n",
              "    .dataframe tbody tr th {\n",
              "        vertical-align: top;\n",
              "    }\n",
              "\n",
              "    .dataframe thead th {\n",
              "        text-align: right;\n",
              "    }\n",
              "</style>\n",
              "<table border=\"1\" class=\"dataframe\">\n",
              "  <thead>\n",
              "    <tr style=\"text-align: right;\">\n",
              "      <th></th>\n",
              "      <th>0</th>\n",
              "    </tr>\n",
              "  </thead>\n",
              "  <tbody>\n",
              "    <tr>\n",
              "      <th>nome</th>\n",
              "      <td>0.000000</td>\n",
              "    </tr>\n",
              "    <tr>\n",
              "      <th>descricao</th>\n",
              "      <td>0.285294</td>\n",
              "    </tr>\n",
              "    <tr>\n",
              "      <th>categoria</th>\n",
              "      <td>0.000000</td>\n",
              "    </tr>\n",
              "  </tbody>\n",
              "</table>\n",
              "</div><br><label><b>dtype:</b> float64</label>"
            ],
            "text/plain": [
              "nome         0.000000\n",
              "descricao    0.285294\n",
              "categoria    0.000000\n",
              "dtype: float64"
            ]
          },
          "execution_count": 9,
          "metadata": {},
          "output_type": "execute_result"
        }
      ],
      "source": [
        "# calcula o % de nulos no dataset\n",
        "df.isnull().sum()/df.shape[0]"
      ]
    },
    {
      "cell_type": "markdown",
      "metadata": {
        "id": "dUP31qMIzJF_"
      },
      "source": [
        "#### 1.2. Remova os registros/linhas com valores nulos, se houver"
      ]
    },
    {
      "cell_type": "code",
      "execution_count": 10,
      "metadata": {
        "colab": {
          "base_uri": "https://localhost:8080/"
        },
        "id": "d7EsxlE8gzY0",
        "outputId": "819987f2-68cc-4ac7-9691-14e5df4817cd"
      },
      "outputs": [
        {
          "name": "stdout",
          "output_type": "stream",
          "text": [
            "<class 'pandas.core.frame.DataFrame'>\n",
            "Index: 2916 entries, 0 to 4079\n",
            "Data columns (total 3 columns):\n",
            " #   Column     Non-Null Count  Dtype \n",
            "---  ------     --------------  ----- \n",
            " 0   nome       2916 non-null   object\n",
            " 1   descricao  2916 non-null   object\n",
            " 2   categoria  2916 non-null   object\n",
            "dtypes: object(3)\n",
            "memory usage: 91.1+ KB\n"
          ]
        }
      ],
      "source": [
        "# dropna(inplace=True), inplace=True => modifica o próprio objeto. dropna(inplace=False), inplace=False => retorma uma cópia do objeto\n",
        "df.dropna(inplace=True)\n",
        "df.info()"
      ]
    },
    {
      "cell_type": "code",
      "execution_count": 11,
      "metadata": {
        "colab": {
          "base_uri": "https://localhost:8080/"
        },
        "id": "m6wZZwYDnegQ",
        "outputId": "7dcf7c25-2e08-444e-c74b-05011afc50e3"
      },
      "outputs": [
        {
          "name": "stdout",
          "output_type": "stream",
          "text": [
            "<class 'pandas.core.frame.DataFrame'>\n",
            "Index: 2916 entries, 0 to 4079\n",
            "Data columns (total 3 columns):\n",
            " #   Column     Non-Null Count  Dtype \n",
            "---  ------     --------------  ----- \n",
            " 0   nome       2916 non-null   object\n",
            " 1   descricao  2916 non-null   object\n",
            " 2   categoria  2916 non-null   object\n",
            "dtypes: object(3)\n",
            "memory usage: 91.1+ KB\n"
          ]
        }
      ],
      "source": [
        "df = df.dropna()\n",
        "df.info()"
      ]
    },
    {
      "cell_type": "markdown",
      "metadata": {
        "id": "OscRtUY3zRRI"
      },
      "source": [
        "#### 1.3. Analise a distribuição das “categorias”"
      ]
    },
    {
      "cell_type": "code",
      "execution_count": 12,
      "metadata": {
        "colab": {
          "base_uri": "https://localhost:8080/",
          "height": 458
        },
        "id": "DbntlYrMKoNR",
        "outputId": "7198ba6c-1159-4428-8860-8346cc7a3656"
      },
      "outputs": [
        {
          "data": {
            "text/html": [
              "<div>\n",
              "<style scoped>\n",
              "    .dataframe tbody tr th:only-of-type {\n",
              "        vertical-align: middle;\n",
              "    }\n",
              "\n",
              "    .dataframe tbody tr th {\n",
              "        vertical-align: top;\n",
              "    }\n",
              "\n",
              "    .dataframe thead th {\n",
              "        text-align: right;\n",
              "    }\n",
              "</style>\n",
              "<table border=\"1\" class=\"dataframe\">\n",
              "  <thead>\n",
              "    <tr style=\"text-align: right;\">\n",
              "      <th></th>\n",
              "      <th>categoria</th>\n",
              "    </tr>\n",
              "  </thead>\n",
              "  <tbody>\n",
              "    <tr>\n",
              "      <th>0</th>\n",
              "      <td>livro</td>\n",
              "    </tr>\n",
              "    <tr>\n",
              "      <th>1</th>\n",
              "      <td>livro</td>\n",
              "    </tr>\n",
              "    <tr>\n",
              "      <th>2</th>\n",
              "      <td>livro</td>\n",
              "    </tr>\n",
              "    <tr>\n",
              "      <th>3</th>\n",
              "      <td>livro</td>\n",
              "    </tr>\n",
              "    <tr>\n",
              "      <th>4</th>\n",
              "      <td>livro</td>\n",
              "    </tr>\n",
              "    <tr>\n",
              "      <th>...</th>\n",
              "      <td>...</td>\n",
              "    </tr>\n",
              "    <tr>\n",
              "      <th>4073</th>\n",
              "      <td>game</td>\n",
              "    </tr>\n",
              "    <tr>\n",
              "      <th>4074</th>\n",
              "      <td>game</td>\n",
              "    </tr>\n",
              "    <tr>\n",
              "      <th>4075</th>\n",
              "      <td>game</td>\n",
              "    </tr>\n",
              "    <tr>\n",
              "      <th>4078</th>\n",
              "      <td>game</td>\n",
              "    </tr>\n",
              "    <tr>\n",
              "      <th>4079</th>\n",
              "      <td>game</td>\n",
              "    </tr>\n",
              "  </tbody>\n",
              "</table>\n",
              "<p>2916 rows × 1 columns</p>\n",
              "</div><br><label><b>dtype:</b> object</label>"
            ],
            "text/plain": [
              "0       livro\n",
              "1       livro\n",
              "2       livro\n",
              "3       livro\n",
              "4       livro\n",
              "        ...  \n",
              "4073     game\n",
              "4074     game\n",
              "4075     game\n",
              "4078     game\n",
              "4079     game\n",
              "Name: categoria, Length: 2916, dtype: object"
            ]
          },
          "execution_count": 12,
          "metadata": {},
          "output_type": "execute_result"
        }
      ],
      "source": [
        "df.categoria"
      ]
    },
    {
      "cell_type": "code",
      "execution_count": 13,
      "metadata": {
        "colab": {
          "base_uri": "https://localhost:8080/",
          "height": 241
        },
        "id": "1Odl4b9aiOnA",
        "outputId": "8fa4f42e-79b2-449d-f803-66fe9dbbc24e"
      },
      "outputs": [
        {
          "data": {
            "text/html": [
              "<div>\n",
              "<style scoped>\n",
              "    .dataframe tbody tr th:only-of-type {\n",
              "        vertical-align: middle;\n",
              "    }\n",
              "\n",
              "    .dataframe tbody tr th {\n",
              "        vertical-align: top;\n",
              "    }\n",
              "\n",
              "    .dataframe thead th {\n",
              "        text-align: right;\n",
              "    }\n",
              "</style>\n",
              "<table border=\"1\" class=\"dataframe\">\n",
              "  <thead>\n",
              "    <tr style=\"text-align: right;\">\n",
              "      <th></th>\n",
              "      <th>count</th>\n",
              "    </tr>\n",
              "    <tr>\n",
              "      <th>categoria</th>\n",
              "      <th></th>\n",
              "    </tr>\n",
              "  </thead>\n",
              "  <tbody>\n",
              "    <tr>\n",
              "      <th>livro</th>\n",
              "      <td>838</td>\n",
              "    </tr>\n",
              "    <tr>\n",
              "      <th>maquiagem</th>\n",
              "      <td>788</td>\n",
              "    </tr>\n",
              "    <tr>\n",
              "      <th>brinquedo</th>\n",
              "      <td>668</td>\n",
              "    </tr>\n",
              "    <tr>\n",
              "      <th>game</th>\n",
              "      <td>622</td>\n",
              "    </tr>\n",
              "  </tbody>\n",
              "</table>\n",
              "</div><br><label><b>dtype:</b> int64</label>"
            ],
            "text/plain": [
              "categoria\n",
              "livro        838\n",
              "maquiagem    788\n",
              "brinquedo    668\n",
              "game         622\n",
              "Name: count, dtype: int64"
            ]
          },
          "execution_count": 13,
          "metadata": {},
          "output_type": "execute_result"
        }
      ],
      "source": [
        "df.categoria.value_counts()"
      ]
    },
    {
      "cell_type": "code",
      "execution_count": 14,
      "metadata": {
        "colab": {
          "base_uri": "https://localhost:8080/",
          "height": 241
        },
        "id": "Rayb_bnNhtNS",
        "outputId": "66a6209e-923b-48f6-ec36-c0f4f964ddfa"
      },
      "outputs": [
        {
          "data": {
            "text/html": [
              "<div>\n",
              "<style scoped>\n",
              "    .dataframe tbody tr th:only-of-type {\n",
              "        vertical-align: middle;\n",
              "    }\n",
              "\n",
              "    .dataframe tbody tr th {\n",
              "        vertical-align: top;\n",
              "    }\n",
              "\n",
              "    .dataframe thead th {\n",
              "        text-align: right;\n",
              "    }\n",
              "</style>\n",
              "<table border=\"1\" class=\"dataframe\">\n",
              "  <thead>\n",
              "    <tr style=\"text-align: right;\">\n",
              "      <th></th>\n",
              "      <th>count</th>\n",
              "    </tr>\n",
              "    <tr>\n",
              "      <th>categoria</th>\n",
              "      <th></th>\n",
              "    </tr>\n",
              "  </thead>\n",
              "  <tbody>\n",
              "    <tr>\n",
              "      <th>livro</th>\n",
              "      <td>28.737997</td>\n",
              "    </tr>\n",
              "    <tr>\n",
              "      <th>maquiagem</th>\n",
              "      <td>27.023320</td>\n",
              "    </tr>\n",
              "    <tr>\n",
              "      <th>brinquedo</th>\n",
              "      <td>22.908093</td>\n",
              "    </tr>\n",
              "    <tr>\n",
              "      <th>game</th>\n",
              "      <td>21.330590</td>\n",
              "    </tr>\n",
              "  </tbody>\n",
              "</table>\n",
              "</div><br><label><b>dtype:</b> float64</label>"
            ],
            "text/plain": [
              "categoria\n",
              "livro        28.737997\n",
              "maquiagem    27.023320\n",
              "brinquedo    22.908093\n",
              "game         21.330590\n",
              "Name: count, dtype: float64"
            ]
          },
          "execution_count": 14,
          "metadata": {},
          "output_type": "execute_result"
        }
      ],
      "source": [
        "(df.categoria.value_counts()/df.shape[0])*100\n",
        "# df.categoria.value_counts()/df.categoria.count() # outra forma"
      ]
    },
    {
      "cell_type": "code",
      "execution_count": 15,
      "metadata": {
        "colab": {
          "base_uri": "https://localhost:8080/",
          "height": 397
        },
        "id": "r-wbgpGck87D",
        "outputId": "b6f3a820-9aff-4067-db8c-f9cff5cd06df"
      },
      "outputs": [
        {
          "data": {
            "text/plain": [
              "<Axes: xlabel='categoria'>"
            ]
          },
          "execution_count": 15,
          "metadata": {},
          "output_type": "execute_result"
        },
        {
          "data": {
            "image/png": "[encoded data removed]",
            "text/plain": [
              "<Figure size 300x300 with 1 Axes>"
            ]
          },
          "metadata": {},
          "output_type": "display_data"
        }
      ],
      "source": [
        "df.categoria.value_counts().plot(kind='bar', figsize=(3,3))"
      ]
    },
    {
      "cell_type": "code",
      "execution_count": 16,
      "metadata": {
        "colab": {
          "base_uri": "https://localhost:8080/",
          "height": 401
        },
        "id": "7V2nr7y_jby6",
        "outputId": "b38ddf94-004f-480b-8d0e-7f57acaf5a0a"
      },
      "outputs": [
        {
          "data": {
            "text/plain": [
              "<Axes: xlabel='categoria'>"
            ]
          },
          "execution_count": 16,
          "metadata": {},
          "output_type": "execute_result"
        },
        {
          "data": {
            "image/png": "[encoded data removed]",
            "text/plain": [
              "<Figure size 300x300 with 1 Axes>"
            ]
          },
          "metadata": {},
          "output_type": "display_data"
        }
      ],
      "source": [
        "(df.categoria.value_counts()/df.shape[0]).plot(kind='bar', figsize=(3,3))"
      ]
    },
    {
      "cell_type": "markdown",
      "metadata": {
        "id": "L-CbfxHHypAN"
      },
      "source": [
        "#### 1.4 Crie uma nova coluna chamada \"texto“, concatenando as colunas \"nome\" e \"descricao\"\n"
      ]
    },
    {
      "cell_type": "code",
      "execution_count": 17,
      "metadata": {
        "colab": {
          "base_uri": "https://localhost:8080/"
        },
        "id": "C0vbmpsTZ7w2",
        "outputId": "04f64565-4da4-4603-a979-5a9f4b70c79e"
      },
      "outputs": [
        {
          "name": "stdout",
          "output_type": "stream",
          "text": [
            "Texto 1 Texto 2\n"
          ]
        }
      ],
      "source": [
        "# Exemplo de concateção de informações\n",
        "print(\"Texto 1\" + \" \" + \"Texto 2\")"
      ]
    },
    {
      "cell_type": "code",
      "execution_count": 18,
      "metadata": {
        "colab": {
          "base_uri": "https://localhost:8080/",
          "height": 88
        },
        "id": "yL_pXo9toJRg",
        "outputId": "cfb55f92-b94e-45b3-8260-e1fecc961d64"
      },
      "outputs": [
        {
          "data": {
            "application/vnd.google.colaboratory.intrinsic+json": {
              "type": "string"
            },
            "text/plain": [
              "' O Hobbit - 7ª Ed. 2013  Produto NovoBilbo Bolseiro é um hobbit que leva uma vida confortável e sem ambições. Mas seu contentamento é perturbado quando Gandalf, o mago, e uma companhia de anões batem à sua porta e levam-no para uma expedição. Eles têm um plano para roubar o tesouro guardado por Smaug, o Magnífico, um grande e perigoso dragão. Bilbo reluta muito em participar da aventura, mas acaba surpreendendo até a si mesmo com sua esperteza e sua habilidade como ladrão!CaracterísticasAutor: Tolkien, J. R. R.Peso: 0.44I.S.B.N.: 9788578277109Altura: 20.000000Largura: 13.000000Profundidade: 1.000000Número de Páginas: 328Idioma: PortuguêsAcabamento: BrochuraNúmero da edição: 7Ano da edição: 2013'"
            ]
          },
          "execution_count": 18,
          "metadata": {},
          "output_type": "execute_result"
        }
      ],
      "source": [
        "df[\"texto\"] = df['nome'] + \" \" + df['descricao'] # cria uma nova culuna com os valores concatenados\n",
        "df.texto[0]"
      ]
    },
    {
      "cell_type": "code",
      "execution_count": 19,
      "metadata": {
        "colab": {
          "base_uri": "https://localhost:8080/",
          "height": 206
        },
        "id": "RU-dK_HuLRHj",
        "outputId": "6159e00c-a2b7-46ad-d416-dc1ab2b02edc"
      },
      "outputs": [
        {
          "data": {
            "application/vnd.google.colaboratory.intrinsic+json": {
              "summary": "{\n  \"name\": \"df\",\n  \"rows\": 2916,\n  \"fields\": [\n    {\n      \"column\": \"nome\",\n      \"properties\": {\n        \"dtype\": \"string\",\n        \"num_unique_values\": 2584,\n        \"samples\": [\n          \" Naruto 4 Ps4 Midia F\\u00edsica 100% Em Portugu\\u00eas Storm Shippuden \",\n          \" Cole\\u00e7\\u00e3o Harry Potter - Capa Branca (7 Livros) # \",\n          \" L\\u00e2mina Circular 8 Pontas - Agulhas Tebori Micropigmenta\\u00e7\\u00e3o \"\n        ],\n        \"semantic_type\": \"\",\n        \"description\": \"\"\n      }\n    },\n    {\n      \"column\": \"descricao\",\n      \"properties\": {\n        \"dtype\": \"string\",\n        \"num_unique_values\": 2460,\n        \"samples\": [\n          \"DESCRI\\u00c7\\u00c3O DO KIT MAQUIAGEM V255:- 1 Base L\\u00edquida Matte Luxo Ruby  - 1 Primer Facial PRE BASE AVON  - 1 P\\u00f3 F\\u00e1cial Compacto Mattte Ruby - 1 Demaquilante AVON  - 1 Corretivo em Bast\\u00e3o e Corretivo L\\u00edquido 2 em 1 Ruby Rose  - 1 Creme Hidratante prote\\u00e7\\u00e3o 24 horas AVON   - 1 Kit Cuidados com a Pele Mary Kay  - 24 Cores de Sombra Matte Fosca paleta profissional Bella Angel  - 1 Lip Gloss Labial  - 1 Batons Matte Fosco Queen  - 1 Batom Ultra color Matte AVON - 1 Lip Gloss Labial AVON - 1 Batom e Batom Matte Liquido 2 em 1 Ruby Rose  - 1 P\\u00f3 Bronzeador Bella Angel ou Vult  - 1 Esmalte secagem r\\u00e1pida AVON  - 1 M\\u00e1scara para os C\\u00edlios Black Extra Volume AVON  - 1 apontador Duplo profissional Macrilan  - 1 Pin\\u00e7a profissional Macrilan  - 25 len\\u00e7os demaquilantes Macrilan  - 2 Esponjas para aplicar maquiagem Macrilan - 12 pinceis profissionais Cabo de Madeira Duo Fiber Macrilan  Descri\\u00e7\\u00e3o do Kit Profissional de Pinceis:- 1 Carteira para pinceis Luxo original Macrilan  - 1 pincel para P\\u00f3 facial, cabo de Madeira cerdas Macias 19cm  - 1 pincel para blush chanfrado , cabo de Madeira cerdas Macias 19cm  - 1 pincel para base, cabo de Madeira cerdas Macias 19cm  - 1 pincel duo fiber , cabo de Madeira cerdas Macias 19cm  - 1 pincel para esfumar c\\u00f4ncavo , cabo de Madeira cerdas Macias 19cm  - 5 pinceis para olhos , cabo de Madeira cerdas Macias 19cm  - 1 pincel para boca , cabo de Madeira cerdas Macias 19cm  - 1 Pincel pente para sobrancelhas , cabo de Madeira cerdas Macias 19cm  Descri\\u00e7\\u00e3o da Maleta :- Maleta especial para Maquiador , pr\\u00f3pria para transportar maquiagem e produtos de cuidado com a pele , Maleta com divis\\u00f3rias . Ajuste as divis\\u00f3rias da melhor forma para acomodar separadamente seu material de trabalho. Resistente e pr\\u00e1tica.- 1 Maleta Grande Profissional  -Cantoneiras em a\\u00e7o inox polido - 4 p\\u00e9s de apoio - Al\\u00e7a de M\\u00e3o em alum\\u00ednio  - fechaduras com chave - Divis\\u00f3rias ajust\\u00e1veis - 6 Bandejas deslizantes  - Medidas : 36cm x 26cm x 26cmTemos a Maleta dispon\\u00edvel na cor : Prata, Preta\",\n          \"C\\u00edlios Posti\\u00e7os para aplica\\u00e7\\u00e3o Fio a Fio NavinaOp\\u00e7\\u00f5es dispon\\u00edveis - 8mm, 10mm, 12mm e 14mmPre\\u00e7o referente a 1 caixa.Este kit n\\u00e3o cont\\u00e9m cola.Ap\\u00f3s o pagamento escolha entre os tamanhos e envie mensagem no campo de perguntas do Mercado Livre.SE OS TAMANHOS N\\u00c3O FOREM INFORMADOS, O ENVIO SER\\u00c1 ALEAT\\u00d3RIO!!!!\",\n          \"Descri\\u00e7\\u00e3o do Kit Ninja (Foto):Duas Kunais de Borracha de 25cmDuas Shurikens de Borracha com 10cm\\u00a0\"\n        ],\n        \"semantic_type\": \"\",\n        \"description\": \"\"\n      }\n    },\n    {\n      \"column\": \"categoria\",\n      \"properties\": {\n        \"dtype\": \"category\",\n        \"num_unique_values\": 4,\n        \"samples\": [\n          \"brinquedo\",\n          \"game\",\n          \"livro\"\n        ],\n        \"semantic_type\": \"\",\n        \"description\": \"\"\n      }\n    },\n    {\n      \"column\": \"texto\",\n      \"properties\": {\n        \"dtype\": \"string\",\n        \"num_unique_values\": 2646,\n        \"samples\": [\n          \" Kit Maquiagem Iluminador N1  Sombras P\\u00f3  Corretivo Miss Rose  Kit de Maquiagem com paleta de Iluminador N1, Sombras Nudes, P\\u00f3 Compacto e Corretivo Miss Rose\\u00c9 composta por um mix de sombras com brilho, cintilantes e mates. Os tons s\\u00e3o quentes e neutros, perfeitos para as pessoas que gostam de tons terrosos e acinzentados. Possui alta fixa\\u00e7\\u00e3o, cores super pigmentadas, seu acabamento \\u00e9 aveludado e para ser usada em todas as ocasi\\u00f5es, pois deixa a pele com um aspecto mais natural e saud\\u00e1vel. Iluminador 024N1: \\u00c9 um dos truques infal\\u00edveis para deixar a maquiagem com um acabamento sofisticado e natural, dando vi\\u00e7o \\u00e0 pele. O Iluminador Glow Kit da Miss Rose \\u00e9 para ser usado em partes espec\\u00edficas do rosto, aquelas que voc\\u00ea gostaria de destacar, como as t\\u00eamporas e o arco abaixo das sobrancelhas. Vers\\u00e1til, pode ser usado em v\\u00e1rias ocasi\\u00f5es e tem passe livre em todos os tipos de pele.Paleta de corretivo 15 cores: \\u00c9 uma paleta de corretivo com 15 tons e tem como fun\\u00e7\\u00e3o disfar\\u00e7ar ou clarear principalmente olheiras e imperfei\\u00e7\\u00f5es da pele, como manchas, sardas (pra quem n\\u00e3o gosta), sinais, cicatrizes. Enfim, para camuflar o que voc\\u00ea n\\u00e3o quer mostrar.Sua fixa\\u00e7\\u00e3o e pigmenta\\u00e7\\u00e3o permite que voc\\u00ea passe o dia todo bem maquiada e sem precisar retocar.Paleta de p\\u00f3 compacto com 15 tonalidades: \\u00c9 um produto de participa\\u00e7\\u00e3o muito importante na maquiagem, pois atrav\\u00e9s dele teremos um acabamento transl\\u00facido e com o objetivo de uniformizar a pele. Para um efeito suave e de muita naturalidade. Serve para manter a pele com um aspecto sequinho e tirar o brilho. Ao utilizar o p\\u00f3 facial, o objetivo \\u00e9 deixar a pele com um acabamento transl\\u00facido e uniforme. Para um efeito suave e de muita naturalidade, \\u00e9 preciso escolher o tom de p\\u00f3 que combina com o seu tom de pele.O que voc\\u00ea est\\u00e1 comprando:01 Paleta 88 cores Nude 01 Paleta Glow Kit 024N101 Paleta de Corretivo 15 cores01 Paleta de p\\u00f3 15 coresSeu pedido despachado em menos de 24 horas \\u00fateis.Prazos de entrega:Expresso 3 \\u00e0 5 dias \\u00fateis Normal 7 \\u00e0 15 dias \\u00fateis. O prazo de entrega pode variar para as localidades com restri\\u00e7\\u00e3o tempor\\u00e1ria ou permanentee tamb\\u00e9m para estas localidades:Interior de: AC, AL, AM, AP, BA, CE, MA, MT, PA e PBCapitais de: RJ, MA e PB\",\n          \" Boneco Hulk Verde Premium 55 Cm - Gigante Mimo Original  Boneco Hulk Verde\\u00a0Premiumr Gigante 55 Cm Mimo PRODUTO NOVO / ENTREGA IMEDIATA !!! Descri\\u00e7\\u00e3o \\u00a0 Chegaram os incriveis Bonecos Marvel. 3 pontos , Bra\\u00e7o, Perna e Cabe\\u00e7a  Especifica\\u00e7\\u00f5es  Itens Inclusos: 01 boneco.  Recomenda\\u00e7\\u00e3o: Para crian\\u00e7as maiores de 3 anos de idade.  Restri\\u00e7\\u00e3o de Idade: N\\u00e3o recomend\\u00e1vel para menores de 3 anos por conter pe\\u00e7as pequenas que podem ser engolidas.  Aviso: As cores podem variar entre as imagens mostradas acima e o produto. Imagens meramente ilustrativas.  Certificado: Certificado pelos \\u00d3rg\\u00e3os Autorizados - OCP\\u00b4S (Organismos de Certifica\\u00e7\\u00e3o de Produtos)  Composi\\u00e7\\u00e3o / Material: PVC at\\u00f3xico.  Peso: 640 gr.  Dimens\\u00f5es (AxLxC): Aproximadamente 55 cent\\u00edmetros de altura.   \\u00a0\\u00a0SOMOS A LOJA TOYGAMES\\u00a0PRODUTO ORIGINAL, NOVO, LACRADO, COM GARANTIA E A PRONTA ENTREGA\\u00a0VEJA OS OUTROS PRODUTOS DE NOSSA LOJA: Para visualizar nossos produtos no PC copie e cole no navegador: https://eshops.mercadolivre.com.br/toygamesml\\u00a0Para visualizar nossos produtos NO CELULAR, fa\\u00e7a o seguinte: vai em MAIS ANUNCIOS DO VENDEDOR debaixo da se\\u00e7\\u00e3o PERGUTAR do an\\u00fancio.\\u00a0A) COMO COMPRAR V\\u00c1RIOS PRODUTOS COM FRETE GR\\u00c1TIS NA LOJA TOYGAMES:1 - escolher os produtos em MAIS ANUNCIO DO VENDEDOR .2 - na p\\u00e1gina do produto, clicar no bot\\u00e3o ADICIONAR AO CARRINHO, que fica abaixo do pre\\u00e7o do an\\u00fancio.\\u00a03 - depois de escolhidos os produtos (acima de 60 reais), clique no carrinho que fica no canto superior direito do site, para efetuar o pagamento. Se o pedido ultrapassar 120 reais, o frete \\u00e9 gr\\u00e1tis. Benef\\u00edcio do Mercado Pontos.\\u00a0\\u00a0B) AP\\u00d3S A APROVA\\u00c7\\u00c3O DO PAGAMENTO, N\\u00c3O H\\u00c1 NECESSIDADE DE ENVIAR MENSAGENS SOBRE PRAZO DE ENVIO E ENTREGA. O SISTEMA \\u00c9 TODO AUTOMATIZADO.\\u00c9 s\\u00f3 efetuar o pagamento e aguardar o prazo de envio descrito no an\\u00fancio. Cliente recebe emails do mercado envios com rastreio para acompanhar o pedido.\\u00a0C) QUAL O VALOR DO FRETE? QUAL O PRAZO DE ENVIO E PRAZO DE ENTREGA?Caro cliente, para saber quanto pagar\\u00e1 de frete e previs\\u00e3o de prazo de entrega do produto, digite seu CEP logo abaixo do pre\\u00e7o do an\\u00fancio, em MODIFICAR.\\u00a01-Cliente efetua o pagamento 2- Mercado Pago que confirma o pagamento vai email. 3- Mercado Envios envia o rastreio no prazo de 1 a 5 dias (podendo ser enviado antes).\\u00a0- O prazo de entrega do sedex \\u00e9 em m\\u00e9dia 1 a 3 dias \\u00fateis ap\\u00f3s envio e o de Pac \\u00e9 em m\\u00e9dia de 5 a 10 dias \\u00fateis ap\\u00f3s envio.- Prazo de envio \\u00e9 no mesmo dia, caso a compra foi efetuada ate as 15:00 em dias \\u00fateis, caso contr\\u00e1rio, no pr\\u00f3ximo dia \\u00fatil.\\u00a0- Todos recebem o c\\u00f3digo automaticamente pelo sistema do Mercado Envios assim que a mercadoria for postada.\\u00a0- Muito simples, seguro e tranquilo comprar conosco.\\u00a0D)\\u00a0OUTRAS D\\u00daVIDAS?\\u00a0- Sistema do Mercado Envios \\u00e9 todo automatizado, n\\u00e3o h\\u00e1 necessidade do cliente enviar mensagens sobre envio e entrega.- Temos loja f\\u00edsica em Uberl\\u00e2ndia, mas compras pelo Mercado Livre, a entrega \\u00e9 feita somente pelos correios.- Aceitamos pagamento pelo Mercado Pago (n\\u00e3o precisa enviar comprovante, o pr\\u00f3prio Mercado Pago confirma o pagamento via email).- Pagamento por boleto do Mercado Pago \\u00e9 efetivado em at\\u00e9 48 horas.N\\u00e3o trabalhamos com troca, somente com vendas.- Todos nossos produtos s\\u00e3o 100% originais e tem 90 dias de garantia contra defeitos de fabrica\\u00e7\\u00e3o, n\\u00e3o cobrimos mau uso ou queda.- Caso clique em comprar no produto e o an\\u00fancio finalize, n\\u00e3o se preocupe, acontece isto porque houve o clique e era a \\u00faltima unidade. Produto fica reservado para voc\\u00ea, aguardando pagamento.- Clicando em comprar, voc\\u00ea estar\\u00e1 aceitando automaticamente os termos.Al\\u00e9m da certeza de receber o produto, n\\u00f3s visamos a satisfa\\u00e7\\u00e3o do cliente em primeiro lugar, oferecendo produtos de alta qualidade e v\\u00e1rias formas de pagamento.- Veja nossas qualifica\\u00e7\\u00f5es, elas s\\u00e3o as maiores provas do nosso respeito, agilidade e honestidade com nossos clientes.\",\n          \" A Cabana - Capa Do Filme  Produto Novo e F\\u00edsico  Durante uma viagem de fim de semana, a filha mais nova de Mack Allen Phillips \\u00e9 raptada e evid\\u00eancias de que ela foi brutalmente assassinada s\\u00e3o encontradas numa velha cabana. Ap\\u00f3s quatro anos vivendo numa tristeza profunda causada pela culpa e pela saudade da menina, Mack recebe um estranho bilhete, aparentemente escrito por Deus, convidando-o a voltar \\u00e0 cabana onde acontecera a trag\\u00e9dia. Apesar de desconfiado, ele vai ao local numa tarde de inverno e adentra passo a passo o cen\\u00e1rio de seu mais terr\\u00edvel pesadelo. Mas o que ele encontra l\\u00e1 muda o seu destino para sempre. Em um mundo cruel e injusto, \\\"A cabana\\\" levanta um questionamento atemporal: se Deus \\u00e9 t\\u00e3o poderoso, por que n\\u00e3o faz nada para amenizar nosso sofrimento? As respostas que Mack encontra v\\u00e3o surpreender voc\\u00ea e podem transformar sua vida de maneira t\\u00e3o profunda quanto transformaram a dele. Esta edi\\u00e7\\u00e3o especial inclui um texto in\\u00e9dito do autor, relembrando os 10 anos de sucesso que marcaram a trajet\\u00f3ria do livro e contando detalhes da grava\\u00e7\\u00e3o do filme. Al\\u00e9m disso, traz um caderno de fotos com cenas da adapta\\u00e7\\u00e3o desta hist\\u00f3ria para as telas do cinema.Caracter\\u00edsticasTipo de Produto: LivroMedidas (cm): 23.00 x 16.00 x 1.40 cmIdiomas: Portugu\\u00easAno: 2017Autor: William P. YoungISBN: 8580416345Editora: ArqueiroEdi\\u00e7\\u00e3o: 1\\u00aa Ed.Encaderna\\u00e7\\u00e3o: BrochuraN\\u00ba de P\\u00e1ginas: 248Mais Informa\\u00e7\\u00f5es: Tradutor: Alves Calado, Assunto: Romances, Origem: Nacional, C\\u00f3digo de Barras: 9788580416343\"\n        ],\n        \"semantic_type\": \"\",\n        \"description\": \"\"\n      }\n    }\n  ]\n}",
              "type": "dataframe",
              "variable_name": "df"
            },
            "text/html": [
              "\n",
              "  <div id=\"df-f5ba01b7-1a74-4d9e-a74a-373897e5f45d\" class=\"colab-df-container\">\n",
              "    <div>\n",
              "<style scoped>\n",
              "    .dataframe tbody tr th:only-of-type {\n",
              "        vertical-align: middle;\n",
              "    }\n",
              "\n",
              "    .dataframe tbody tr th {\n",
              "        vertical-align: top;\n",
              "    }\n",
              "\n",
              "    .dataframe thead th {\n",
              "        text-align: right;\n",
              "    }\n",
              "</style>\n",
              "<table border=\"1\" class=\"dataframe\">\n",
              "  <thead>\n",
              "    <tr style=\"text-align: right;\">\n",
              "      <th></th>\n",
              "      <th>nome</th>\n",
              "      <th>descricao</th>\n",
              "      <th>categoria</th>\n",
              "      <th>texto</th>\n",
              "    </tr>\n",
              "  </thead>\n",
              "  <tbody>\n",
              "    <tr>\n",
              "      <th>0</th>\n",
              "      <td>O Hobbit - 7ª Ed. 2013</td>\n",
              "      <td>Produto NovoBilbo Bolseiro é um hobbit que lev...</td>\n",
              "      <td>livro</td>\n",
              "      <td>O Hobbit - 7ª Ed. 2013  Produto NovoBilbo Bol...</td>\n",
              "    </tr>\n",
              "    <tr>\n",
              "      <th>1</th>\n",
              "      <td>Livro - It A Coisa - Stephen King</td>\n",
              "      <td>Produto NovoDurante as férias escolares de 195...</td>\n",
              "      <td>livro</td>\n",
              "      <td>Livro - It A Coisa - Stephen King  Produto No...</td>\n",
              "    </tr>\n",
              "    <tr>\n",
              "      <th>2</th>\n",
              "      <td>Box  As Crônicas De Gelo E Fogo  Pocket  5 Li...</td>\n",
              "      <td>Produto NovoTodo o reino de Westeros ao alcanc...</td>\n",
              "      <td>livro</td>\n",
              "      <td>Box  As Crônicas De Gelo E Fogo  Pocket  5 Li...</td>\n",
              "    </tr>\n",
              "    <tr>\n",
              "      <th>3</th>\n",
              "      <td>Box Harry Potter</td>\n",
              "      <td>Produto Novo e Físico  A série Harry Potter ch...</td>\n",
              "      <td>livro</td>\n",
              "      <td>Box Harry Potter  Produto Novo e Físico  A sé...</td>\n",
              "    </tr>\n",
              "    <tr>\n",
              "      <th>4</th>\n",
              "      <td>Livro Origem - Dan Brown</td>\n",
              "      <td>Produto NovoDe Onde Viemos? Para Onde Vamos? R...</td>\n",
              "      <td>livro</td>\n",
              "      <td>Livro Origem - Dan Brown  Produto NovoDe Onde...</td>\n",
              "    </tr>\n",
              "  </tbody>\n",
              "</table>\n",
              "</div>\n",
              "    <div class=\"colab-df-buttons\">\n",
              "\n",
              "  <div class=\"colab-df-container\">\n",
              "    <button class=\"colab-df-convert\" onclick=\"convertToInteractive('df-f5ba01b7-1a74-4d9e-a74a-373897e5f45d')\"\n",
              "            title=\"Convert this dataframe to an interactive table.\"\n",
              "            style=\"display:none;\">\n",
              "\n",
              "  <svg xmlns=\"http://www.w3.org/2000/svg\" height=\"24px\" viewBox=\"0 -960 960 960\">\n",
              "    <path d=\"M120-120v-720h720v720H120Zm60-500h600v-160H180v160Zm220 220h160v-160H400v160Zm0 220h160v-160H400v160ZM180-400h160v-160H180v160Zm440 0h160v-160H620v160ZM180-180h160v-160H180v160Zm440 0h160v-160H620v160Z\"/>\n",
              "  </svg>\n",
              "    </button>\n",
              "\n",
              "  <style>\n",
              "    .colab-df-container {\n",
              "      display:flex;\n",
              "      gap: 12px;\n",
              "    }\n",
              "\n",
              "    .colab-df-convert {\n",
              "      background-color: #E8F0FE;\n",
              "      border: none;\n",
              "      border-radius: 50%;\n",
              "      cursor: pointer;\n",
              "      display: none;\n",
              "      fill: #1967D2;\n",
              "      height: 32px;\n",
              "      padding: 0 0 0 0;\n",
              "      width: 32px;\n",
              "    }\n",
              "\n",
              "    .colab-df-convert:hover {\n",
              "      background-color: #E2EBFA;\n",
              "      box-shadow: 0px 1px 2px rgba(60, 64, 67, 0.3), 0px 1px 3px 1px rgba(60, 64, 67, 0.15);\n",
              "      fill: #174EA6;\n",
              "    }\n",
              "\n",
              "    .colab-df-buttons div {\n",
              "      margin-bottom: 4px;\n",
              "    }\n",
              "\n",
              "    [theme=dark] .colab-df-convert {\n",
              "      background-color: #3B4455;\n",
              "      fill: #D2E3FC;\n",
              "    }\n",
              "\n",
              "    [theme=dark] .colab-df-convert:hover {\n",
              "      background-color: #434B5C;\n",
              "      box-shadow: 0px 1px 3px 1px rgba(0, 0, 0, 0.15);\n",
              "      filter: drop-shadow(0px 1px 2px rgba(0, 0, 0, 0.3));\n",
              "      fill: #FFFFFF;\n",
              "    }\n",
              "  </style>\n",
              "\n",
              "    <script>\n",
              "      const buttonEl =\n",
              "        document.querySelector('#df-f5ba01b7-1a74-4d9e-a74a-373897e5f45d button.colab-df-convert');\n",
              "      buttonEl.style.display =\n",
              "        google.colab.kernel.accessAllowed ? 'block' : 'none';\n",
              "\n",
              "      async function convertToInteractive(key) {\n",
              "        const element = document.querySelector('#df-f5ba01b7-1a74-4d9e-a74a-373897e5f45d');\n",
              "        const dataTable =\n",
              "          await google.colab.kernel.invokeFunction('convertToInteractive',\n",
              "                                                    [key], {});\n",
              "        if (!dataTable) return;\n",
              "\n",
              "        const docLinkHtml = 'Like what you see? Visit the ' +\n",
              "          '<a target=\"_blank\" href=https://colab.research.google.com/notebooks/data_table.ipynb>data table notebook</a>'\n",
              "          + ' to learn more about interactive tables.';\n",
              "        element.innerHTML = '';\n",
              "        dataTable['output_type'] = 'display_data';\n",
              "        await google.colab.output.renderOutput(dataTable, element);\n",
              "        const docLink = document.createElement('div');\n",
              "        docLink.innerHTML = docLinkHtml;\n",
              "        element.appendChild(docLink);\n",
              "      }\n",
              "    </script>\n",
              "  </div>\n",
              "\n",
              "\n",
              "    <div id=\"df-85135ba9-4d5d-4ba1-b0af-7a84f3d9b4ae\">\n",
              "      <button class=\"colab-df-quickchart\" onclick=\"quickchart('df-85135ba9-4d5d-4ba1-b0af-7a84f3d9b4ae')\"\n",
              "                title=\"Suggest charts\"\n",
              "                style=\"display:none;\">\n",
              "\n",
              "<svg xmlns=\"http://www.w3.org/2000/svg\" height=\"24px\"viewBox=\"0 0 24 24\"\n",
              "     width=\"24px\">\n",
              "    <g>\n",
              "        <path d=\"M19 3H5c-1.1 0-2 .9-2 2v14c0 1.1.9 2 2 2h14c1.1 0 2-.9 2-2V5c0-1.1-.9-2-2-2zM9 17H7v-7h2v7zm4 0h-2V7h2v10zm4 0h-2v-4h2v4z\"/>\n",
              "    </g>\n",
              "</svg>\n",
              "      </button>\n",
              "\n",
              "<style>\n",
              "  .colab-df-quickchart {\n",
              "      --bg-color: #E8F0FE;\n",
              "      --fill-color: #1967D2;\n",
              "      --hover-bg-color: #E2EBFA;\n",
              "      --hover-fill-color: #174EA6;\n",
              "      --disabled-fill-color: #AAA;\n",
              "      --disabled-bg-color: #DDD;\n",
              "  }\n",
              "\n",
              "  [theme=dark] .colab-df-quickchart {\n",
              "      --bg-color: #3B4455;\n",
              "      --fill-color: #D2E3FC;\n",
              "      --hover-bg-color: #434B5C;\n",
              "      --hover-fill-color: #FFFFFF;\n",
              "      --disabled-bg-color: #3B4455;\n",
              "      --disabled-fill-color: #666;\n",
              "  }\n",
              "\n",
              "  .colab-df-quickchart {\n",
              "    background-color: var(--bg-color);\n",
              "    border: none;\n",
              "    border-radius: 50%;\n",
              "    cursor: pointer;\n",
              "    display: none;\n",
              "    fill: var(--fill-color);\n",
              "    height: 32px;\n",
              "    padding: 0;\n",
              "    width: 32px;\n",
              "  }\n",
              "\n",
              "  .colab-df-quickchart:hover {\n",
              "    background-color: var(--hover-bg-color);\n",
              "    box-shadow: 0 1px 2px rgba(60, 64, 67, 0.3), 0 1px 3px 1px rgba(60, 64, 67, 0.15);\n",
              "    fill: var(--button-hover-fill-color);\n",
              "  }\n",
              "\n",
              "  .colab-df-quickchart-complete:disabled,\n",
              "  .colab-df-quickchart-complete:disabled:hover {\n",
              "    background-color: var(--disabled-bg-color);\n",
              "    fill: var(--disabled-fill-color);\n",
              "    box-shadow: none;\n",
              "  }\n",
              "\n",
              "  .colab-df-spinner {\n",
              "    border: 2px solid var(--fill-color);\n",
              "    border-color: transparent;\n",
              "    border-bottom-color: var(--fill-color);\n",
              "    animation:\n",
              "      spin 1s steps(1) infinite;\n",
              "  }\n",
              "\n",
              "  @keyframes spin {\n",
              "    0% {\n",
              "      border-color: transparent;\n",
              "      border-bottom-color: var(--fill-color);\n",
              "      border-left-color: var(--fill-color);\n",
              "    }\n",
              "    20% {\n",
              "      border-color: transparent;\n",
              "      border-left-color: var(--fill-color);\n",
              "      border-top-color: var(--fill-color);\n",
              "    }\n",
              "    30% {\n",
              "      border-color: transparent;\n",
              "      border-left-color: var(--fill-color);\n",
              "      border-top-color: var(--fill-color);\n",
              "      border-right-color: var(--fill-color);\n",
              "    }\n",
              "    40% {\n",
              "      border-color: transparent;\n",
              "      border-right-color: var(--fill-color);\n",
              "      border-top-color: var(--fill-color);\n",
              "    }\n",
              "    60% {\n",
              "      border-color: transparent;\n",
              "      border-right-color: var(--fill-color);\n",
              "    }\n",
              "    80% {\n",
              "      border-color: transparent;\n",
              "      border-right-color: var(--fill-color);\n",
              "      border-bottom-color: var(--fill-color);\n",
              "    }\n",
              "    90% {\n",
              "      border-color: transparent;\n",
              "      border-bottom-color: var(--fill-color);\n",
              "    }\n",
              "  }\n",
              "</style>\n",
              "\n",
              "      <script>\n",
              "        async function quickchart(key) {\n",
              "          const quickchartButtonEl =\n",
              "            document.querySelector('#' + key + ' button');\n",
              "          quickchartButtonEl.disabled = true;  // To prevent multiple clicks.\n",
              "          quickchartButtonEl.classList.add('colab-df-spinner');\n",
              "          try {\n",
              "            const charts = await google.colab.kernel.invokeFunction(\n",
              "                'suggestCharts', [key], {});\n",
              "          } catch (error) {\n",
              "            console.error('Error during call to suggestCharts:', error);\n",
              "          }\n",
              "          quickchartButtonEl.classList.remove('colab-df-spinner');\n",
              "          quickchartButtonEl.classList.add('colab-df-quickchart-complete');\n",
              "        }\n",
              "        (() => {\n",
              "          let quickchartButtonEl =\n",
              "            document.querySelector('#df-85135ba9-4d5d-4ba1-b0af-7a84f3d9b4ae button');\n",
              "          quickchartButtonEl.style.display =\n",
              "            google.colab.kernel.accessAllowed ? 'block' : 'none';\n",
              "        })();\n",
              "      </script>\n",
              "    </div>\n",
              "\n",
              "    </div>\n",
              "  </div>\n"
            ],
            "text/plain": [
              "                                                nome  \\\n",
              "0                            O Hobbit - 7ª Ed. 2013    \n",
              "1                 Livro - It A Coisa - Stephen King    \n",
              "2   Box  As Crônicas De Gelo E Fogo  Pocket  5 Li...   \n",
              "3                                  Box Harry Potter    \n",
              "4                          Livro Origem - Dan Brown    \n",
              "\n",
              "                                           descricao categoria  \\\n",
              "0  Produto NovoBilbo Bolseiro é um hobbit que lev...     livro   \n",
              "1  Produto NovoDurante as férias escolares de 195...     livro   \n",
              "2  Produto NovoTodo o reino de Westeros ao alcanc...     livro   \n",
              "3  Produto Novo e Físico  A série Harry Potter ch...     livro   \n",
              "4  Produto NovoDe Onde Viemos? Para Onde Vamos? R...     livro   \n",
              "\n",
              "                                               texto  \n",
              "0   O Hobbit - 7ª Ed. 2013  Produto NovoBilbo Bol...  \n",
              "1   Livro - It A Coisa - Stephen King  Produto No...  \n",
              "2   Box  As Crônicas De Gelo E Fogo  Pocket  5 Li...  \n",
              "3   Box Harry Potter  Produto Novo e Físico  A sé...  \n",
              "4   Livro Origem - Dan Brown  Produto NovoDe Onde...  "
            ]
          },
          "execution_count": 19,
          "metadata": {},
          "output_type": "execute_result"
        }
      ],
      "source": [
        "df.head()"
      ]
    },
    {
      "cell_type": "markdown",
      "metadata": {
        "id": "jxDRBAZAIDLn"
      },
      "source": [
        "#### 1.5 Descubra as 10 palavras que mais ocorrem nessa nova coluna “texto”"
      ]
    },
    {
      "cell_type": "code",
      "execution_count": 20,
      "metadata": {
        "colab": {
          "base_uri": "https://localhost:8080/"
        },
        "id": "rYSU_nBZbnfN",
        "outputId": "d5036a37-66f2-4a70-a3e8-43e10743f378"
      },
      "outputs": [
        {
          "name": "stdout",
          "output_type": "stream",
          "text": [
            "Counter({'a': 1, 'b': 1})\n",
            "Counter({'a': 2, 'b': 1})\n"
          ]
        },
        {
          "data": {
            "text/plain": [
              "[('a', 2), ('b', 1)]"
            ]
          },
          "execution_count": 20,
          "metadata": {},
          "output_type": "execute_result"
        }
      ],
      "source": [
        "from collections import Counter\n",
        "counter = Counter()\n",
        "\n",
        "counter.update('a')\n",
        "counter.update('b')\n",
        "print(counter)\n",
        "\n",
        "counter['a'] += 1\n",
        "print(counter)\n",
        "counter.most_common(10)"
      ]
    },
    {
      "cell_type": "code",
      "execution_count": 21,
      "metadata": {
        "colab": {
          "base_uri": "https://localhost:8080/"
        },
        "id": "Vjne141woo1w",
        "outputId": "2bb38b56-ad36-4ffe-be56-b95071ba80d0"
      },
      "outputs": [
        {
          "data": {
            "text/plain": [
              "['você,', 'sabia?']"
            ]
          },
          "execution_count": 21,
          "metadata": {},
          "output_type": "execute_result"
        }
      ],
      "source": [
        "\"você, sabia?\".split()"
      ]
    },
    {
      "cell_type": "code",
      "execution_count": 22,
      "metadata": {
        "colab": {
          "base_uri": "https://localhost:8080/",
          "height": 458
        },
        "id": "4m3B10vCokhM",
        "outputId": "f842b529-1b36-4544-f627-291dd601c24b"
      },
      "outputs": [
        {
          "data": {
            "text/html": [
              "<div>\n",
              "<style scoped>\n",
              "    .dataframe tbody tr th:only-of-type {\n",
              "        vertical-align: middle;\n",
              "    }\n",
              "\n",
              "    .dataframe tbody tr th {\n",
              "        vertical-align: top;\n",
              "    }\n",
              "\n",
              "    .dataframe thead th {\n",
              "        text-align: right;\n",
              "    }\n",
              "</style>\n",
              "<table border=\"1\" class=\"dataframe\">\n",
              "  <thead>\n",
              "    <tr style=\"text-align: right;\">\n",
              "      <th></th>\n",
              "      <th>texto</th>\n",
              "    </tr>\n",
              "  </thead>\n",
              "  <tbody>\n",
              "    <tr>\n",
              "      <th>0</th>\n",
              "      <td>[O, Hobbit, -, 7ª, Ed., 2013, Produto, NovoBil...</td>\n",
              "    </tr>\n",
              "    <tr>\n",
              "      <th>1</th>\n",
              "      <td>[Livro, -, It, A, Coisa, -, Stephen, King, Pro...</td>\n",
              "    </tr>\n",
              "    <tr>\n",
              "      <th>2</th>\n",
              "      <td>[Box, As, Crônicas, De, Gelo, E, Fogo, Pocket,...</td>\n",
              "    </tr>\n",
              "    <tr>\n",
              "      <th>3</th>\n",
              "      <td>[Box, Harry, Potter, Produto, Novo, e, Físico,...</td>\n",
              "    </tr>\n",
              "    <tr>\n",
              "      <th>4</th>\n",
              "      <td>[Livro, Origem, -, Dan, Brown, Produto, NovoDe...</td>\n",
              "    </tr>\n",
              "    <tr>\n",
              "      <th>...</th>\n",
              "      <td>...</td>\n",
              "    </tr>\n",
              "    <tr>\n",
              "      <th>4073</th>\n",
              "      <td>[Red, Dead, Redemption, Edição, Do, Ano, Goty,...</td>\n",
              "    </tr>\n",
              "    <tr>\n",
              "      <th>4074</th>\n",
              "      <td>[Jogo, Gta, 5, Grand, Theft, Auto, V, Ps4, Míd...</td>\n",
              "    </tr>\n",
              "    <tr>\n",
              "      <th>4075</th>\n",
              "      <td>[Zelda:, Breath, Of, The, Wild, -, Expansion, ...</td>\n",
              "    </tr>\n",
              "    <tr>\n",
              "      <th>4078</th>\n",
              "      <td>[Gta, San, Andreas, Hd, Remastered, Ps3, Envio...</td>\n",
              "    </tr>\n",
              "    <tr>\n",
              "      <th>4079</th>\n",
              "      <td>[Mini, Game, Nova, Portátil, 10mil, Jogos, Pla...</td>\n",
              "    </tr>\n",
              "  </tbody>\n",
              "</table>\n",
              "<p>2916 rows × 1 columns</p>\n",
              "</div><br><label><b>dtype:</b> object</label>"
            ],
            "text/plain": [
              "0       [O, Hobbit, -, 7ª, Ed., 2013, Produto, NovoBil...\n",
              "1       [Livro, -, It, A, Coisa, -, Stephen, King, Pro...\n",
              "2       [Box, As, Crônicas, De, Gelo, E, Fogo, Pocket,...\n",
              "3       [Box, Harry, Potter, Produto, Novo, e, Físico,...\n",
              "4       [Livro, Origem, -, Dan, Brown, Produto, NovoDe...\n",
              "                              ...                        \n",
              "4073    [Red, Dead, Redemption, Edição, Do, Ano, Goty,...\n",
              "4074    [Jogo, Gta, 5, Grand, Theft, Auto, V, Ps4, Míd...\n",
              "4075    [Zelda:, Breath, Of, The, Wild, -, Expansion, ...\n",
              "4078    [Gta, San, Andreas, Hd, Remastered, Ps3, Envio...\n",
              "4079    [Mini, Game, Nova, Portátil, 10mil, Jogos, Pla...\n",
              "Name: texto, Length: 2916, dtype: object"
            ]
          },
          "execution_count": 22,
          "metadata": {},
          "output_type": "execute_result"
        }
      ],
      "source": [
        "df.texto.str.split() # default do split é o <espaço> como separador\n",
        "#df.dtypes"
      ]
    },
    {
      "cell_type": "code",
      "execution_count": 23,
      "metadata": {
        "colab": {
          "base_uri": "https://localhost:8080/",
          "height": 458
        },
        "id": "VYqbm7j0jxdX",
        "outputId": "b3e6f7d1-8075-4af6-85b0-aa976d533640"
      },
      "outputs": [
        {
          "data": {
            "text/html": [
              "<div>\n",
              "<style scoped>\n",
              "    .dataframe tbody tr th:only-of-type {\n",
              "        vertical-align: middle;\n",
              "    }\n",
              "\n",
              "    .dataframe tbody tr th {\n",
              "        vertical-align: top;\n",
              "    }\n",
              "\n",
              "    .dataframe thead th {\n",
              "        text-align: right;\n",
              "    }\n",
              "</style>\n",
              "<table border=\"1\" class=\"dataframe\">\n",
              "  <thead>\n",
              "    <tr style=\"text-align: right;\">\n",
              "      <th></th>\n",
              "      <th>texto</th>\n",
              "    </tr>\n",
              "  </thead>\n",
              "  <tbody>\n",
              "    <tr>\n",
              "      <th>0</th>\n",
              "      <td>[o, hobbit, -, 7ª, ed., 2013, produto, novobil...</td>\n",
              "    </tr>\n",
              "    <tr>\n",
              "      <th>1</th>\n",
              "      <td>[livro, -, it, a, coisa, -, stephen, king, pro...</td>\n",
              "    </tr>\n",
              "    <tr>\n",
              "      <th>2</th>\n",
              "      <td>[box, as, crônicas, de, gelo, e, fogo, pocket,...</td>\n",
              "    </tr>\n",
              "    <tr>\n",
              "      <th>3</th>\n",
              "      <td>[box, harry, potter, produto, novo, e, físico,...</td>\n",
              "    </tr>\n",
              "    <tr>\n",
              "      <th>4</th>\n",
              "      <td>[livro, origem, -, dan, brown, produto, novode...</td>\n",
              "    </tr>\n",
              "    <tr>\n",
              "      <th>...</th>\n",
              "      <td>...</td>\n",
              "    </tr>\n",
              "    <tr>\n",
              "      <th>4073</th>\n",
              "      <td>[red, dead, redemption, edição, do, ano, goty,...</td>\n",
              "    </tr>\n",
              "    <tr>\n",
              "      <th>4074</th>\n",
              "      <td>[jogo, gta, 5, grand, theft, auto, v, ps4, míd...</td>\n",
              "    </tr>\n",
              "    <tr>\n",
              "      <th>4075</th>\n",
              "      <td>[zelda:, breath, of, the, wild, -, expansion, ...</td>\n",
              "    </tr>\n",
              "    <tr>\n",
              "      <th>4078</th>\n",
              "      <td>[gta, san, andreas, hd, remastered, ps3, envio...</td>\n",
              "    </tr>\n",
              "    <tr>\n",
              "      <th>4079</th>\n",
              "      <td>[mini, game, nova, portátil, 10mil, jogos, pla...</td>\n",
              "    </tr>\n",
              "  </tbody>\n",
              "</table>\n",
              "<p>2916 rows × 1 columns</p>\n",
              "</div><br><label><b>dtype:</b> object</label>"
            ],
            "text/plain": [
              "0       [o, hobbit, -, 7ª, ed., 2013, produto, novobil...\n",
              "1       [livro, -, it, a, coisa, -, stephen, king, pro...\n",
              "2       [box, as, crônicas, de, gelo, e, fogo, pocket,...\n",
              "3       [box, harry, potter, produto, novo, e, físico,...\n",
              "4       [livro, origem, -, dan, brown, produto, novode...\n",
              "                              ...                        \n",
              "4073    [red, dead, redemption, edição, do, ano, goty,...\n",
              "4074    [jogo, gta, 5, grand, theft, auto, v, ps4, míd...\n",
              "4075    [zelda:, breath, of, the, wild, -, expansion, ...\n",
              "4078    [gta, san, andreas, hd, remastered, ps3, envio...\n",
              "4079    [mini, game, nova, portátil, 10mil, jogos, pla...\n",
              "Name: texto, Length: 2916, dtype: object"
            ]
          },
          "execution_count": 23,
          "metadata": {},
          "output_type": "execute_result"
        }
      ],
      "source": [
        "df.texto.str.lower().str.split() # default do split é o <espaço> como separador\n",
        "#df.dtypes"
      ]
    },
    {
      "cell_type": "code",
      "execution_count": 24,
      "metadata": {
        "colab": {
          "base_uri": "https://localhost:8080/",
          "height": 458
        },
        "id": "HTzKIEhyKxbw",
        "outputId": "b4dcb388-e19a-49e8-b971-3f7597da45b5"
      },
      "outputs": [
        {
          "data": {
            "text/html": [
              "<div>\n",
              "<style scoped>\n",
              "    .dataframe tbody tr th:only-of-type {\n",
              "        vertical-align: middle;\n",
              "    }\n",
              "\n",
              "    .dataframe tbody tr th {\n",
              "        vertical-align: top;\n",
              "    }\n",
              "\n",
              "    .dataframe thead th {\n",
              "        text-align: right;\n",
              "    }\n",
              "</style>\n",
              "<table border=\"1\" class=\"dataframe\">\n",
              "  <thead>\n",
              "    <tr style=\"text-align: right;\">\n",
              "      <th></th>\n",
              "      <th>texto</th>\n",
              "    </tr>\n",
              "  </thead>\n",
              "  <tbody>\n",
              "    <tr>\n",
              "      <th>0</th>\n",
              "      <td>[, o, hobbit, -, 7ª, ed., 2013, , produto, nov...</td>\n",
              "    </tr>\n",
              "    <tr>\n",
              "      <th>1</th>\n",
              "      <td>[, livro, -, it, a, coisa, -, stephen, king, ,...</td>\n",
              "    </tr>\n",
              "    <tr>\n",
              "      <th>2</th>\n",
              "      <td>[, box, , as, crônicas, de, gelo, e, fogo, , p...</td>\n",
              "    </tr>\n",
              "    <tr>\n",
              "      <th>3</th>\n",
              "      <td>[, box, harry, potter, , produto, novo, e, fís...</td>\n",
              "    </tr>\n",
              "    <tr>\n",
              "      <th>4</th>\n",
              "      <td>[, livro, origem, -, dan, brown, , produto, no...</td>\n",
              "    </tr>\n",
              "    <tr>\n",
              "      <th>...</th>\n",
              "      <td>...</td>\n",
              "    </tr>\n",
              "    <tr>\n",
              "      <th>4073</th>\n",
              "      <td>[, red, dead, redemption, edição, do, ano, got...</td>\n",
              "    </tr>\n",
              "    <tr>\n",
              "      <th>4074</th>\n",
              "      <td>[, jogo, gta, 5, grand, theft, auto, v, ps4, m...</td>\n",
              "    </tr>\n",
              "    <tr>\n",
              "      <th>4075</th>\n",
              "      <td>[, zelda:, breath, of, the, wild, -, expansion...</td>\n",
              "    </tr>\n",
              "    <tr>\n",
              "      <th>4078</th>\n",
              "      <td>[, gta, san, andreas, hd, remastered, ps3, env...</td>\n",
              "    </tr>\n",
              "    <tr>\n",
              "      <th>4079</th>\n",
              "      <td>[, mini, game, , nova, portátil, 10mil, jogos,...</td>\n",
              "    </tr>\n",
              "  </tbody>\n",
              "</table>\n",
              "<p>2916 rows × 1 columns</p>\n",
              "</div><br><label><b>dtype:</b> object</label>"
            ],
            "text/plain": [
              "0       [, o, hobbit, -, 7ª, ed., 2013, , produto, nov...\n",
              "1       [, livro, -, it, a, coisa, -, stephen, king, ,...\n",
              "2       [, box, , as, crônicas, de, gelo, e, fogo, , p...\n",
              "3       [, box, harry, potter, , produto, novo, e, fís...\n",
              "4       [, livro, origem, -, dan, brown, , produto, no...\n",
              "                              ...                        \n",
              "4073    [, red, dead, redemption, edição, do, ano, got...\n",
              "4074    [, jogo, gta, 5, grand, theft, auto, v, ps4, m...\n",
              "4075    [, zelda:, breath, of, the, wild, -, expansion...\n",
              "4078    [, gta, san, andreas, hd, remastered, ps3, env...\n",
              "4079    [, mini, game, , nova, portátil, 10mil, jogos,...\n",
              "Name: texto, Length: 2916, dtype: object"
            ]
          },
          "execution_count": 24,
          "metadata": {},
          "output_type": "execute_result"
        }
      ],
      "source": [
        "df.texto.str.lower().str.split(\" \") # tranforma a descrição em minúsculas e depois separa as pelavras pelo <espaço> e retorna no formato de lista"
      ]
    },
    {
      "cell_type": "code",
      "execution_count": 25,
      "metadata": {
        "id": "UkrTZw58L5AN"
      },
      "outputs": [],
      "source": [
        "from collections import Counter # implementa um container de tipo de dados. Ex: dict, list, set, and tuple\n",
        "\n",
        "c = Counter() # subclasse dict para contar objetos"
      ]
    },
    {
      "cell_type": "code",
      "execution_count": 26,
      "metadata": {
        "colab": {
          "base_uri": "https://localhost:8080/"
        },
        "id": "vaLAnprh6KPa",
        "outputId": "f48e8684-40d8-49a0-cc52-0cbecab769eb"
      },
      "outputs": [
        {
          "data": {
            "text/plain": [
              "[('de', 24300),\n",
              " ('e', 16042),\n",
              " ('o', 12424),\n",
              " ('a', 12152),\n",
              " ('do', 8791),\n",
              " ('para', 8032),\n",
              " ('-', 7413),\n",
              " ('em', 6900),\n",
              " ('que', 6797),\n",
              " ('com', 6247)]"
            ]
          },
          "execution_count": 26,
          "metadata": {},
          "output_type": "execute_result"
        }
      ],
      "source": [
        "df.texto.str.lower().str.split().apply(c.update) # implementa a contagem\n",
        "\n",
        "c.most_common(10)"
      ]
    },
    {
      "cell_type": "code",
      "execution_count": 27,
      "metadata": {
        "colab": {
          "base_uri": "https://localhost:8080/"
        },
        "id": "BCbJVLAR-gBa",
        "outputId": "fe89a8c1-6787-4afe-a63d-048325ffc381"
      },
      "outputs": [
        {
          "data": {
            "text/plain": [
              "[('de', 24300),\n",
              " ('e', 16042),\n",
              " ('o', 12424),\n",
              " ('a', 12152),\n",
              " ('do', 8791),\n",
              " ('para', 8032),\n",
              " ('-', 7413),\n",
              " ('em', 6900),\n",
              " ('que', 6797),\n",
              " ('com', 6247)]"
            ]
          },
          "execution_count": 27,
          "metadata": {},
          "output_type": "execute_result"
        }
      ],
      "source": [
        "# Outra forma de implementar\n",
        "from collections import Counter\n",
        "\n",
        "palavras = ' '.join(df['texto'].str.lower()).split()\n",
        "\n",
        "contagem_palavras = Counter(palavras)\n",
        "contagem_palavras.most_common(10)"
      ]
    },
    {
      "cell_type": "markdown",
      "metadata": {
        "id": "JMpQLGqtINgu"
      },
      "source": [
        "#### **Bônus!** Monte uma nuvem de palavras"
      ]
    },
    {
      "cell_type": "code",
      "execution_count": 28,
      "metadata": {
        "colab": {
          "base_uri": "https://localhost:8080/",
          "height": 303
        },
        "id": "DakRXcNye0eP",
        "outputId": "e90835eb-6dd5-4466-a906-d2cbd5cea383"
      },
      "outputs": [
        {
          "data": {
            "image/png": "[encoded data removed]",
            "text/plain": [
              "<Figure size 400x400 with 1 Axes>"
            ]
          },
          "metadata": {},
          "output_type": "display_data"
        }
      ],
      "source": [
        "import matplotlib.pyplot as plt\n",
        "\n",
        "try:\n",
        "  from wordcloud import WordCloud\n",
        "except:\n",
        "  !pip install wordcloud\n",
        "  from wordcloud import WordCloud\n",
        "\n",
        "livro_words = ''\n",
        "livro = df[df.categoria == 'livro'] # filtrei a categoria livro apenas como exemplo rápido para a demostração\n",
        "\n",
        "# reune todas as plalavras em um único objeto, veja.\n",
        "for val in livro.texto:\n",
        "  text = val.lower()\n",
        "  for words in text:\n",
        "    livro_words = livro_words + words\n",
        "    # todas as palavras das descrições da categoria livro no mesmo objeto: livro_words. As palavras são inseridas letra por letra\n",
        "\n",
        "# Gera uma imagem da nuvem de palavras (Generate a word cloud image)\n",
        "livro_wordcloud = WordCloud(width=600, height=400).generate(livro_words)\n",
        "\n",
        "# Word cloud da categoria Livro\n",
        "plt.figure( figsize=(4,4), facecolor='k')\n",
        "plt.imshow(livro_wordcloud)\n",
        "plt.axis(\"off\")\n",
        "plt.tight_layout(pad=0) # Preenchimento entre a borda e a figura\n",
        "plt.show()"
      ]
    },
    {
      "cell_type": "code",
      "execution_count": 29,
      "metadata": {
        "colab": {
          "base_uri": "https://localhost:8080/",
          "height": 303
        },
        "id": "npyDF0IGs8RG",
        "outputId": "0f657228-1934-4412-a374-06a09c21f64c"
      },
      "outputs": [
        {
          "data": {
            "image/png": "[encoded data removed]",
            "text/plain": [
              "<Figure size 400x400 with 1 Axes>"
            ]
          },
          "metadata": {},
          "output_type": "display_data"
        }
      ],
      "source": [
        "import matplotlib.pyplot as plt\n",
        "from wordcloud import WordCloud\n",
        "\n",
        "# filtrei a categoria livro apenas como exemplo rápido para a demostração e termos um resultado diferente da contagem\n",
        "livro_words = ' '.join(df[df.categoria == 'livro'].texto.str.lower())\n",
        "\n",
        "# Gera uma imagem da nuvem de palavras (Generate a word cloud image)\n",
        "livro_wordcloud = WordCloud(width=600, height=400).generate(livro_words)\n",
        "\n",
        "# Word cloud da categoria Livro\n",
        "plt.figure( figsize=(4,4), facecolor='k')\n",
        "plt.imshow(livro_wordcloud)\n",
        "plt.axis(\"off\")\n",
        "plt.tight_layout(pad=0) # Preenchimento entre a borda e a figura\n",
        "plt.show()"
      ]
    }
  ],
  "metadata": {
    "colab": {
      "provenance": []
    },
    "kernelspec": {
      "display_name": "venv",
      "language": "python",
      "name": "python3"
    },
    "language_info": {
      "name": "python",
      "version": "3.12.3"
    }
  },
  "nbformat": 4,
  "nbformat_minor": 0
}
