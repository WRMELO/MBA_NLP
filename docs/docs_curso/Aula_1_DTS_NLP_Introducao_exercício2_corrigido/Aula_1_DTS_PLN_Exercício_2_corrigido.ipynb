{
  "nbformat": 4,
  "nbformat_minor": 0,
  "metadata": {
    "colab": {
      "provenance": []
    },
    "kernelspec": {
      "name": "python3",
      "display_name": "Python 3"
    },
    "language_info": {
      "name": "python"
    }
  },
  "cells": [
    {
      "cell_type": "markdown",
      "metadata": {
        "id": "1FdxZAH6TWPH"
      },
      "source": [
        "#**Exercícios - Aula 1**"
      ]
    },
    {
      "cell_type": "markdown",
      "metadata": {
        "id": "L1MQM9mjh1uc"
      },
      "source": [
        "## 2) Utilizando o dataset de produtos [1]:"
      ]
    },
    {
      "cell_type": "code",
      "source": [
        "import pandas as pd\n",
        "\n",
        "df = pd.read_csv(\n",
        "    \"https://dados-ml-pln.s3-sa-east-1.amazonaws.com/produtos.csv\",\n",
        "    delimiter=\";\",\n",
        "    encoding='utf-8' )"
      ],
      "metadata": {
        "id": "ZPHVrmEcIe0-"
      },
      "execution_count": 1,
      "outputs": []
    },
    {
      "cell_type": "code",
      "source": [
        "df.head()"
      ],
      "metadata": {
        "id": "YwlXdfXPcMmL",
        "colab": {
          "base_uri": "https://localhost:8080/",
          "height": 206
        },
        "outputId": "8deb80cf-43a4-4296-82c9-c8ebc9bd800a"
      },
      "execution_count": 2,
      "outputs": [
        {
          "output_type": "execute_result",
          "data": {
            "text/plain": [
              "                                                nome  \\\n",
              "0                            O Hobbit - 7ª Ed. 2013    \n",
              "1                 Livro - It A Coisa - Stephen King    \n",
              "2   Box  As Crônicas De Gelo E Fogo  Pocket  5 Li...   \n",
              "3                                  Box Harry Potter    \n",
              "4                          Livro Origem - Dan Brown    \n",
              "\n",
              "                                           descricao categoria  \n",
              "0  Produto NovoBilbo Bolseiro é um hobbit que lev...     livro  \n",
              "1  Produto NovoDurante as férias escolares de 195...     livro  \n",
              "2  Produto NovoTodo o reino de Westeros ao alcanc...     livro  \n",
              "3  Produto Novo e Físico  A série Harry Potter ch...     livro  \n",
              "4  Produto NovoDe Onde Viemos? Para Onde Vamos? R...     livro  "
            ],
            "text/html": [
              "\n",
              "  <div id=\"df-4bf3d02b-c411-4ac5-a4b8-1cffebef6571\" class=\"colab-df-container\">\n",
              "    <div>\n",
              "<style scoped>\n",
              "    .dataframe tbody tr th:only-of-type {\n",
              "        vertical-align: middle;\n",
              "    }\n",
              "\n",
              "    .dataframe tbody tr th {\n",
              "        vertical-align: top;\n",
              "    }\n",
              "\n",
              "    .dataframe thead th {\n",
              "        text-align: right;\n",
              "    }\n",
              "</style>\n",
              "<table border=\"1\" class=\"dataframe\">\n",
              "  <thead>\n",
              "    <tr style=\"text-align: right;\">\n",
              "      <th></th>\n",
              "      <th>nome</th>\n",
              "      <th>descricao</th>\n",
              "      <th>categoria</th>\n",
              "    </tr>\n",
              "  </thead>\n",
              "  <tbody>\n",
              "    <tr>\n",
              "      <th>0</th>\n",
              "      <td>O Hobbit - 7ª Ed. 2013</td>\n",
              "      <td>Produto NovoBilbo Bolseiro é um hobbit que lev...</td>\n",
              "      <td>livro</td>\n",
              "    </tr>\n",
              "    <tr>\n",
              "      <th>1</th>\n",
              "      <td>Livro - It A Coisa - Stephen King</td>\n",
              "      <td>Produto NovoDurante as férias escolares de 195...</td>\n",
              "      <td>livro</td>\n",
              "    </tr>\n",
              "    <tr>\n",
              "      <th>2</th>\n",
              "      <td>Box  As Crônicas De Gelo E Fogo  Pocket  5 Li...</td>\n",
              "      <td>Produto NovoTodo o reino de Westeros ao alcanc...</td>\n",
              "      <td>livro</td>\n",
              "    </tr>\n",
              "    <tr>\n",
              "      <th>3</th>\n",
              "      <td>Box Harry Potter</td>\n",
              "      <td>Produto Novo e Físico  A série Harry Potter ch...</td>\n",
              "      <td>livro</td>\n",
              "    </tr>\n",
              "    <tr>\n",
              "      <th>4</th>\n",
              "      <td>Livro Origem - Dan Brown</td>\n",
              "      <td>Produto NovoDe Onde Viemos? Para Onde Vamos? R...</td>\n",
              "      <td>livro</td>\n",
              "    </tr>\n",
              "  </tbody>\n",
              "</table>\n",
              "</div>\n",
              "    <div class=\"colab-df-buttons\">\n",
              "\n",
              "  <div class=\"colab-df-container\">\n",
              "    <button class=\"colab-df-convert\" onclick=\"convertToInteractive('df-4bf3d02b-c411-4ac5-a4b8-1cffebef6571')\"\n",
              "            title=\"Convert this dataframe to an interactive table.\"\n",
              "            style=\"display:none;\">\n",
              "\n",
              "  <svg xmlns=\"http://www.w3.org/2000/svg\" height=\"24px\" viewBox=\"0 -960 960 960\">\n",
              "    <path d=\"M120-120v-720h720v720H120Zm60-500h600v-160H180v160Zm220 220h160v-160H400v160Zm0 220h160v-160H400v160ZM180-400h160v-160H180v160Zm440 0h160v-160H620v160ZM180-180h160v-160H180v160Zm440 0h160v-160H620v160Z\"/>\n",
              "  </svg>\n",
              "    </button>\n",
              "\n",
              "  <style>\n",
              "    .colab-df-container {\n",
              "      display:flex;\n",
              "      gap: 12px;\n",
              "    }\n",
              "\n",
              "    .colab-df-convert {\n",
              "      background-color: #E8F0FE;\n",
              "      border: none;\n",
              "      border-radius: 50%;\n",
              "      cursor: pointer;\n",
              "      display: none;\n",
              "      fill: #1967D2;\n",
              "      height: 32px;\n",
              "      padding: 0 0 0 0;\n",
              "      width: 32px;\n",
              "    }\n",
              "\n",
              "    .colab-df-convert:hover {\n",
              "      background-color: #E2EBFA;\n",
              "      box-shadow: 0px 1px 2px rgba(60, 64, 67, 0.3), 0px 1px 3px 1px rgba(60, 64, 67, 0.15);\n",
              "      fill: #174EA6;\n",
              "    }\n",
              "\n",
              "    .colab-df-buttons div {\n",
              "      margin-bottom: 4px;\n",
              "    }\n",
              "\n",
              "    [theme=dark] .colab-df-convert {\n",
              "      background-color: #3B4455;\n",
              "      fill: #D2E3FC;\n",
              "    }\n",
              "\n",
              "    [theme=dark] .colab-df-convert:hover {\n",
              "      background-color: #434B5C;\n",
              "      box-shadow: 0px 1px 3px 1px rgba(0, 0, 0, 0.15);\n",
              "      filter: drop-shadow(0px 1px 2px rgba(0, 0, 0, 0.3));\n",
              "      fill: #FFFFFF;\n",
              "    }\n",
              "  </style>\n",
              "\n",
              "    <script>\n",
              "      const buttonEl =\n",
              "        document.querySelector('#df-4bf3d02b-c411-4ac5-a4b8-1cffebef6571 button.colab-df-convert');\n",
              "      buttonEl.style.display =\n",
              "        google.colab.kernel.accessAllowed ? 'block' : 'none';\n",
              "\n",
              "      async function convertToInteractive(key) {\n",
              "        const element = document.querySelector('#df-4bf3d02b-c411-4ac5-a4b8-1cffebef6571');\n",
              "        const dataTable =\n",
              "          await google.colab.kernel.invokeFunction('convertToInteractive',\n",
              "                                                    [key], {});\n",
              "        if (!dataTable) return;\n",
              "\n",
              "        const docLinkHtml = 'Like what you see? Visit the ' +\n",
              "          '<a target=\"_blank\" href=https://colab.research.google.com/notebooks/data_table.ipynb>data table notebook</a>'\n",
              "          + ' to learn more about interactive tables.';\n",
              "        element.innerHTML = '';\n",
              "        dataTable['output_type'] = 'display_data';\n",
              "        await google.colab.output.renderOutput(dataTable, element);\n",
              "        const docLink = document.createElement('div');\n",
              "        docLink.innerHTML = docLinkHtml;\n",
              "        element.appendChild(docLink);\n",
              "      }\n",
              "    </script>\n",
              "  </div>\n",
              "\n",
              "\n",
              "    <div id=\"df-6fc8e5af-da38-4920-8d75-624a3f170571\">\n",
              "      <button class=\"colab-df-quickchart\" onclick=\"quickchart('df-6fc8e5af-da38-4920-8d75-624a3f170571')\"\n",
              "                title=\"Suggest charts\"\n",
              "                style=\"display:none;\">\n",
              "\n",
              "<svg xmlns=\"http://www.w3.org/2000/svg\" height=\"24px\"viewBox=\"0 0 24 24\"\n",
              "     width=\"24px\">\n",
              "    <g>\n",
              "        <path d=\"M19 3H5c-1.1 0-2 .9-2 2v14c0 1.1.9 2 2 2h14c1.1 0 2-.9 2-2V5c0-1.1-.9-2-2-2zM9 17H7v-7h2v7zm4 0h-2V7h2v10zm4 0h-2v-4h2v4z\"/>\n",
              "    </g>\n",
              "</svg>\n",
              "      </button>\n",
              "\n",
              "<style>\n",
              "  .colab-df-quickchart {\n",
              "      --bg-color: #E8F0FE;\n",
              "      --fill-color: #1967D2;\n",
              "      --hover-bg-color: #E2EBFA;\n",
              "      --hover-fill-color: #174EA6;\n",
              "      --disabled-fill-color: #AAA;\n",
              "      --disabled-bg-color: #DDD;\n",
              "  }\n",
              "\n",
              "  [theme=dark] .colab-df-quickchart {\n",
              "      --bg-color: #3B4455;\n",
              "      --fill-color: #D2E3FC;\n",
              "      --hover-bg-color: #434B5C;\n",
              "      --hover-fill-color: #FFFFFF;\n",
              "      --disabled-bg-color: #3B4455;\n",
              "      --disabled-fill-color: #666;\n",
              "  }\n",
              "\n",
              "  .colab-df-quickchart {\n",
              "    background-color: var(--bg-color);\n",
              "    border: none;\n",
              "    border-radius: 50%;\n",
              "    cursor: pointer;\n",
              "    display: none;\n",
              "    fill: var(--fill-color);\n",
              "    height: 32px;\n",
              "    padding: 0;\n",
              "    width: 32px;\n",
              "  }\n",
              "\n",
              "  .colab-df-quickchart:hover {\n",
              "    background-color: var(--hover-bg-color);\n",
              "    box-shadow: 0 1px 2px rgba(60, 64, 67, 0.3), 0 1px 3px 1px rgba(60, 64, 67, 0.15);\n",
              "    fill: var(--button-hover-fill-color);\n",
              "  }\n",
              "\n",
              "  .colab-df-quickchart-complete:disabled,\n",
              "  .colab-df-quickchart-complete:disabled:hover {\n",
              "    background-color: var(--disabled-bg-color);\n",
              "    fill: var(--disabled-fill-color);\n",
              "    box-shadow: none;\n",
              "  }\n",
              "\n",
              "  .colab-df-spinner {\n",
              "    border: 2px solid var(--fill-color);\n",
              "    border-color: transparent;\n",
              "    border-bottom-color: var(--fill-color);\n",
              "    animation:\n",
              "      spin 1s steps(1) infinite;\n",
              "  }\n",
              "\n",
              "  @keyframes spin {\n",
              "    0% {\n",
              "      border-color: transparent;\n",
              "      border-bottom-color: var(--fill-color);\n",
              "      border-left-color: var(--fill-color);\n",
              "    }\n",
              "    20% {\n",
              "      border-color: transparent;\n",
              "      border-left-color: var(--fill-color);\n",
              "      border-top-color: var(--fill-color);\n",
              "    }\n",
              "    30% {\n",
              "      border-color: transparent;\n",
              "      border-left-color: var(--fill-color);\n",
              "      border-top-color: var(--fill-color);\n",
              "      border-right-color: var(--fill-color);\n",
              "    }\n",
              "    40% {\n",
              "      border-color: transparent;\n",
              "      border-right-color: var(--fill-color);\n",
              "      border-top-color: var(--fill-color);\n",
              "    }\n",
              "    60% {\n",
              "      border-color: transparent;\n",
              "      border-right-color: var(--fill-color);\n",
              "    }\n",
              "    80% {\n",
              "      border-color: transparent;\n",
              "      border-right-color: var(--fill-color);\n",
              "      border-bottom-color: var(--fill-color);\n",
              "    }\n",
              "    90% {\n",
              "      border-color: transparent;\n",
              "      border-bottom-color: var(--fill-color);\n",
              "    }\n",
              "  }\n",
              "</style>\n",
              "\n",
              "      <script>\n",
              "        async function quickchart(key) {\n",
              "          const quickchartButtonEl =\n",
              "            document.querySelector('#' + key + ' button');\n",
              "          quickchartButtonEl.disabled = true;  // To prevent multiple clicks.\n",
              "          quickchartButtonEl.classList.add('colab-df-spinner');\n",
              "          try {\n",
              "            const charts = await google.colab.kernel.invokeFunction(\n",
              "                'suggestCharts', [key], {});\n",
              "          } catch (error) {\n",
              "            console.error('Error during call to suggestCharts:', error);\n",
              "          }\n",
              "          quickchartButtonEl.classList.remove('colab-df-spinner');\n",
              "          quickchartButtonEl.classList.add('colab-df-quickchart-complete');\n",
              "        }\n",
              "        (() => {\n",
              "          let quickchartButtonEl =\n",
              "            document.querySelector('#df-6fc8e5af-da38-4920-8d75-624a3f170571 button');\n",
              "          quickchartButtonEl.style.display =\n",
              "            google.colab.kernel.accessAllowed ? 'block' : 'none';\n",
              "        })();\n",
              "      </script>\n",
              "    </div>\n",
              "\n",
              "    </div>\n",
              "  </div>\n"
            ],
            "application/vnd.google.colaboratory.intrinsic+json": {
              "type": "dataframe",
              "variable_name": "df",
              "summary": "{\n  \"name\": \"df\",\n  \"rows\": 4080,\n  \"fields\": [\n    {\n      \"column\": \"nome\",\n      \"properties\": {\n        \"dtype\": \"string\",\n        \"num_unique_values\": 3696,\n        \"samples\": [\n          \" Varinha Hermione + Colar Harry Potter Rel\\u00edquias Da Morte \",\n          \" Homem Que Calculava, O (edi\\u00e7ao Especial) \",\n          \" Nas Montanhas Do Marrocos \"\n        ],\n        \"semantic_type\": \"\",\n        \"description\": \"\"\n      }\n    },\n    {\n      \"column\": \"descricao\",\n      \"properties\": {\n        \"dtype\": \"string\",\n        \"num_unique_values\": 2460,\n        \"samples\": [\n          \"DESCRI\\u00c7\\u00c3O DO KIT MAQUIAGEM V255:- 1 Base L\\u00edquida Matte Luxo Ruby  - 1 Primer Facial PRE BASE AVON  - 1 P\\u00f3 F\\u00e1cial Compacto Mattte Ruby - 1 Demaquilante AVON  - 1 Corretivo em Bast\\u00e3o e Corretivo L\\u00edquido 2 em 1 Ruby Rose  - 1 Creme Hidratante prote\\u00e7\\u00e3o 24 horas AVON   - 1 Kit Cuidados com a Pele Mary Kay  - 24 Cores de Sombra Matte Fosca paleta profissional Bella Angel  - 1 Lip Gloss Labial  - 1 Batons Matte Fosco Queen  - 1 Batom Ultra color Matte AVON - 1 Lip Gloss Labial AVON - 1 Batom e Batom Matte Liquido 2 em 1 Ruby Rose  - 1 P\\u00f3 Bronzeador Bella Angel ou Vult  - 1 Esmalte secagem r\\u00e1pida AVON  - 1 M\\u00e1scara para os C\\u00edlios Black Extra Volume AVON  - 1 apontador Duplo profissional Macrilan  - 1 Pin\\u00e7a profissional Macrilan  - 25 len\\u00e7os demaquilantes Macrilan  - 2 Esponjas para aplicar maquiagem Macrilan - 12 pinceis profissionais Cabo de Madeira Duo Fiber Macrilan  Descri\\u00e7\\u00e3o do Kit Profissional de Pinceis:- 1 Carteira para pinceis Luxo original Macrilan  - 1 pincel para P\\u00f3 facial, cabo de Madeira cerdas Macias 19cm  - 1 pincel para blush chanfrado , cabo de Madeira cerdas Macias 19cm  - 1 pincel para base, cabo de Madeira cerdas Macias 19cm  - 1 pincel duo fiber , cabo de Madeira cerdas Macias 19cm  - 1 pincel para esfumar c\\u00f4ncavo , cabo de Madeira cerdas Macias 19cm  - 5 pinceis para olhos , cabo de Madeira cerdas Macias 19cm  - 1 pincel para boca , cabo de Madeira cerdas Macias 19cm  - 1 Pincel pente para sobrancelhas , cabo de Madeira cerdas Macias 19cm  Descri\\u00e7\\u00e3o da Maleta :- Maleta especial para Maquiador , pr\\u00f3pria para transportar maquiagem e produtos de cuidado com a pele , Maleta com divis\\u00f3rias . Ajuste as divis\\u00f3rias da melhor forma para acomodar separadamente seu material de trabalho. Resistente e pr\\u00e1tica.- 1 Maleta Grande Profissional  -Cantoneiras em a\\u00e7o inox polido - 4 p\\u00e9s de apoio - Al\\u00e7a de M\\u00e3o em alum\\u00ednio  - fechaduras com chave - Divis\\u00f3rias ajust\\u00e1veis - 6 Bandejas deslizantes  - Medidas : 36cm x 26cm x 26cmTemos a Maleta dispon\\u00edvel na cor : Prata, Preta\",\n          \"C\\u00edlios Posti\\u00e7os para aplica\\u00e7\\u00e3o Fio a Fio NavinaOp\\u00e7\\u00f5es dispon\\u00edveis - 8mm, 10mm, 12mm e 14mmPre\\u00e7o referente a 1 caixa.Este kit n\\u00e3o cont\\u00e9m cola.Ap\\u00f3s o pagamento escolha entre os tamanhos e envie mensagem no campo de perguntas do Mercado Livre.SE OS TAMANHOS N\\u00c3O FOREM INFORMADOS, O ENVIO SER\\u00c1 ALEAT\\u00d3RIO!!!!\",\n          \"Descri\\u00e7\\u00e3o do Kit Ninja (Foto):Duas Kunais de Borracha de 25cmDuas Shurikens de Borracha com 10cm\\u00a0\"\n        ],\n        \"semantic_type\": \"\",\n        \"description\": \"\"\n      }\n    },\n    {\n      \"column\": \"categoria\",\n      \"properties\": {\n        \"dtype\": \"category\",\n        \"num_unique_values\": 4,\n        \"samples\": [\n          \"brinquedo\",\n          \"game\",\n          \"livro\"\n        ],\n        \"semantic_type\": \"\",\n        \"description\": \"\"\n      }\n    }\n  ]\n}"
            }
          },
          "metadata": {},
          "execution_count": 2
        }
      ]
    },
    {
      "cell_type": "markdown",
      "metadata": {
        "id": "s32ceDVmTWPL"
      },
      "source": [
        "#### 2.1. Elimine linhas com valores nulos"
      ]
    },
    {
      "cell_type": "code",
      "execution_count": 3,
      "metadata": {
        "id": "IWZSw1jLTVK6"
      },
      "outputs": [],
      "source": [
        "df.dropna(inplace=True)"
      ]
    },
    {
      "cell_type": "markdown",
      "metadata": {
        "id": "lvcsAfnBTWPL"
      },
      "source": [
        "#### 2.2. Adicione uma nova coluna chamada texto, formada pela composição das colunas nome e descrição"
      ]
    },
    {
      "cell_type": "code",
      "execution_count": 4,
      "metadata": {
        "id": "6B1mchCQTVK8"
      },
      "outputs": [],
      "source": [
        "df[\"texto\"] = df['nome'] + \" \" + df['descricao'] # cria uma nova culuna com os valores concatenados"
      ]
    },
    {
      "cell_type": "code",
      "source": [
        "df.head()"
      ],
      "metadata": {
        "id": "BMjU5fDvEcRe",
        "colab": {
          "base_uri": "https://localhost:8080/",
          "height": 206
        },
        "outputId": "220cd1cf-6304-44a5-d0ad-0c3bcf089f48"
      },
      "execution_count": 5,
      "outputs": [
        {
          "output_type": "execute_result",
          "data": {
            "text/plain": [
              "                                                nome  \\\n",
              "0                            O Hobbit - 7ª Ed. 2013    \n",
              "1                 Livro - It A Coisa - Stephen King    \n",
              "2   Box  As Crônicas De Gelo E Fogo  Pocket  5 Li...   \n",
              "3                                  Box Harry Potter    \n",
              "4                          Livro Origem - Dan Brown    \n",
              "\n",
              "                                           descricao categoria  \\\n",
              "0  Produto NovoBilbo Bolseiro é um hobbit que lev...     livro   \n",
              "1  Produto NovoDurante as férias escolares de 195...     livro   \n",
              "2  Produto NovoTodo o reino de Westeros ao alcanc...     livro   \n",
              "3  Produto Novo e Físico  A série Harry Potter ch...     livro   \n",
              "4  Produto NovoDe Onde Viemos? Para Onde Vamos? R...     livro   \n",
              "\n",
              "                                               texto  \n",
              "0   O Hobbit - 7ª Ed. 2013  Produto NovoBilbo Bol...  \n",
              "1   Livro - It A Coisa - Stephen King  Produto No...  \n",
              "2   Box  As Crônicas De Gelo E Fogo  Pocket  5 Li...  \n",
              "3   Box Harry Potter  Produto Novo e Físico  A sé...  \n",
              "4   Livro Origem - Dan Brown  Produto NovoDe Onde...  "
            ],
            "text/html": [
              "\n",
              "  <div id=\"df-bfb7ce86-52e5-4b7b-bf0d-b6a254bb8169\" class=\"colab-df-container\">\n",
              "    <div>\n",
              "<style scoped>\n",
              "    .dataframe tbody tr th:only-of-type {\n",
              "        vertical-align: middle;\n",
              "    }\n",
              "\n",
              "    .dataframe tbody tr th {\n",
              "        vertical-align: top;\n",
              "    }\n",
              "\n",
              "    .dataframe thead th {\n",
              "        text-align: right;\n",
              "    }\n",
              "</style>\n",
              "<table border=\"1\" class=\"dataframe\">\n",
              "  <thead>\n",
              "    <tr style=\"text-align: right;\">\n",
              "      <th></th>\n",
              "      <th>nome</th>\n",
              "      <th>descricao</th>\n",
              "      <th>categoria</th>\n",
              "      <th>texto</th>\n",
              "    </tr>\n",
              "  </thead>\n",
              "  <tbody>\n",
              "    <tr>\n",
              "      <th>0</th>\n",
              "      <td>O Hobbit - 7ª Ed. 2013</td>\n",
              "      <td>Produto NovoBilbo Bolseiro é um hobbit que lev...</td>\n",
              "      <td>livro</td>\n",
              "      <td>O Hobbit - 7ª Ed. 2013  Produto NovoBilbo Bol...</td>\n",
              "    </tr>\n",
              "    <tr>\n",
              "      <th>1</th>\n",
              "      <td>Livro - It A Coisa - Stephen King</td>\n",
              "      <td>Produto NovoDurante as férias escolares de 195...</td>\n",
              "      <td>livro</td>\n",
              "      <td>Livro - It A Coisa - Stephen King  Produto No...</td>\n",
              "    </tr>\n",
              "    <tr>\n",
              "      <th>2</th>\n",
              "      <td>Box  As Crônicas De Gelo E Fogo  Pocket  5 Li...</td>\n",
              "      <td>Produto NovoTodo o reino de Westeros ao alcanc...</td>\n",
              "      <td>livro</td>\n",
              "      <td>Box  As Crônicas De Gelo E Fogo  Pocket  5 Li...</td>\n",
              "    </tr>\n",
              "    <tr>\n",
              "      <th>3</th>\n",
              "      <td>Box Harry Potter</td>\n",
              "      <td>Produto Novo e Físico  A série Harry Potter ch...</td>\n",
              "      <td>livro</td>\n",
              "      <td>Box Harry Potter  Produto Novo e Físico  A sé...</td>\n",
              "    </tr>\n",
              "    <tr>\n",
              "      <th>4</th>\n",
              "      <td>Livro Origem - Dan Brown</td>\n",
              "      <td>Produto NovoDe Onde Viemos? Para Onde Vamos? R...</td>\n",
              "      <td>livro</td>\n",
              "      <td>Livro Origem - Dan Brown  Produto NovoDe Onde...</td>\n",
              "    </tr>\n",
              "  </tbody>\n",
              "</table>\n",
              "</div>\n",
              "    <div class=\"colab-df-buttons\">\n",
              "\n",
              "  <div class=\"colab-df-container\">\n",
              "    <button class=\"colab-df-convert\" onclick=\"convertToInteractive('df-bfb7ce86-52e5-4b7b-bf0d-b6a254bb8169')\"\n",
              "            title=\"Convert this dataframe to an interactive table.\"\n",
              "            style=\"display:none;\">\n",
              "\n",
              "  <svg xmlns=\"http://www.w3.org/2000/svg\" height=\"24px\" viewBox=\"0 -960 960 960\">\n",
              "    <path d=\"M120-120v-720h720v720H120Zm60-500h600v-160H180v160Zm220 220h160v-160H400v160Zm0 220h160v-160H400v160ZM180-400h160v-160H180v160Zm440 0h160v-160H620v160ZM180-180h160v-160H180v160Zm440 0h160v-160H620v160Z\"/>\n",
              "  </svg>\n",
              "    </button>\n",
              "\n",
              "  <style>\n",
              "    .colab-df-container {\n",
              "      display:flex;\n",
              "      gap: 12px;\n",
              "    }\n",
              "\n",
              "    .colab-df-convert {\n",
              "      background-color: #E8F0FE;\n",
              "      border: none;\n",
              "      border-radius: 50%;\n",
              "      cursor: pointer;\n",
              "      display: none;\n",
              "      fill: #1967D2;\n",
              "      height: 32px;\n",
              "      padding: 0 0 0 0;\n",
              "      width: 32px;\n",
              "    }\n",
              "\n",
              "    .colab-df-convert:hover {\n",
              "      background-color: #E2EBFA;\n",
              "      box-shadow: 0px 1px 2px rgba(60, 64, 67, 0.3), 0px 1px 3px 1px rgba(60, 64, 67, 0.15);\n",
              "      fill: #174EA6;\n",
              "    }\n",
              "\n",
              "    .colab-df-buttons div {\n",
              "      margin-bottom: 4px;\n",
              "    }\n",
              "\n",
              "    [theme=dark] .colab-df-convert {\n",
              "      background-color: #3B4455;\n",
              "      fill: #D2E3FC;\n",
              "    }\n",
              "\n",
              "    [theme=dark] .colab-df-convert:hover {\n",
              "      background-color: #434B5C;\n",
              "      box-shadow: 0px 1px 3px 1px rgba(0, 0, 0, 0.15);\n",
              "      filter: drop-shadow(0px 1px 2px rgba(0, 0, 0, 0.3));\n",
              "      fill: #FFFFFF;\n",
              "    }\n",
              "  </style>\n",
              "\n",
              "    <script>\n",
              "      const buttonEl =\n",
              "        document.querySelector('#df-bfb7ce86-52e5-4b7b-bf0d-b6a254bb8169 button.colab-df-convert');\n",
              "      buttonEl.style.display =\n",
              "        google.colab.kernel.accessAllowed ? 'block' : 'none';\n",
              "\n",
              "      async function convertToInteractive(key) {\n",
              "        const element = document.querySelector('#df-bfb7ce86-52e5-4b7b-bf0d-b6a254bb8169');\n",
              "        const dataTable =\n",
              "          await google.colab.kernel.invokeFunction('convertToInteractive',\n",
              "                                                    [key], {});\n",
              "        if (!dataTable) return;\n",
              "\n",
              "        const docLinkHtml = 'Like what you see? Visit the ' +\n",
              "          '<a target=\"_blank\" href=https://colab.research.google.com/notebooks/data_table.ipynb>data table notebook</a>'\n",
              "          + ' to learn more about interactive tables.';\n",
              "        element.innerHTML = '';\n",
              "        dataTable['output_type'] = 'display_data';\n",
              "        await google.colab.output.renderOutput(dataTable, element);\n",
              "        const docLink = document.createElement('div');\n",
              "        docLink.innerHTML = docLinkHtml;\n",
              "        element.appendChild(docLink);\n",
              "      }\n",
              "    </script>\n",
              "  </div>\n",
              "\n",
              "\n",
              "    <div id=\"df-7b6680be-430e-41af-9c65-f37497f52503\">\n",
              "      <button class=\"colab-df-quickchart\" onclick=\"quickchart('df-7b6680be-430e-41af-9c65-f37497f52503')\"\n",
              "                title=\"Suggest charts\"\n",
              "                style=\"display:none;\">\n",
              "\n",
              "<svg xmlns=\"http://www.w3.org/2000/svg\" height=\"24px\"viewBox=\"0 0 24 24\"\n",
              "     width=\"24px\">\n",
              "    <g>\n",
              "        <path d=\"M19 3H5c-1.1 0-2 .9-2 2v14c0 1.1.9 2 2 2h14c1.1 0 2-.9 2-2V5c0-1.1-.9-2-2-2zM9 17H7v-7h2v7zm4 0h-2V7h2v10zm4 0h-2v-4h2v4z\"/>\n",
              "    </g>\n",
              "</svg>\n",
              "      </button>\n",
              "\n",
              "<style>\n",
              "  .colab-df-quickchart {\n",
              "      --bg-color: #E8F0FE;\n",
              "      --fill-color: #1967D2;\n",
              "      --hover-bg-color: #E2EBFA;\n",
              "      --hover-fill-color: #174EA6;\n",
              "      --disabled-fill-color: #AAA;\n",
              "      --disabled-bg-color: #DDD;\n",
              "  }\n",
              "\n",
              "  [theme=dark] .colab-df-quickchart {\n",
              "      --bg-color: #3B4455;\n",
              "      --fill-color: #D2E3FC;\n",
              "      --hover-bg-color: #434B5C;\n",
              "      --hover-fill-color: #FFFFFF;\n",
              "      --disabled-bg-color: #3B4455;\n",
              "      --disabled-fill-color: #666;\n",
              "  }\n",
              "\n",
              "  .colab-df-quickchart {\n",
              "    background-color: var(--bg-color);\n",
              "    border: none;\n",
              "    border-radius: 50%;\n",
              "    cursor: pointer;\n",
              "    display: none;\n",
              "    fill: var(--fill-color);\n",
              "    height: 32px;\n",
              "    padding: 0;\n",
              "    width: 32px;\n",
              "  }\n",
              "\n",
              "  .colab-df-quickchart:hover {\n",
              "    background-color: var(--hover-bg-color);\n",
              "    box-shadow: 0 1px 2px rgba(60, 64, 67, 0.3), 0 1px 3px 1px rgba(60, 64, 67, 0.15);\n",
              "    fill: var(--button-hover-fill-color);\n",
              "  }\n",
              "\n",
              "  .colab-df-quickchart-complete:disabled,\n",
              "  .colab-df-quickchart-complete:disabled:hover {\n",
              "    background-color: var(--disabled-bg-color);\n",
              "    fill: var(--disabled-fill-color);\n",
              "    box-shadow: none;\n",
              "  }\n",
              "\n",
              "  .colab-df-spinner {\n",
              "    border: 2px solid var(--fill-color);\n",
              "    border-color: transparent;\n",
              "    border-bottom-color: var(--fill-color);\n",
              "    animation:\n",
              "      spin 1s steps(1) infinite;\n",
              "  }\n",
              "\n",
              "  @keyframes spin {\n",
              "    0% {\n",
              "      border-color: transparent;\n",
              "      border-bottom-color: var(--fill-color);\n",
              "      border-left-color: var(--fill-color);\n",
              "    }\n",
              "    20% {\n",
              "      border-color: transparent;\n",
              "      border-left-color: var(--fill-color);\n",
              "      border-top-color: var(--fill-color);\n",
              "    }\n",
              "    30% {\n",
              "      border-color: transparent;\n",
              "      border-left-color: var(--fill-color);\n",
              "      border-top-color: var(--fill-color);\n",
              "      border-right-color: var(--fill-color);\n",
              "    }\n",
              "    40% {\n",
              "      border-color: transparent;\n",
              "      border-right-color: var(--fill-color);\n",
              "      border-top-color: var(--fill-color);\n",
              "    }\n",
              "    60% {\n",
              "      border-color: transparent;\n",
              "      border-right-color: var(--fill-color);\n",
              "    }\n",
              "    80% {\n",
              "      border-color: transparent;\n",
              "      border-right-color: var(--fill-color);\n",
              "      border-bottom-color: var(--fill-color);\n",
              "    }\n",
              "    90% {\n",
              "      border-color: transparent;\n",
              "      border-bottom-color: var(--fill-color);\n",
              "    }\n",
              "  }\n",
              "</style>\n",
              "\n",
              "      <script>\n",
              "        async function quickchart(key) {\n",
              "          const quickchartButtonEl =\n",
              "            document.querySelector('#' + key + ' button');\n",
              "          quickchartButtonEl.disabled = true;  // To prevent multiple clicks.\n",
              "          quickchartButtonEl.classList.add('colab-df-spinner');\n",
              "          try {\n",
              "            const charts = await google.colab.kernel.invokeFunction(\n",
              "                'suggestCharts', [key], {});\n",
              "          } catch (error) {\n",
              "            console.error('Error during call to suggestCharts:', error);\n",
              "          }\n",
              "          quickchartButtonEl.classList.remove('colab-df-spinner');\n",
              "          quickchartButtonEl.classList.add('colab-df-quickchart-complete');\n",
              "        }\n",
              "        (() => {\n",
              "          let quickchartButtonEl =\n",
              "            document.querySelector('#df-7b6680be-430e-41af-9c65-f37497f52503 button');\n",
              "          quickchartButtonEl.style.display =\n",
              "            google.colab.kernel.accessAllowed ? 'block' : 'none';\n",
              "        })();\n",
              "      </script>\n",
              "    </div>\n",
              "\n",
              "    </div>\n",
              "  </div>\n"
            ],
            "application/vnd.google.colaboratory.intrinsic+json": {
              "type": "dataframe",
              "variable_name": "df",
              "summary": "{\n  \"name\": \"df\",\n  \"rows\": 2916,\n  \"fields\": [\n    {\n      \"column\": \"nome\",\n      \"properties\": {\n        \"dtype\": \"string\",\n        \"num_unique_values\": 2584,\n        \"samples\": [\n          \" Naruto 4 Ps4 Midia F\\u00edsica 100% Em Portugu\\u00eas Storm Shippuden \",\n          \" Cole\\u00e7\\u00e3o Harry Potter - Capa Branca (7 Livros) # \",\n          \" L\\u00e2mina Circular 8 Pontas - Agulhas Tebori Micropigmenta\\u00e7\\u00e3o \"\n        ],\n        \"semantic_type\": \"\",\n        \"description\": \"\"\n      }\n    },\n    {\n      \"column\": \"descricao\",\n      \"properties\": {\n        \"dtype\": \"string\",\n        \"num_unique_values\": 2460,\n        \"samples\": [\n          \"DESCRI\\u00c7\\u00c3O DO KIT MAQUIAGEM V255:- 1 Base L\\u00edquida Matte Luxo Ruby  - 1 Primer Facial PRE BASE AVON  - 1 P\\u00f3 F\\u00e1cial Compacto Mattte Ruby - 1 Demaquilante AVON  - 1 Corretivo em Bast\\u00e3o e Corretivo L\\u00edquido 2 em 1 Ruby Rose  - 1 Creme Hidratante prote\\u00e7\\u00e3o 24 horas AVON   - 1 Kit Cuidados com a Pele Mary Kay  - 24 Cores de Sombra Matte Fosca paleta profissional Bella Angel  - 1 Lip Gloss Labial  - 1 Batons Matte Fosco Queen  - 1 Batom Ultra color Matte AVON - 1 Lip Gloss Labial AVON - 1 Batom e Batom Matte Liquido 2 em 1 Ruby Rose  - 1 P\\u00f3 Bronzeador Bella Angel ou Vult  - 1 Esmalte secagem r\\u00e1pida AVON  - 1 M\\u00e1scara para os C\\u00edlios Black Extra Volume AVON  - 1 apontador Duplo profissional Macrilan  - 1 Pin\\u00e7a profissional Macrilan  - 25 len\\u00e7os demaquilantes Macrilan  - 2 Esponjas para aplicar maquiagem Macrilan - 12 pinceis profissionais Cabo de Madeira Duo Fiber Macrilan  Descri\\u00e7\\u00e3o do Kit Profissional de Pinceis:- 1 Carteira para pinceis Luxo original Macrilan  - 1 pincel para P\\u00f3 facial, cabo de Madeira cerdas Macias 19cm  - 1 pincel para blush chanfrado , cabo de Madeira cerdas Macias 19cm  - 1 pincel para base, cabo de Madeira cerdas Macias 19cm  - 1 pincel duo fiber , cabo de Madeira cerdas Macias 19cm  - 1 pincel para esfumar c\\u00f4ncavo , cabo de Madeira cerdas Macias 19cm  - 5 pinceis para olhos , cabo de Madeira cerdas Macias 19cm  - 1 pincel para boca , cabo de Madeira cerdas Macias 19cm  - 1 Pincel pente para sobrancelhas , cabo de Madeira cerdas Macias 19cm  Descri\\u00e7\\u00e3o da Maleta :- Maleta especial para Maquiador , pr\\u00f3pria para transportar maquiagem e produtos de cuidado com a pele , Maleta com divis\\u00f3rias . Ajuste as divis\\u00f3rias da melhor forma para acomodar separadamente seu material de trabalho. Resistente e pr\\u00e1tica.- 1 Maleta Grande Profissional  -Cantoneiras em a\\u00e7o inox polido - 4 p\\u00e9s de apoio - Al\\u00e7a de M\\u00e3o em alum\\u00ednio  - fechaduras com chave - Divis\\u00f3rias ajust\\u00e1veis - 6 Bandejas deslizantes  - Medidas : 36cm x 26cm x 26cmTemos a Maleta dispon\\u00edvel na cor : Prata, Preta\",\n          \"C\\u00edlios Posti\\u00e7os para aplica\\u00e7\\u00e3o Fio a Fio NavinaOp\\u00e7\\u00f5es dispon\\u00edveis - 8mm, 10mm, 12mm e 14mmPre\\u00e7o referente a 1 caixa.Este kit n\\u00e3o cont\\u00e9m cola.Ap\\u00f3s o pagamento escolha entre os tamanhos e envie mensagem no campo de perguntas do Mercado Livre.SE OS TAMANHOS N\\u00c3O FOREM INFORMADOS, O ENVIO SER\\u00c1 ALEAT\\u00d3RIO!!!!\",\n          \"Descri\\u00e7\\u00e3o do Kit Ninja (Foto):Duas Kunais de Borracha de 25cmDuas Shurikens de Borracha com 10cm\\u00a0\"\n        ],\n        \"semantic_type\": \"\",\n        \"description\": \"\"\n      }\n    },\n    {\n      \"column\": \"categoria\",\n      \"properties\": {\n        \"dtype\": \"category\",\n        \"num_unique_values\": 4,\n        \"samples\": [\n          \"brinquedo\",\n          \"game\",\n          \"livro\"\n        ],\n        \"semantic_type\": \"\",\n        \"description\": \"\"\n      }\n    },\n    {\n      \"column\": \"texto\",\n      \"properties\": {\n        \"dtype\": \"string\",\n        \"num_unique_values\": 2646,\n        \"samples\": [\n          \" Kit Maquiagem Iluminador N1  Sombras P\\u00f3  Corretivo Miss Rose  Kit de Maquiagem com paleta de Iluminador N1, Sombras Nudes, P\\u00f3 Compacto e Corretivo Miss Rose\\u00c9 composta por um mix de sombras com brilho, cintilantes e mates. Os tons s\\u00e3o quentes e neutros, perfeitos para as pessoas que gostam de tons terrosos e acinzentados. Possui alta fixa\\u00e7\\u00e3o, cores super pigmentadas, seu acabamento \\u00e9 aveludado e para ser usada em todas as ocasi\\u00f5es, pois deixa a pele com um aspecto mais natural e saud\\u00e1vel. Iluminador 024N1: \\u00c9 um dos truques infal\\u00edveis para deixar a maquiagem com um acabamento sofisticado e natural, dando vi\\u00e7o \\u00e0 pele. O Iluminador Glow Kit da Miss Rose \\u00e9 para ser usado em partes espec\\u00edficas do rosto, aquelas que voc\\u00ea gostaria de destacar, como as t\\u00eamporas e o arco abaixo das sobrancelhas. Vers\\u00e1til, pode ser usado em v\\u00e1rias ocasi\\u00f5es e tem passe livre em todos os tipos de pele.Paleta de corretivo 15 cores: \\u00c9 uma paleta de corretivo com 15 tons e tem como fun\\u00e7\\u00e3o disfar\\u00e7ar ou clarear principalmente olheiras e imperfei\\u00e7\\u00f5es da pele, como manchas, sardas (pra quem n\\u00e3o gosta), sinais, cicatrizes. Enfim, para camuflar o que voc\\u00ea n\\u00e3o quer mostrar.Sua fixa\\u00e7\\u00e3o e pigmenta\\u00e7\\u00e3o permite que voc\\u00ea passe o dia todo bem maquiada e sem precisar retocar.Paleta de p\\u00f3 compacto com 15 tonalidades: \\u00c9 um produto de participa\\u00e7\\u00e3o muito importante na maquiagem, pois atrav\\u00e9s dele teremos um acabamento transl\\u00facido e com o objetivo de uniformizar a pele. Para um efeito suave e de muita naturalidade. Serve para manter a pele com um aspecto sequinho e tirar o brilho. Ao utilizar o p\\u00f3 facial, o objetivo \\u00e9 deixar a pele com um acabamento transl\\u00facido e uniforme. Para um efeito suave e de muita naturalidade, \\u00e9 preciso escolher o tom de p\\u00f3 que combina com o seu tom de pele.O que voc\\u00ea est\\u00e1 comprando:01 Paleta 88 cores Nude 01 Paleta Glow Kit 024N101 Paleta de Corretivo 15 cores01 Paleta de p\\u00f3 15 coresSeu pedido despachado em menos de 24 horas \\u00fateis.Prazos de entrega:Expresso 3 \\u00e0 5 dias \\u00fateis Normal 7 \\u00e0 15 dias \\u00fateis. O prazo de entrega pode variar para as localidades com restri\\u00e7\\u00e3o tempor\\u00e1ria ou permanentee tamb\\u00e9m para estas localidades:Interior de: AC, AL, AM, AP, BA, CE, MA, MT, PA e PBCapitais de: RJ, MA e PB\",\n          \" Boneco Hulk Verde Premium 55 Cm - Gigante Mimo Original  Boneco Hulk Verde\\u00a0Premiumr Gigante 55 Cm Mimo PRODUTO NOVO / ENTREGA IMEDIATA !!! Descri\\u00e7\\u00e3o \\u00a0 Chegaram os incriveis Bonecos Marvel. 3 pontos , Bra\\u00e7o, Perna e Cabe\\u00e7a  Especifica\\u00e7\\u00f5es  Itens Inclusos: 01 boneco.  Recomenda\\u00e7\\u00e3o: Para crian\\u00e7as maiores de 3 anos de idade.  Restri\\u00e7\\u00e3o de Idade: N\\u00e3o recomend\\u00e1vel para menores de 3 anos por conter pe\\u00e7as pequenas que podem ser engolidas.  Aviso: As cores podem variar entre as imagens mostradas acima e o produto. Imagens meramente ilustrativas.  Certificado: Certificado pelos \\u00d3rg\\u00e3os Autorizados - OCP\\u00b4S (Organismos de Certifica\\u00e7\\u00e3o de Produtos)  Composi\\u00e7\\u00e3o / Material: PVC at\\u00f3xico.  Peso: 640 gr.  Dimens\\u00f5es (AxLxC): Aproximadamente 55 cent\\u00edmetros de altura.   \\u00a0\\u00a0SOMOS A LOJA TOYGAMES\\u00a0PRODUTO ORIGINAL, NOVO, LACRADO, COM GARANTIA E A PRONTA ENTREGA\\u00a0VEJA OS OUTROS PRODUTOS DE NOSSA LOJA: Para visualizar nossos produtos no PC copie e cole no navegador: https://eshops.mercadolivre.com.br/toygamesml\\u00a0Para visualizar nossos produtos NO CELULAR, fa\\u00e7a o seguinte: vai em MAIS ANUNCIOS DO VENDEDOR debaixo da se\\u00e7\\u00e3o PERGUTAR do an\\u00fancio.\\u00a0A) COMO COMPRAR V\\u00c1RIOS PRODUTOS COM FRETE GR\\u00c1TIS NA LOJA TOYGAMES:1 - escolher os produtos em MAIS ANUNCIO DO VENDEDOR .2 - na p\\u00e1gina do produto, clicar no bot\\u00e3o ADICIONAR AO CARRINHO, que fica abaixo do pre\\u00e7o do an\\u00fancio.\\u00a03 - depois de escolhidos os produtos (acima de 60 reais), clique no carrinho que fica no canto superior direito do site, para efetuar o pagamento. Se o pedido ultrapassar 120 reais, o frete \\u00e9 gr\\u00e1tis. Benef\\u00edcio do Mercado Pontos.\\u00a0\\u00a0B) AP\\u00d3S A APROVA\\u00c7\\u00c3O DO PAGAMENTO, N\\u00c3O H\\u00c1 NECESSIDADE DE ENVIAR MENSAGENS SOBRE PRAZO DE ENVIO E ENTREGA. O SISTEMA \\u00c9 TODO AUTOMATIZADO.\\u00c9 s\\u00f3 efetuar o pagamento e aguardar o prazo de envio descrito no an\\u00fancio. Cliente recebe emails do mercado envios com rastreio para acompanhar o pedido.\\u00a0C) QUAL O VALOR DO FRETE? QUAL O PRAZO DE ENVIO E PRAZO DE ENTREGA?Caro cliente, para saber quanto pagar\\u00e1 de frete e previs\\u00e3o de prazo de entrega do produto, digite seu CEP logo abaixo do pre\\u00e7o do an\\u00fancio, em MODIFICAR.\\u00a01-Cliente efetua o pagamento 2- Mercado Pago que confirma o pagamento vai email. 3- Mercado Envios envia o rastreio no prazo de 1 a 5 dias (podendo ser enviado antes).\\u00a0- O prazo de entrega do sedex \\u00e9 em m\\u00e9dia 1 a 3 dias \\u00fateis ap\\u00f3s envio e o de Pac \\u00e9 em m\\u00e9dia de 5 a 10 dias \\u00fateis ap\\u00f3s envio.- Prazo de envio \\u00e9 no mesmo dia, caso a compra foi efetuada ate as 15:00 em dias \\u00fateis, caso contr\\u00e1rio, no pr\\u00f3ximo dia \\u00fatil.\\u00a0- Todos recebem o c\\u00f3digo automaticamente pelo sistema do Mercado Envios assim que a mercadoria for postada.\\u00a0- Muito simples, seguro e tranquilo comprar conosco.\\u00a0D)\\u00a0OUTRAS D\\u00daVIDAS?\\u00a0- Sistema do Mercado Envios \\u00e9 todo automatizado, n\\u00e3o h\\u00e1 necessidade do cliente enviar mensagens sobre envio e entrega.- Temos loja f\\u00edsica em Uberl\\u00e2ndia, mas compras pelo Mercado Livre, a entrega \\u00e9 feita somente pelos correios.- Aceitamos pagamento pelo Mercado Pago (n\\u00e3o precisa enviar comprovante, o pr\\u00f3prio Mercado Pago confirma o pagamento via email).- Pagamento por boleto do Mercado Pago \\u00e9 efetivado em at\\u00e9 48 horas.N\\u00e3o trabalhamos com troca, somente com vendas.- Todos nossos produtos s\\u00e3o 100% originais e tem 90 dias de garantia contra defeitos de fabrica\\u00e7\\u00e3o, n\\u00e3o cobrimos mau uso ou queda.- Caso clique em comprar no produto e o an\\u00fancio finalize, n\\u00e3o se preocupe, acontece isto porque houve o clique e era a \\u00faltima unidade. Produto fica reservado para voc\\u00ea, aguardando pagamento.- Clicando em comprar, voc\\u00ea estar\\u00e1 aceitando automaticamente os termos.Al\\u00e9m da certeza de receber o produto, n\\u00f3s visamos a satisfa\\u00e7\\u00e3o do cliente em primeiro lugar, oferecendo produtos de alta qualidade e v\\u00e1rias formas de pagamento.- Veja nossas qualifica\\u00e7\\u00f5es, elas s\\u00e3o as maiores provas do nosso respeito, agilidade e honestidade com nossos clientes.\",\n          \" A Cabana - Capa Do Filme  Produto Novo e F\\u00edsico  Durante uma viagem de fim de semana, a filha mais nova de Mack Allen Phillips \\u00e9 raptada e evid\\u00eancias de que ela foi brutalmente assassinada s\\u00e3o encontradas numa velha cabana. Ap\\u00f3s quatro anos vivendo numa tristeza profunda causada pela culpa e pela saudade da menina, Mack recebe um estranho bilhete, aparentemente escrito por Deus, convidando-o a voltar \\u00e0 cabana onde acontecera a trag\\u00e9dia. Apesar de desconfiado, ele vai ao local numa tarde de inverno e adentra passo a passo o cen\\u00e1rio de seu mais terr\\u00edvel pesadelo. Mas o que ele encontra l\\u00e1 muda o seu destino para sempre. Em um mundo cruel e injusto, \\\"A cabana\\\" levanta um questionamento atemporal: se Deus \\u00e9 t\\u00e3o poderoso, por que n\\u00e3o faz nada para amenizar nosso sofrimento? As respostas que Mack encontra v\\u00e3o surpreender voc\\u00ea e podem transformar sua vida de maneira t\\u00e3o profunda quanto transformaram a dele. Esta edi\\u00e7\\u00e3o especial inclui um texto in\\u00e9dito do autor, relembrando os 10 anos de sucesso que marcaram a trajet\\u00f3ria do livro e contando detalhes da grava\\u00e7\\u00e3o do filme. Al\\u00e9m disso, traz um caderno de fotos com cenas da adapta\\u00e7\\u00e3o desta hist\\u00f3ria para as telas do cinema.Caracter\\u00edsticasTipo de Produto: LivroMedidas (cm): 23.00 x 16.00 x 1.40 cmIdiomas: Portugu\\u00easAno: 2017Autor: William P. YoungISBN: 8580416345Editora: ArqueiroEdi\\u00e7\\u00e3o: 1\\u00aa Ed.Encaderna\\u00e7\\u00e3o: BrochuraN\\u00ba de P\\u00e1ginas: 248Mais Informa\\u00e7\\u00f5es: Tradutor: Alves Calado, Assunto: Romances, Origem: Nacional, C\\u00f3digo de Barras: 9788580416343\"\n        ],\n        \"semantic_type\": \"\",\n        \"description\": \"\"\n      }\n    }\n  ]\n}"
            }
          },
          "metadata": {},
          "execution_count": 5
        }
      ]
    },
    {
      "cell_type": "markdown",
      "metadata": {
        "id": "jX3VZnUVTWPM"
      },
      "source": [
        "#### 2.3. Quantos Unigramas existem antes e depois de remover stopwords (use a coluna texto)"
      ]
    },
    {
      "cell_type": "code",
      "source": [
        "from sklearn.feature_extraction.text import CountVectorizer # Converte uma coleção de documentos de texto em uma matriz de contagens de tokens\n",
        "\n",
        "vect = CountVectorizer(ngram_range=(1,1))\n",
        "vect.fit(df.texto)\n",
        "text_vect = vect.transform(df.texto)\n",
        "\n",
        "print('UNIGRAMAS com STOPWORDS', text_vect.shape[1])"
      ],
      "metadata": {
        "id": "OgMNE30-EP68",
        "colab": {
          "base_uri": "https://localhost:8080/"
        },
        "outputId": "df4819e9-7f0d-46af-e854-0fb90e9ce5ed"
      },
      "execution_count": 6,
      "outputs": [
        {
          "output_type": "stream",
          "name": "stdout",
          "text": [
            "UNIGRAMAS com STOPWORDS 35466\n"
          ]
        }
      ]
    },
    {
      "cell_type": "code",
      "source": [
        "len(vect.get_feature_names_out())"
      ],
      "metadata": {
        "id": "pHOzWU2rEP4h",
        "colab": {
          "base_uri": "https://localhost:8080/"
        },
        "outputId": "529414ae-998b-4738-f831-a9973f3f6b5f"
      },
      "execution_count": 7,
      "outputs": [
        {
          "output_type": "execute_result",
          "data": {
            "text/plain": [
              "35466"
            ]
          },
          "metadata": {},
          "execution_count": 7
        }
      ]
    },
    {
      "cell_type": "code",
      "source": [
        "import nltk\n",
        "nltk.download('stopwords')"
      ],
      "metadata": {
        "id": "hreIgihJEKrD",
        "colab": {
          "base_uri": "https://localhost:8080/"
        },
        "outputId": "bad00838-ba19-4243-d1db-6f377ad734e6"
      },
      "execution_count": 8,
      "outputs": [
        {
          "output_type": "stream",
          "name": "stderr",
          "text": [
            "[nltk_data] Downloading package stopwords to /root/nltk_data...\n",
            "[nltk_data]   Unzipping corpora/stopwords.zip.\n"
          ]
        },
        {
          "output_type": "execute_result",
          "data": {
            "text/plain": [
              "True"
            ]
          },
          "metadata": {},
          "execution_count": 8
        }
      ]
    },
    {
      "cell_type": "code",
      "source": [
        "from sklearn.feature_extraction.text import CountVectorizer\n",
        "\n",
        "stopwords = nltk.corpus.stopwords.words('portuguese')\n",
        "\n",
        "vect = CountVectorizer(ngram_range=(1,1), stop_words=stopwords)\n",
        "vect.fit(df.texto)\n",
        "text_vect = vect.transform(df.texto)\n",
        "\n",
        "print('UNIGRAMAS sem STOPWORDS', text_vect.shape[1])"
      ],
      "metadata": {
        "id": "0XyN_TZlEUa8",
        "colab": {
          "base_uri": "https://localhost:8080/"
        },
        "outputId": "15057171-7598-459c-dd85-09435f571074"
      },
      "execution_count": 9,
      "outputs": [
        {
          "output_type": "stream",
          "name": "stdout",
          "text": [
            "UNIGRAMAS sem STOPWORDS 35307\n"
          ]
        }
      ]
    },
    {
      "cell_type": "markdown",
      "metadata": {
        "id": "a87hK5PtTWPM"
      },
      "source": [
        "#### 2.4. Quantos Bigramas existem antes e depois de remover stopwords (use a coluna texto)"
      ]
    },
    {
      "cell_type": "code",
      "metadata": {
        "id": "bVWal6nhtlRE",
        "colab": {
          "base_uri": "https://localhost:8080/"
        },
        "outputId": "d97ad9f7-a463-43dd-fe85-c4e577f15d0d"
      },
      "source": [
        "from sklearn.feature_extraction.text import CountVectorizer\n",
        "\n",
        "vect = CountVectorizer(ngram_range=(2,2))\n",
        "vect.fit(df.texto)\n",
        "text_vect = vect.transform(df.texto)\n",
        "\n",
        "print('BIGRAMAS com STOPWORDS', text_vect.shape[1])"
      ],
      "execution_count": 10,
      "outputs": [
        {
          "output_type": "stream",
          "name": "stdout",
          "text": [
            "BIGRAMAS com STOPWORDS 159553\n"
          ]
        }
      ]
    },
    {
      "cell_type": "code",
      "metadata": {
        "id": "InldwDGxtlsd",
        "colab": {
          "base_uri": "https://localhost:8080/"
        },
        "outputId": "1552f144-4df4-4bb4-92f9-6382a94d5984"
      },
      "source": [
        "from sklearn.feature_extraction.text import CountVectorizer\n",
        "\n",
        "stopwords = nltk.corpus.stopwords.words('portuguese')\n",
        "\n",
        "vect = CountVectorizer(ngram_range=(2,2), stop_words=stopwords)\n",
        "vect.fit(df.texto)\n",
        "text_vect = vect.transform(df.texto)\n",
        "\n",
        "print('BIGRAMAS sem STOPWORDS', text_vect.shape[1])"
      ],
      "execution_count": 11,
      "outputs": [
        {
          "output_type": "stream",
          "name": "stdout",
          "text": [
            "BIGRAMAS sem STOPWORDS 145224\n"
          ]
        }
      ]
    },
    {
      "cell_type": "markdown",
      "metadata": {
        "id": "39tU4nHuTWPN"
      },
      "source": [
        "#### 2.5. Quantos Trigramas existem antes e depois de remover stopwords (use a coluna texto)"
      ]
    },
    {
      "cell_type": "code",
      "metadata": {
        "id": "VM0puN6Jt67t",
        "colab": {
          "base_uri": "https://localhost:8080/"
        },
        "outputId": "0b0d443e-2a55-4f65-c310-6f079c63b6a7"
      },
      "source": [
        "from sklearn.feature_extraction.text import CountVectorizer\n",
        "\n",
        "vect = CountVectorizer(ngram_range=(3,3))\n",
        "vect.fit(df.texto)\n",
        "text_vect = vect.transform(df.texto)\n",
        "\n",
        "print('TRIGRAMAS com STOPWORDS', text_vect.shape[1])"
      ],
      "execution_count": 12,
      "outputs": [
        {
          "output_type": "stream",
          "name": "stdout",
          "text": [
            "TRIGRAMAS com STOPWORDS 228162\n"
          ]
        }
      ]
    },
    {
      "cell_type": "code",
      "metadata": {
        "id": "DDfuZ3hht7Dh",
        "colab": {
          "base_uri": "https://localhost:8080/"
        },
        "outputId": "c71a42d8-50a2-4510-ad19-51c6c0af2014"
      },
      "source": [
        "from sklearn.feature_extraction.text import CountVectorizer\n",
        "\n",
        "stopwords = nltk.corpus.stopwords.words('portuguese')\n",
        "\n",
        "vect = CountVectorizer(ngram_range=(3,3), stop_words=stopwords)\n",
        "vect.fit(df.texto)\n",
        "text_vect = vect.transform(df.texto)\n",
        "\n",
        "print('TRIGRAMAS sem STOPWORDS', text_vect.shape[1])"
      ],
      "execution_count": 13,
      "outputs": [
        {
          "output_type": "stream",
          "name": "stdout",
          "text": [
            "TRIGRAMAS sem STOPWORDS 177377\n"
          ]
        }
      ]
    },
    {
      "cell_type": "markdown",
      "metadata": {
        "id": "HcTMZN5fTWPN"
      },
      "source": [
        "#### 2.6. Quantos unigramas existem na coluna texto após aplicar Stemmer (utilize rslp)"
      ]
    },
    {
      "cell_type": "code",
      "source": [
        "from nltk.tokenize import word_tokenize\n",
        "import nltk\n",
        "nltk.download('punkt')\n",
        "nltk.download('punkt_tab')"
      ],
      "metadata": {
        "id": "2IKQQvhxGYzL",
        "colab": {
          "base_uri": "https://localhost:8080/"
        },
        "outputId": "affc81f6-8cb9-4bf2-a5f3-c1a61747bf05"
      },
      "execution_count": 14,
      "outputs": [
        {
          "output_type": "stream",
          "name": "stderr",
          "text": [
            "[nltk_data] Downloading package punkt to /root/nltk_data...\n",
            "[nltk_data]   Unzipping tokenizers/punkt.zip.\n",
            "[nltk_data] Downloading package punkt_tab to /root/nltk_data...\n",
            "[nltk_data]   Unzipping tokenizers/punkt_tab.zip.\n"
          ]
        },
        {
          "output_type": "execute_result",
          "data": {
            "text/plain": [
              "True"
            ]
          },
          "metadata": {},
          "execution_count": 14
        }
      ]
    },
    {
      "cell_type": "code",
      "source": [
        "df['tokens'] = df.texto.apply(word_tokenize)"
      ],
      "metadata": {
        "id": "f0boTa6eGYwu"
      },
      "execution_count": 15,
      "outputs": []
    },
    {
      "cell_type": "code",
      "source": [
        "df.head()"
      ],
      "metadata": {
        "id": "H8nQlp9FGjdH",
        "colab": {
          "base_uri": "https://localhost:8080/",
          "height": 241
        },
        "outputId": "25f86eed-59f6-4a86-a22e-32ea7a829c7d"
      },
      "execution_count": 16,
      "outputs": [
        {
          "output_type": "execute_result",
          "data": {
            "text/plain": [
              "                                                nome  \\\n",
              "0                            O Hobbit - 7ª Ed. 2013    \n",
              "1                 Livro - It A Coisa - Stephen King    \n",
              "2   Box  As Crônicas De Gelo E Fogo  Pocket  5 Li...   \n",
              "3                                  Box Harry Potter    \n",
              "4                          Livro Origem - Dan Brown    \n",
              "\n",
              "                                           descricao categoria  \\\n",
              "0  Produto NovoBilbo Bolseiro é um hobbit que lev...     livro   \n",
              "1  Produto NovoDurante as férias escolares de 195...     livro   \n",
              "2  Produto NovoTodo o reino de Westeros ao alcanc...     livro   \n",
              "3  Produto Novo e Físico  A série Harry Potter ch...     livro   \n",
              "4  Produto NovoDe Onde Viemos? Para Onde Vamos? R...     livro   \n",
              "\n",
              "                                               texto  \\\n",
              "0   O Hobbit - 7ª Ed. 2013  Produto NovoBilbo Bol...   \n",
              "1   Livro - It A Coisa - Stephen King  Produto No...   \n",
              "2   Box  As Crônicas De Gelo E Fogo  Pocket  5 Li...   \n",
              "3   Box Harry Potter  Produto Novo e Físico  A sé...   \n",
              "4   Livro Origem - Dan Brown  Produto NovoDe Onde...   \n",
              "\n",
              "                                              tokens  \n",
              "0  [O, Hobbit, -, 7ª, Ed, ., 2013, Produto, NovoB...  \n",
              "1  [Livro, -, It, A, Coisa, -, Stephen, King, Pro...  \n",
              "2  [Box, As, Crônicas, De, Gelo, E, Fogo, Pocket,...  \n",
              "3  [Box, Harry, Potter, Produto, Novo, e, Físico,...  \n",
              "4  [Livro, Origem, -, Dan, Brown, Produto, NovoDe...  "
            ],
            "text/html": [
              "\n",
              "  <div id=\"df-50c7265e-dd7e-4dca-a1b4-de070c1e5bce\" class=\"colab-df-container\">\n",
              "    <div>\n",
              "<style scoped>\n",
              "    .dataframe tbody tr th:only-of-type {\n",
              "        vertical-align: middle;\n",
              "    }\n",
              "\n",
              "    .dataframe tbody tr th {\n",
              "        vertical-align: top;\n",
              "    }\n",
              "\n",
              "    .dataframe thead th {\n",
              "        text-align: right;\n",
              "    }\n",
              "</style>\n",
              "<table border=\"1\" class=\"dataframe\">\n",
              "  <thead>\n",
              "    <tr style=\"text-align: right;\">\n",
              "      <th></th>\n",
              "      <th>nome</th>\n",
              "      <th>descricao</th>\n",
              "      <th>categoria</th>\n",
              "      <th>texto</th>\n",
              "      <th>tokens</th>\n",
              "    </tr>\n",
              "  </thead>\n",
              "  <tbody>\n",
              "    <tr>\n",
              "      <th>0</th>\n",
              "      <td>O Hobbit - 7ª Ed. 2013</td>\n",
              "      <td>Produto NovoBilbo Bolseiro é um hobbit que lev...</td>\n",
              "      <td>livro</td>\n",
              "      <td>O Hobbit - 7ª Ed. 2013  Produto NovoBilbo Bol...</td>\n",
              "      <td>[O, Hobbit, -, 7ª, Ed, ., 2013, Produto, NovoB...</td>\n",
              "    </tr>\n",
              "    <tr>\n",
              "      <th>1</th>\n",
              "      <td>Livro - It A Coisa - Stephen King</td>\n",
              "      <td>Produto NovoDurante as férias escolares de 195...</td>\n",
              "      <td>livro</td>\n",
              "      <td>Livro - It A Coisa - Stephen King  Produto No...</td>\n",
              "      <td>[Livro, -, It, A, Coisa, -, Stephen, King, Pro...</td>\n",
              "    </tr>\n",
              "    <tr>\n",
              "      <th>2</th>\n",
              "      <td>Box  As Crônicas De Gelo E Fogo  Pocket  5 Li...</td>\n",
              "      <td>Produto NovoTodo o reino de Westeros ao alcanc...</td>\n",
              "      <td>livro</td>\n",
              "      <td>Box  As Crônicas De Gelo E Fogo  Pocket  5 Li...</td>\n",
              "      <td>[Box, As, Crônicas, De, Gelo, E, Fogo, Pocket,...</td>\n",
              "    </tr>\n",
              "    <tr>\n",
              "      <th>3</th>\n",
              "      <td>Box Harry Potter</td>\n",
              "      <td>Produto Novo e Físico  A série Harry Potter ch...</td>\n",
              "      <td>livro</td>\n",
              "      <td>Box Harry Potter  Produto Novo e Físico  A sé...</td>\n",
              "      <td>[Box, Harry, Potter, Produto, Novo, e, Físico,...</td>\n",
              "    </tr>\n",
              "    <tr>\n",
              "      <th>4</th>\n",
              "      <td>Livro Origem - Dan Brown</td>\n",
              "      <td>Produto NovoDe Onde Viemos? Para Onde Vamos? R...</td>\n",
              "      <td>livro</td>\n",
              "      <td>Livro Origem - Dan Brown  Produto NovoDe Onde...</td>\n",
              "      <td>[Livro, Origem, -, Dan, Brown, Produto, NovoDe...</td>\n",
              "    </tr>\n",
              "  </tbody>\n",
              "</table>\n",
              "</div>\n",
              "    <div class=\"colab-df-buttons\">\n",
              "\n",
              "  <div class=\"colab-df-container\">\n",
              "    <button class=\"colab-df-convert\" onclick=\"convertToInteractive('df-50c7265e-dd7e-4dca-a1b4-de070c1e5bce')\"\n",
              "            title=\"Convert this dataframe to an interactive table.\"\n",
              "            style=\"display:none;\">\n",
              "\n",
              "  <svg xmlns=\"http://www.w3.org/2000/svg\" height=\"24px\" viewBox=\"0 -960 960 960\">\n",
              "    <path d=\"M120-120v-720h720v720H120Zm60-500h600v-160H180v160Zm220 220h160v-160H400v160Zm0 220h160v-160H400v160ZM180-400h160v-160H180v160Zm440 0h160v-160H620v160ZM180-180h160v-160H180v160Zm440 0h160v-160H620v160Z\"/>\n",
              "  </svg>\n",
              "    </button>\n",
              "\n",
              "  <style>\n",
              "    .colab-df-container {\n",
              "      display:flex;\n",
              "      gap: 12px;\n",
              "    }\n",
              "\n",
              "    .colab-df-convert {\n",
              "      background-color: #E8F0FE;\n",
              "      border: none;\n",
              "      border-radius: 50%;\n",
              "      cursor: pointer;\n",
              "      display: none;\n",
              "      fill: #1967D2;\n",
              "      height: 32px;\n",
              "      padding: 0 0 0 0;\n",
              "      width: 32px;\n",
              "    }\n",
              "\n",
              "    .colab-df-convert:hover {\n",
              "      background-color: #E2EBFA;\n",
              "      box-shadow: 0px 1px 2px rgba(60, 64, 67, 0.3), 0px 1px 3px 1px rgba(60, 64, 67, 0.15);\n",
              "      fill: #174EA6;\n",
              "    }\n",
              "\n",
              "    .colab-df-buttons div {\n",
              "      margin-bottom: 4px;\n",
              "    }\n",
              "\n",
              "    [theme=dark] .colab-df-convert {\n",
              "      background-color: #3B4455;\n",
              "      fill: #D2E3FC;\n",
              "    }\n",
              "\n",
              "    [theme=dark] .colab-df-convert:hover {\n",
              "      background-color: #434B5C;\n",
              "      box-shadow: 0px 1px 3px 1px rgba(0, 0, 0, 0.15);\n",
              "      filter: drop-shadow(0px 1px 2px rgba(0, 0, 0, 0.3));\n",
              "      fill: #FFFFFF;\n",
              "    }\n",
              "  </style>\n",
              "\n",
              "    <script>\n",
              "      const buttonEl =\n",
              "        document.querySelector('#df-50c7265e-dd7e-4dca-a1b4-de070c1e5bce button.colab-df-convert');\n",
              "      buttonEl.style.display =\n",
              "        google.colab.kernel.accessAllowed ? 'block' : 'none';\n",
              "\n",
              "      async function convertToInteractive(key) {\n",
              "        const element = document.querySelector('#df-50c7265e-dd7e-4dca-a1b4-de070c1e5bce');\n",
              "        const dataTable =\n",
              "          await google.colab.kernel.invokeFunction('convertToInteractive',\n",
              "                                                    [key], {});\n",
              "        if (!dataTable) return;\n",
              "\n",
              "        const docLinkHtml = 'Like what you see? Visit the ' +\n",
              "          '<a target=\"_blank\" href=https://colab.research.google.com/notebooks/data_table.ipynb>data table notebook</a>'\n",
              "          + ' to learn more about interactive tables.';\n",
              "        element.innerHTML = '';\n",
              "        dataTable['output_type'] = 'display_data';\n",
              "        await google.colab.output.renderOutput(dataTable, element);\n",
              "        const docLink = document.createElement('div');\n",
              "        docLink.innerHTML = docLinkHtml;\n",
              "        element.appendChild(docLink);\n",
              "      }\n",
              "    </script>\n",
              "  </div>\n",
              "\n",
              "\n",
              "    <div id=\"df-48920d29-9a06-49cc-a6e6-675e7a72d50b\">\n",
              "      <button class=\"colab-df-quickchart\" onclick=\"quickchart('df-48920d29-9a06-49cc-a6e6-675e7a72d50b')\"\n",
              "                title=\"Suggest charts\"\n",
              "                style=\"display:none;\">\n",
              "\n",
              "<svg xmlns=\"http://www.w3.org/2000/svg\" height=\"24px\"viewBox=\"0 0 24 24\"\n",
              "     width=\"24px\">\n",
              "    <g>\n",
              "        <path d=\"M19 3H5c-1.1 0-2 .9-2 2v14c0 1.1.9 2 2 2h14c1.1 0 2-.9 2-2V5c0-1.1-.9-2-2-2zM9 17H7v-7h2v7zm4 0h-2V7h2v10zm4 0h-2v-4h2v4z\"/>\n",
              "    </g>\n",
              "</svg>\n",
              "      </button>\n",
              "\n",
              "<style>\n",
              "  .colab-df-quickchart {\n",
              "      --bg-color: #E8F0FE;\n",
              "      --fill-color: #1967D2;\n",
              "      --hover-bg-color: #E2EBFA;\n",
              "      --hover-fill-color: #174EA6;\n",
              "      --disabled-fill-color: #AAA;\n",
              "      --disabled-bg-color: #DDD;\n",
              "  }\n",
              "\n",
              "  [theme=dark] .colab-df-quickchart {\n",
              "      --bg-color: #3B4455;\n",
              "      --fill-color: #D2E3FC;\n",
              "      --hover-bg-color: #434B5C;\n",
              "      --hover-fill-color: #FFFFFF;\n",
              "      --disabled-bg-color: #3B4455;\n",
              "      --disabled-fill-color: #666;\n",
              "  }\n",
              "\n",
              "  .colab-df-quickchart {\n",
              "    background-color: var(--bg-color);\n",
              "    border: none;\n",
              "    border-radius: 50%;\n",
              "    cursor: pointer;\n",
              "    display: none;\n",
              "    fill: var(--fill-color);\n",
              "    height: 32px;\n",
              "    padding: 0;\n",
              "    width: 32px;\n",
              "  }\n",
              "\n",
              "  .colab-df-quickchart:hover {\n",
              "    background-color: var(--hover-bg-color);\n",
              "    box-shadow: 0 1px 2px rgba(60, 64, 67, 0.3), 0 1px 3px 1px rgba(60, 64, 67, 0.15);\n",
              "    fill: var(--button-hover-fill-color);\n",
              "  }\n",
              "\n",
              "  .colab-df-quickchart-complete:disabled,\n",
              "  .colab-df-quickchart-complete:disabled:hover {\n",
              "    background-color: var(--disabled-bg-color);\n",
              "    fill: var(--disabled-fill-color);\n",
              "    box-shadow: none;\n",
              "  }\n",
              "\n",
              "  .colab-df-spinner {\n",
              "    border: 2px solid var(--fill-color);\n",
              "    border-color: transparent;\n",
              "    border-bottom-color: var(--fill-color);\n",
              "    animation:\n",
              "      spin 1s steps(1) infinite;\n",
              "  }\n",
              "\n",
              "  @keyframes spin {\n",
              "    0% {\n",
              "      border-color: transparent;\n",
              "      border-bottom-color: var(--fill-color);\n",
              "      border-left-color: var(--fill-color);\n",
              "    }\n",
              "    20% {\n",
              "      border-color: transparent;\n",
              "      border-left-color: var(--fill-color);\n",
              "      border-top-color: var(--fill-color);\n",
              "    }\n",
              "    30% {\n",
              "      border-color: transparent;\n",
              "      border-left-color: var(--fill-color);\n",
              "      border-top-color: var(--fill-color);\n",
              "      border-right-color: var(--fill-color);\n",
              "    }\n",
              "    40% {\n",
              "      border-color: transparent;\n",
              "      border-right-color: var(--fill-color);\n",
              "      border-top-color: var(--fill-color);\n",
              "    }\n",
              "    60% {\n",
              "      border-color: transparent;\n",
              "      border-right-color: var(--fill-color);\n",
              "    }\n",
              "    80% {\n",
              "      border-color: transparent;\n",
              "      border-right-color: var(--fill-color);\n",
              "      border-bottom-color: var(--fill-color);\n",
              "    }\n",
              "    90% {\n",
              "      border-color: transparent;\n",
              "      border-bottom-color: var(--fill-color);\n",
              "    }\n",
              "  }\n",
              "</style>\n",
              "\n",
              "      <script>\n",
              "        async function quickchart(key) {\n",
              "          const quickchartButtonEl =\n",
              "            document.querySelector('#' + key + ' button');\n",
              "          quickchartButtonEl.disabled = true;  // To prevent multiple clicks.\n",
              "          quickchartButtonEl.classList.add('colab-df-spinner');\n",
              "          try {\n",
              "            const charts = await google.colab.kernel.invokeFunction(\n",
              "                'suggestCharts', [key], {});\n",
              "          } catch (error) {\n",
              "            console.error('Error during call to suggestCharts:', error);\n",
              "          }\n",
              "          quickchartButtonEl.classList.remove('colab-df-spinner');\n",
              "          quickchartButtonEl.classList.add('colab-df-quickchart-complete');\n",
              "        }\n",
              "        (() => {\n",
              "          let quickchartButtonEl =\n",
              "            document.querySelector('#df-48920d29-9a06-49cc-a6e6-675e7a72d50b button');\n",
              "          quickchartButtonEl.style.display =\n",
              "            google.colab.kernel.accessAllowed ? 'block' : 'none';\n",
              "        })();\n",
              "      </script>\n",
              "    </div>\n",
              "\n",
              "    </div>\n",
              "  </div>\n"
            ],
            "application/vnd.google.colaboratory.intrinsic+json": {
              "type": "dataframe",
              "variable_name": "df",
              "summary": "{\n  \"name\": \"df\",\n  \"rows\": 2916,\n  \"fields\": [\n    {\n      \"column\": \"nome\",\n      \"properties\": {\n        \"dtype\": \"string\",\n        \"num_unique_values\": 2584,\n        \"samples\": [\n          \" Naruto 4 Ps4 Midia F\\u00edsica 100% Em Portugu\\u00eas Storm Shippuden \",\n          \" Cole\\u00e7\\u00e3o Harry Potter - Capa Branca (7 Livros) # \",\n          \" L\\u00e2mina Circular 8 Pontas - Agulhas Tebori Micropigmenta\\u00e7\\u00e3o \"\n        ],\n        \"semantic_type\": \"\",\n        \"description\": \"\"\n      }\n    },\n    {\n      \"column\": \"descricao\",\n      \"properties\": {\n        \"dtype\": \"string\",\n        \"num_unique_values\": 2460,\n        \"samples\": [\n          \"DESCRI\\u00c7\\u00c3O DO KIT MAQUIAGEM V255:- 1 Base L\\u00edquida Matte Luxo Ruby  - 1 Primer Facial PRE BASE AVON  - 1 P\\u00f3 F\\u00e1cial Compacto Mattte Ruby - 1 Demaquilante AVON  - 1 Corretivo em Bast\\u00e3o e Corretivo L\\u00edquido 2 em 1 Ruby Rose  - 1 Creme Hidratante prote\\u00e7\\u00e3o 24 horas AVON   - 1 Kit Cuidados com a Pele Mary Kay  - 24 Cores de Sombra Matte Fosca paleta profissional Bella Angel  - 1 Lip Gloss Labial  - 1 Batons Matte Fosco Queen  - 1 Batom Ultra color Matte AVON - 1 Lip Gloss Labial AVON - 1 Batom e Batom Matte Liquido 2 em 1 Ruby Rose  - 1 P\\u00f3 Bronzeador Bella Angel ou Vult  - 1 Esmalte secagem r\\u00e1pida AVON  - 1 M\\u00e1scara para os C\\u00edlios Black Extra Volume AVON  - 1 apontador Duplo profissional Macrilan  - 1 Pin\\u00e7a profissional Macrilan  - 25 len\\u00e7os demaquilantes Macrilan  - 2 Esponjas para aplicar maquiagem Macrilan - 12 pinceis profissionais Cabo de Madeira Duo Fiber Macrilan  Descri\\u00e7\\u00e3o do Kit Profissional de Pinceis:- 1 Carteira para pinceis Luxo original Macrilan  - 1 pincel para P\\u00f3 facial, cabo de Madeira cerdas Macias 19cm  - 1 pincel para blush chanfrado , cabo de Madeira cerdas Macias 19cm  - 1 pincel para base, cabo de Madeira cerdas Macias 19cm  - 1 pincel duo fiber , cabo de Madeira cerdas Macias 19cm  - 1 pincel para esfumar c\\u00f4ncavo , cabo de Madeira cerdas Macias 19cm  - 5 pinceis para olhos , cabo de Madeira cerdas Macias 19cm  - 1 pincel para boca , cabo de Madeira cerdas Macias 19cm  - 1 Pincel pente para sobrancelhas , cabo de Madeira cerdas Macias 19cm  Descri\\u00e7\\u00e3o da Maleta :- Maleta especial para Maquiador , pr\\u00f3pria para transportar maquiagem e produtos de cuidado com a pele , Maleta com divis\\u00f3rias . Ajuste as divis\\u00f3rias da melhor forma para acomodar separadamente seu material de trabalho. Resistente e pr\\u00e1tica.- 1 Maleta Grande Profissional  -Cantoneiras em a\\u00e7o inox polido - 4 p\\u00e9s de apoio - Al\\u00e7a de M\\u00e3o em alum\\u00ednio  - fechaduras com chave - Divis\\u00f3rias ajust\\u00e1veis - 6 Bandejas deslizantes  - Medidas : 36cm x 26cm x 26cmTemos a Maleta dispon\\u00edvel na cor : Prata, Preta\",\n          \"C\\u00edlios Posti\\u00e7os para aplica\\u00e7\\u00e3o Fio a Fio NavinaOp\\u00e7\\u00f5es dispon\\u00edveis - 8mm, 10mm, 12mm e 14mmPre\\u00e7o referente a 1 caixa.Este kit n\\u00e3o cont\\u00e9m cola.Ap\\u00f3s o pagamento escolha entre os tamanhos e envie mensagem no campo de perguntas do Mercado Livre.SE OS TAMANHOS N\\u00c3O FOREM INFORMADOS, O ENVIO SER\\u00c1 ALEAT\\u00d3RIO!!!!\",\n          \"Descri\\u00e7\\u00e3o do Kit Ninja (Foto):Duas Kunais de Borracha de 25cmDuas Shurikens de Borracha com 10cm\\u00a0\"\n        ],\n        \"semantic_type\": \"\",\n        \"description\": \"\"\n      }\n    },\n    {\n      \"column\": \"categoria\",\n      \"properties\": {\n        \"dtype\": \"category\",\n        \"num_unique_values\": 4,\n        \"samples\": [\n          \"brinquedo\",\n          \"game\",\n          \"livro\"\n        ],\n        \"semantic_type\": \"\",\n        \"description\": \"\"\n      }\n    },\n    {\n      \"column\": \"texto\",\n      \"properties\": {\n        \"dtype\": \"string\",\n        \"num_unique_values\": 2646,\n        \"samples\": [\n          \" Kit Maquiagem Iluminador N1  Sombras P\\u00f3  Corretivo Miss Rose  Kit de Maquiagem com paleta de Iluminador N1, Sombras Nudes, P\\u00f3 Compacto e Corretivo Miss Rose\\u00c9 composta por um mix de sombras com brilho, cintilantes e mates. Os tons s\\u00e3o quentes e neutros, perfeitos para as pessoas que gostam de tons terrosos e acinzentados. Possui alta fixa\\u00e7\\u00e3o, cores super pigmentadas, seu acabamento \\u00e9 aveludado e para ser usada em todas as ocasi\\u00f5es, pois deixa a pele com um aspecto mais natural e saud\\u00e1vel. Iluminador 024N1: \\u00c9 um dos truques infal\\u00edveis para deixar a maquiagem com um acabamento sofisticado e natural, dando vi\\u00e7o \\u00e0 pele. O Iluminador Glow Kit da Miss Rose \\u00e9 para ser usado em partes espec\\u00edficas do rosto, aquelas que voc\\u00ea gostaria de destacar, como as t\\u00eamporas e o arco abaixo das sobrancelhas. Vers\\u00e1til, pode ser usado em v\\u00e1rias ocasi\\u00f5es e tem passe livre em todos os tipos de pele.Paleta de corretivo 15 cores: \\u00c9 uma paleta de corretivo com 15 tons e tem como fun\\u00e7\\u00e3o disfar\\u00e7ar ou clarear principalmente olheiras e imperfei\\u00e7\\u00f5es da pele, como manchas, sardas (pra quem n\\u00e3o gosta), sinais, cicatrizes. Enfim, para camuflar o que voc\\u00ea n\\u00e3o quer mostrar.Sua fixa\\u00e7\\u00e3o e pigmenta\\u00e7\\u00e3o permite que voc\\u00ea passe o dia todo bem maquiada e sem precisar retocar.Paleta de p\\u00f3 compacto com 15 tonalidades: \\u00c9 um produto de participa\\u00e7\\u00e3o muito importante na maquiagem, pois atrav\\u00e9s dele teremos um acabamento transl\\u00facido e com o objetivo de uniformizar a pele. Para um efeito suave e de muita naturalidade. Serve para manter a pele com um aspecto sequinho e tirar o brilho. Ao utilizar o p\\u00f3 facial, o objetivo \\u00e9 deixar a pele com um acabamento transl\\u00facido e uniforme. Para um efeito suave e de muita naturalidade, \\u00e9 preciso escolher o tom de p\\u00f3 que combina com o seu tom de pele.O que voc\\u00ea est\\u00e1 comprando:01 Paleta 88 cores Nude 01 Paleta Glow Kit 024N101 Paleta de Corretivo 15 cores01 Paleta de p\\u00f3 15 coresSeu pedido despachado em menos de 24 horas \\u00fateis.Prazos de entrega:Expresso 3 \\u00e0 5 dias \\u00fateis Normal 7 \\u00e0 15 dias \\u00fateis. O prazo de entrega pode variar para as localidades com restri\\u00e7\\u00e3o tempor\\u00e1ria ou permanentee tamb\\u00e9m para estas localidades:Interior de: AC, AL, AM, AP, BA, CE, MA, MT, PA e PBCapitais de: RJ, MA e PB\",\n          \" Boneco Hulk Verde Premium 55 Cm - Gigante Mimo Original  Boneco Hulk Verde\\u00a0Premiumr Gigante 55 Cm Mimo PRODUTO NOVO / ENTREGA IMEDIATA !!! Descri\\u00e7\\u00e3o \\u00a0 Chegaram os incriveis Bonecos Marvel. 3 pontos , Bra\\u00e7o, Perna e Cabe\\u00e7a  Especifica\\u00e7\\u00f5es  Itens Inclusos: 01 boneco.  Recomenda\\u00e7\\u00e3o: Para crian\\u00e7as maiores de 3 anos de idade.  Restri\\u00e7\\u00e3o de Idade: N\\u00e3o recomend\\u00e1vel para menores de 3 anos por conter pe\\u00e7as pequenas que podem ser engolidas.  Aviso: As cores podem variar entre as imagens mostradas acima e o produto. Imagens meramente ilustrativas.  Certificado: Certificado pelos \\u00d3rg\\u00e3os Autorizados - OCP\\u00b4S (Organismos de Certifica\\u00e7\\u00e3o de Produtos)  Composi\\u00e7\\u00e3o / Material: PVC at\\u00f3xico.  Peso: 640 gr.  Dimens\\u00f5es (AxLxC): Aproximadamente 55 cent\\u00edmetros de altura.   \\u00a0\\u00a0SOMOS A LOJA TOYGAMES\\u00a0PRODUTO ORIGINAL, NOVO, LACRADO, COM GARANTIA E A PRONTA ENTREGA\\u00a0VEJA OS OUTROS PRODUTOS DE NOSSA LOJA: Para visualizar nossos produtos no PC copie e cole no navegador: https://eshops.mercadolivre.com.br/toygamesml\\u00a0Para visualizar nossos produtos NO CELULAR, fa\\u00e7a o seguinte: vai em MAIS ANUNCIOS DO VENDEDOR debaixo da se\\u00e7\\u00e3o PERGUTAR do an\\u00fancio.\\u00a0A) COMO COMPRAR V\\u00c1RIOS PRODUTOS COM FRETE GR\\u00c1TIS NA LOJA TOYGAMES:1 - escolher os produtos em MAIS ANUNCIO DO VENDEDOR .2 - na p\\u00e1gina do produto, clicar no bot\\u00e3o ADICIONAR AO CARRINHO, que fica abaixo do pre\\u00e7o do an\\u00fancio.\\u00a03 - depois de escolhidos os produtos (acima de 60 reais), clique no carrinho que fica no canto superior direito do site, para efetuar o pagamento. Se o pedido ultrapassar 120 reais, o frete \\u00e9 gr\\u00e1tis. Benef\\u00edcio do Mercado Pontos.\\u00a0\\u00a0B) AP\\u00d3S A APROVA\\u00c7\\u00c3O DO PAGAMENTO, N\\u00c3O H\\u00c1 NECESSIDADE DE ENVIAR MENSAGENS SOBRE PRAZO DE ENVIO E ENTREGA. O SISTEMA \\u00c9 TODO AUTOMATIZADO.\\u00c9 s\\u00f3 efetuar o pagamento e aguardar o prazo de envio descrito no an\\u00fancio. Cliente recebe emails do mercado envios com rastreio para acompanhar o pedido.\\u00a0C) QUAL O VALOR DO FRETE? QUAL O PRAZO DE ENVIO E PRAZO DE ENTREGA?Caro cliente, para saber quanto pagar\\u00e1 de frete e previs\\u00e3o de prazo de entrega do produto, digite seu CEP logo abaixo do pre\\u00e7o do an\\u00fancio, em MODIFICAR.\\u00a01-Cliente efetua o pagamento 2- Mercado Pago que confirma o pagamento vai email. 3- Mercado Envios envia o rastreio no prazo de 1 a 5 dias (podendo ser enviado antes).\\u00a0- O prazo de entrega do sedex \\u00e9 em m\\u00e9dia 1 a 3 dias \\u00fateis ap\\u00f3s envio e o de Pac \\u00e9 em m\\u00e9dia de 5 a 10 dias \\u00fateis ap\\u00f3s envio.- Prazo de envio \\u00e9 no mesmo dia, caso a compra foi efetuada ate as 15:00 em dias \\u00fateis, caso contr\\u00e1rio, no pr\\u00f3ximo dia \\u00fatil.\\u00a0- Todos recebem o c\\u00f3digo automaticamente pelo sistema do Mercado Envios assim que a mercadoria for postada.\\u00a0- Muito simples, seguro e tranquilo comprar conosco.\\u00a0D)\\u00a0OUTRAS D\\u00daVIDAS?\\u00a0- Sistema do Mercado Envios \\u00e9 todo automatizado, n\\u00e3o h\\u00e1 necessidade do cliente enviar mensagens sobre envio e entrega.- Temos loja f\\u00edsica em Uberl\\u00e2ndia, mas compras pelo Mercado Livre, a entrega \\u00e9 feita somente pelos correios.- Aceitamos pagamento pelo Mercado Pago (n\\u00e3o precisa enviar comprovante, o pr\\u00f3prio Mercado Pago confirma o pagamento via email).- Pagamento por boleto do Mercado Pago \\u00e9 efetivado em at\\u00e9 48 horas.N\\u00e3o trabalhamos com troca, somente com vendas.- Todos nossos produtos s\\u00e3o 100% originais e tem 90 dias de garantia contra defeitos de fabrica\\u00e7\\u00e3o, n\\u00e3o cobrimos mau uso ou queda.- Caso clique em comprar no produto e o an\\u00fancio finalize, n\\u00e3o se preocupe, acontece isto porque houve o clique e era a \\u00faltima unidade. Produto fica reservado para voc\\u00ea, aguardando pagamento.- Clicando em comprar, voc\\u00ea estar\\u00e1 aceitando automaticamente os termos.Al\\u00e9m da certeza de receber o produto, n\\u00f3s visamos a satisfa\\u00e7\\u00e3o do cliente em primeiro lugar, oferecendo produtos de alta qualidade e v\\u00e1rias formas de pagamento.- Veja nossas qualifica\\u00e7\\u00f5es, elas s\\u00e3o as maiores provas do nosso respeito, agilidade e honestidade com nossos clientes.\",\n          \" A Cabana - Capa Do Filme  Produto Novo e F\\u00edsico  Durante uma viagem de fim de semana, a filha mais nova de Mack Allen Phillips \\u00e9 raptada e evid\\u00eancias de que ela foi brutalmente assassinada s\\u00e3o encontradas numa velha cabana. Ap\\u00f3s quatro anos vivendo numa tristeza profunda causada pela culpa e pela saudade da menina, Mack recebe um estranho bilhete, aparentemente escrito por Deus, convidando-o a voltar \\u00e0 cabana onde acontecera a trag\\u00e9dia. Apesar de desconfiado, ele vai ao local numa tarde de inverno e adentra passo a passo o cen\\u00e1rio de seu mais terr\\u00edvel pesadelo. Mas o que ele encontra l\\u00e1 muda o seu destino para sempre. Em um mundo cruel e injusto, \\\"A cabana\\\" levanta um questionamento atemporal: se Deus \\u00e9 t\\u00e3o poderoso, por que n\\u00e3o faz nada para amenizar nosso sofrimento? As respostas que Mack encontra v\\u00e3o surpreender voc\\u00ea e podem transformar sua vida de maneira t\\u00e3o profunda quanto transformaram a dele. Esta edi\\u00e7\\u00e3o especial inclui um texto in\\u00e9dito do autor, relembrando os 10 anos de sucesso que marcaram a trajet\\u00f3ria do livro e contando detalhes da grava\\u00e7\\u00e3o do filme. Al\\u00e9m disso, traz um caderno de fotos com cenas da adapta\\u00e7\\u00e3o desta hist\\u00f3ria para as telas do cinema.Caracter\\u00edsticasTipo de Produto: LivroMedidas (cm): 23.00 x 16.00 x 1.40 cmIdiomas: Portugu\\u00easAno: 2017Autor: William P. YoungISBN: 8580416345Editora: ArqueiroEdi\\u00e7\\u00e3o: 1\\u00aa Ed.Encaderna\\u00e7\\u00e3o: BrochuraN\\u00ba de P\\u00e1ginas: 248Mais Informa\\u00e7\\u00f5es: Tradutor: Alves Calado, Assunto: Romances, Origem: Nacional, C\\u00f3digo de Barras: 9788580416343\"\n        ],\n        \"semantic_type\": \"\",\n        \"description\": \"\"\n      }\n    },\n    {\n      \"column\": \"tokens\",\n      \"properties\": {\n        \"dtype\": \"object\",\n        \"semantic_type\": \"\",\n        \"description\": \"\"\n      }\n    }\n  ]\n}"
            }
          },
          "metadata": {},
          "execution_count": 16
        }
      ]
    },
    {
      "cell_type": "code",
      "source": [
        "from nltk.stem.rslp import RSLPStemmer\n",
        "import nltk\n",
        "nltk.download('rslp')\n",
        "\n",
        "rslp = RSLPStemmer()\n",
        "\n",
        "def stem_pandas(doc):\n",
        "  return ' '.join([rslp.stem(token) for token in doc])\n",
        "\n",
        "df['stemmer'] = df.tokens.apply(stem_pandas)\n",
        "\n",
        "df.stemmer.head()"
      ],
      "metadata": {
        "id": "bbriyFGkGYrG",
        "colab": {
          "base_uri": "https://localhost:8080/",
          "height": 275
        },
        "outputId": "4d8d780c-86dc-4c3a-b65a-b5ee32eab014"
      },
      "execution_count": 17,
      "outputs": [
        {
          "output_type": "stream",
          "name": "stderr",
          "text": [
            "[nltk_data] Downloading package rslp to /root/nltk_data...\n",
            "[nltk_data]   Unzipping stemmers/rslp.zip.\n"
          ]
        },
        {
          "output_type": "execute_result",
          "data": {
            "text/plain": [
              "0    o hobbit - 7ª ed . 2013 produt novobilb bols é...\n",
              "1    livr - it a cois - stephen king produt novodur...\n",
              "2    box as crôn de gel e fog pocket 5 livr produt ...\n",
              "3    box harry pott produt nov e físic a séri harry...\n",
              "4    livr orig - dan brown produt novod ond vi ? pa...\n",
              "Name: stemmer, dtype: object"
            ],
            "text/html": [
              "<div>\n",
              "<style scoped>\n",
              "    .dataframe tbody tr th:only-of-type {\n",
              "        vertical-align: middle;\n",
              "    }\n",
              "\n",
              "    .dataframe tbody tr th {\n",
              "        vertical-align: top;\n",
              "    }\n",
              "\n",
              "    .dataframe thead th {\n",
              "        text-align: right;\n",
              "    }\n",
              "</style>\n",
              "<table border=\"1\" class=\"dataframe\">\n",
              "  <thead>\n",
              "    <tr style=\"text-align: right;\">\n",
              "      <th></th>\n",
              "      <th>stemmer</th>\n",
              "    </tr>\n",
              "  </thead>\n",
              "  <tbody>\n",
              "    <tr>\n",
              "      <th>0</th>\n",
              "      <td>o hobbit - 7ª ed . 2013 produt novobilb bols é...</td>\n",
              "    </tr>\n",
              "    <tr>\n",
              "      <th>1</th>\n",
              "      <td>livr - it a cois - stephen king produt novodur...</td>\n",
              "    </tr>\n",
              "    <tr>\n",
              "      <th>2</th>\n",
              "      <td>box as crôn de gel e fog pocket 5 livr produt ...</td>\n",
              "    </tr>\n",
              "    <tr>\n",
              "      <th>3</th>\n",
              "      <td>box harry pott produt nov e físic a séri harry...</td>\n",
              "    </tr>\n",
              "    <tr>\n",
              "      <th>4</th>\n",
              "      <td>livr orig - dan brown produt novod ond vi ? pa...</td>\n",
              "    </tr>\n",
              "  </tbody>\n",
              "</table>\n",
              "</div><br><label><b>dtype:</b> object</label>"
            ]
          },
          "metadata": {},
          "execution_count": 17
        }
      ]
    },
    {
      "cell_type": "code",
      "source": [
        "from sklearn.feature_extraction.text import CountVectorizer\n",
        "\n",
        "vect = CountVectorizer(ngram_range=(1,1))\n",
        "vect.fit(df.stemmer)\n",
        "text_vect = vect.transform(df.stemmer)\n",
        "\n",
        "print('UNIGRAMAS com STOPWORDS', text_vect.shape[1])"
      ],
      "metadata": {
        "id": "cDYaX8PUGxiQ",
        "colab": {
          "base_uri": "https://localhost:8080/"
        },
        "outputId": "0ae29115-8cdc-4476-9138-78b6b6d2c6e7"
      },
      "execution_count": 18,
      "outputs": [
        {
          "output_type": "stream",
          "name": "stdout",
          "text": [
            "UNIGRAMAS com STOPWORDS 26532\n"
          ]
        }
      ]
    },
    {
      "cell_type": "code",
      "source": [
        "nltk.download('stopwords')\n",
        "stopwords = nltk.corpus.stopwords.words('portuguese')\n",
        "\n",
        "vect = CountVectorizer(ngram_range=(1,1), stop_words=stopwords)\n",
        "vect.fit(df.stemmer)\n",
        "\n",
        "text_vect = vect.transform(df.stemmer)\n",
        "\n",
        "print('UNIGRAMAS sem STOPWORDS', text_vect.shape[1])"
      ],
      "metadata": {
        "id": "q7j6tWm3GxgQ",
        "colab": {
          "base_uri": "https://localhost:8080/"
        },
        "outputId": "4770bd66-8368-4e1a-9a8d-9605241b7a5b"
      },
      "execution_count": 20,
      "outputs": [
        {
          "output_type": "stream",
          "name": "stderr",
          "text": [
            "[nltk_data] Downloading package stopwords to /root/nltk_data...\n",
            "[nltk_data]   Package stopwords is already up-to-date!\n"
          ]
        },
        {
          "output_type": "stream",
          "name": "stdout",
          "text": [
            "UNIGRAMAS sem STOPWORDS 26465\n"
          ]
        }
      ]
    },
    {
      "cell_type": "markdown",
      "source": [
        "Documento/Texto: \"um dois três quatro\"\n",
        "\n",
        "\t•\tUnigrama [\"um\",\"dois\",\"três\",\"quatro\"], temos 4 unigramas.\n",
        "\t•\tBigrama  [\"um dois\",\"dois três\",\"três quatro\"], temos 3 bigramas.\n",
        "\t•\tTrigrama [\"um dois três\",\"dois três quatro\"], temos 2 trigramas.\n",
        "\t•\t4-grama  [\"um dois três quatro\"], temos um 4-grama.\n",
        "\n",
        "Documento/Texto: “um dois três quatro um três um”\n",
        "\n",
        "\t•\tUnigrama [\"um\",\"dois\",\"três\",\"quatro\"], temos 4 unigramas.\n",
        "\t•\tBigrama [\"um dois\",\"dois três\",\"três quatro\",\"quatro um\",\"um três\",\"três um\"], temos 6 bigramas.\n",
        "\t•\tTrigrama [\"um dois três\",\"dois três quatro\",\"três quatro um\",\"quatro um três\",\"um três um\"], temos 5 trigramas.\n",
        "\t•\t4-grama [\"um dois três quatro\",\"dois três quatro um\",\"três quatro um três\",\"quatro um três um\"], temos 4 4-grama.\n"
      ],
      "metadata": {
        "id": "KRczmRn1lRgG"
      }
    }
  ]
}